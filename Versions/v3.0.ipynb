{
  "nbformat": 4,
  "nbformat_minor": 0,
  "metadata": {
    "colab": {
      "provenance": [],
      "gpuType": "T4"
    },
    "kernelspec": {
      "name": "python3",
      "display_name": "Python 3"
    },
    "language_info": {
      "name": "python"
    },
    "accelerator": "GPU"
  },
  "cells": [
    {
      "cell_type": "code",
      "source": [
        "!pip install torch==2.3.0+cu118 torchvision torchaudio --index-url https://download.pytorch.org/whl/cu118\n",
        "!pip install transformers datasets tensorboard ninja\n"
      ],
      "metadata": {
        "colab": {
          "base_uri": "https://localhost:8080/"
        },
        "id": "79H6Ze9_cGki",
        "outputId": "a3f85e94-70f9-4060-cd9a-e86053540323"
      },
      "execution_count": 1,
      "outputs": [
        {
          "output_type": "stream",
          "name": "stdout",
          "text": [
            "Looking in indexes: https://download.pytorch.org/whl/cu118\n",
            "Collecting torch==2.3.0+cu118\n",
            "  Downloading https://download.pytorch.org/whl/cu118/torch-2.3.0%2Bcu118-cp311-cp311-linux_x86_64.whl (839.7 MB)\n",
            "\u001b[2K     \u001b[90m━━━━━━━━━━━━━━━━━━━━━━━━━━━━━━━━━━━━━\u001b[0m \u001b[32m839.7/839.7 MB\u001b[0m \u001b[31m927.3 kB/s\u001b[0m eta \u001b[36m0:00:00\u001b[0m\n",
            "\u001b[?25hRequirement already satisfied: torchvision in /usr/local/lib/python3.11/dist-packages (0.21.0+cu124)\n",
            "Requirement already satisfied: torchaudio in /usr/local/lib/python3.11/dist-packages (2.6.0+cu124)\n",
            "Requirement already satisfied: filelock in /usr/local/lib/python3.11/dist-packages (from torch==2.3.0+cu118) (3.18.0)\n",
            "Requirement already satisfied: typing-extensions>=4.8.0 in /usr/local/lib/python3.11/dist-packages (from torch==2.3.0+cu118) (4.13.2)\n",
            "Requirement already satisfied: sympy in /usr/local/lib/python3.11/dist-packages (from torch==2.3.0+cu118) (1.13.1)\n",
            "Requirement already satisfied: networkx in /usr/local/lib/python3.11/dist-packages (from torch==2.3.0+cu118) (3.4.2)\n",
            "Requirement already satisfied: jinja2 in /usr/local/lib/python3.11/dist-packages (from torch==2.3.0+cu118) (3.1.6)\n",
            "Requirement already satisfied: fsspec in /usr/local/lib/python3.11/dist-packages (from torch==2.3.0+cu118) (2025.3.2)\n",
            "Collecting nvidia-cuda-nvrtc-cu11==11.8.89 (from torch==2.3.0+cu118)\n",
            "  Downloading https://download.pytorch.org/whl/cu118/nvidia_cuda_nvrtc_cu11-11.8.89-py3-none-manylinux1_x86_64.whl (23.2 MB)\n",
            "\u001b[2K     \u001b[90m━━━━━━━━━━━━━━━━━━━━━━━━━━━━━━━━━━━━━━━━\u001b[0m \u001b[32m23.2/23.2 MB\u001b[0m \u001b[31m96.9 MB/s\u001b[0m eta \u001b[36m0:00:00\u001b[0m\n",
            "\u001b[?25hCollecting nvidia-cuda-runtime-cu11==11.8.89 (from torch==2.3.0+cu118)\n",
            "  Downloading https://download.pytorch.org/whl/cu118/nvidia_cuda_runtime_cu11-11.8.89-py3-none-manylinux1_x86_64.whl (875 kB)\n",
            "\u001b[2K     \u001b[90m━━━━━━━━━━━━━━━━━━━━━━━━━━━━━━━━━━━━━━\u001b[0m \u001b[32m875.6/875.6 kB\u001b[0m \u001b[31m63.6 MB/s\u001b[0m eta \u001b[36m0:00:00\u001b[0m\n",
            "\u001b[?25hCollecting nvidia-cuda-cupti-cu11==11.8.87 (from torch==2.3.0+cu118)\n",
            "  Downloading https://download.pytorch.org/whl/cu118/nvidia_cuda_cupti_cu11-11.8.87-py3-none-manylinux1_x86_64.whl (13.1 MB)\n",
            "\u001b[2K     \u001b[90m━━━━━━━━━━━━━━━━━━━━━━━━━━━━━━━━━━━━━━━\u001b[0m \u001b[32m13.1/13.1 MB\u001b[0m \u001b[31m125.5 MB/s\u001b[0m eta \u001b[36m0:00:00\u001b[0m\n",
            "\u001b[?25hCollecting nvidia-cudnn-cu11==8.7.0.84 (from torch==2.3.0+cu118)\n",
            "  Downloading https://download.pytorch.org/whl/cu118/nvidia_cudnn_cu11-8.7.0.84-py3-none-manylinux1_x86_64.whl (728.5 MB)\n",
            "\u001b[2K     \u001b[90m━━━━━━━━━━━━━━━━━━━━━━━━━━━━━━━━━━━━━━━\u001b[0m \u001b[32m728.5/728.5 MB\u001b[0m \u001b[31m1.2 MB/s\u001b[0m eta \u001b[36m0:00:00\u001b[0m\n",
            "\u001b[?25hCollecting nvidia-cublas-cu11==11.11.3.6 (from torch==2.3.0+cu118)\n",
            "  Downloading https://download.pytorch.org/whl/cu118/nvidia_cublas_cu11-11.11.3.6-py3-none-manylinux1_x86_64.whl (417.9 MB)\n",
            "\u001b[2K     \u001b[90m━━━━━━━━━━━━━━━━━━━━━━━━━━━━━━━━━━━━━━━\u001b[0m \u001b[32m417.9/417.9 MB\u001b[0m \u001b[31m1.3 MB/s\u001b[0m eta \u001b[36m0:00:00\u001b[0m\n",
            "\u001b[?25hCollecting nvidia-cufft-cu11==10.9.0.58 (from torch==2.3.0+cu118)\n",
            "  Downloading https://download.pytorch.org/whl/cu118/nvidia_cufft_cu11-10.9.0.58-py3-none-manylinux1_x86_64.whl (168.4 MB)\n",
            "\u001b[2K     \u001b[90m━━━━━━━━━━━━━━━━━━━━━━━━━━━━━━━━━━━━━━━\u001b[0m \u001b[32m168.4/168.4 MB\u001b[0m \u001b[31m6.5 MB/s\u001b[0m eta \u001b[36m0:00:00\u001b[0m\n",
            "\u001b[?25hCollecting nvidia-curand-cu11==10.3.0.86 (from torch==2.3.0+cu118)\n",
            "  Downloading https://download.pytorch.org/whl/cu118/nvidia_curand_cu11-10.3.0.86-py3-none-manylinux1_x86_64.whl (58.1 MB)\n",
            "\u001b[2K     \u001b[90m━━━━━━━━━━━━━━━━━━━━━━━━━━━━━━━━━━━━━━━━\u001b[0m \u001b[32m58.1/58.1 MB\u001b[0m \u001b[31m13.3 MB/s\u001b[0m eta \u001b[36m0:00:00\u001b[0m\n",
            "\u001b[?25hCollecting nvidia-cusolver-cu11==11.4.1.48 (from torch==2.3.0+cu118)\n",
            "  Downloading https://download.pytorch.org/whl/cu118/nvidia_cusolver_cu11-11.4.1.48-py3-none-manylinux1_x86_64.whl (128.2 MB)\n",
            "\u001b[2K     \u001b[90m━━━━━━━━━━━━━━━━━━━━━━━━━━━━━━━━━━━━━━━\u001b[0m \u001b[32m128.2/128.2 MB\u001b[0m \u001b[31m7.5 MB/s\u001b[0m eta \u001b[36m0:00:00\u001b[0m\n",
            "\u001b[?25hCollecting nvidia-cusparse-cu11==11.7.5.86 (from torch==2.3.0+cu118)\n",
            "  Downloading https://download.pytorch.org/whl/cu118/nvidia_cusparse_cu11-11.7.5.86-py3-none-manylinux1_x86_64.whl (204.1 MB)\n",
            "\u001b[2K     \u001b[90m━━━━━━━━━━━━━━━━━━━━━━━━━━━━━━━━━━━━━━━\u001b[0m \u001b[32m204.1/204.1 MB\u001b[0m \u001b[31m6.3 MB/s\u001b[0m eta \u001b[36m0:00:00\u001b[0m\n",
            "\u001b[?25hCollecting nvidia-nccl-cu11==2.20.5 (from torch==2.3.0+cu118)\n",
            "  Downloading https://download.pytorch.org/whl/cu118/nvidia_nccl_cu11-2.20.5-py3-none-manylinux2014_x86_64.whl (142.9 MB)\n",
            "\u001b[2K     \u001b[90m━━━━━━━━━━━━━━━━━━━━━━━━━━━━━━━━━━━━━━━\u001b[0m \u001b[32m142.9/142.9 MB\u001b[0m \u001b[31m7.0 MB/s\u001b[0m eta \u001b[36m0:00:00\u001b[0m\n",
            "\u001b[?25hCollecting nvidia-nvtx-cu11==11.8.86 (from torch==2.3.0+cu118)\n",
            "  Downloading https://download.pytorch.org/whl/cu118/nvidia_nvtx_cu11-11.8.86-py3-none-manylinux1_x86_64.whl (99 kB)\n",
            "\u001b[2K     \u001b[90m━━━━━━━━━━━━━━━━━━━━━━━━━━━━━━━━━━━━━━━━\u001b[0m \u001b[32m99.1/99.1 kB\u001b[0m \u001b[31m10.5 MB/s\u001b[0m eta \u001b[36m0:00:00\u001b[0m\n",
            "\u001b[?25hCollecting triton==2.3.0 (from torch==2.3.0+cu118)\n",
            "  Downloading https://download.pytorch.org/whl/triton-2.3.0-cp311-cp311-manylinux_2_17_x86_64.manylinux2014_x86_64.whl (168.1 MB)\n",
            "\u001b[2K     \u001b[90m━━━━━━━━━━━━━━━━━━━━━━━━━━━━━━━━━━━━━━━\u001b[0m \u001b[32m168.1/168.1 MB\u001b[0m \u001b[31m7.0 MB/s\u001b[0m eta \u001b[36m0:00:00\u001b[0m\n",
            "\u001b[?25hRequirement already satisfied: numpy in /usr/local/lib/python3.11/dist-packages (from torchvision) (2.0.2)\n",
            "INFO: pip is looking at multiple versions of torchvision to determine which version is compatible with other requirements. This could take a while.\n",
            "Collecting torchvision\n",
            "  Downloading https://download.pytorch.org/whl/cu118/torchvision-0.22.0%2Bcu118-cp311-cp311-manylinux_2_28_x86_64.whl.metadata (6.1 kB)\n",
            "  Downloading https://download.pytorch.org/whl/cu118/torchvision-0.21.0%2Bcu118-cp311-cp311-linux_x86_64.whl.metadata (6.1 kB)\n",
            "  Downloading https://download.pytorch.org/whl/cu118/torchvision-0.20.1%2Bcu118-cp311-cp311-linux_x86_64.whl (6.5 MB)\n",
            "\u001b[2K     \u001b[90m━━━━━━━━━━━━━━━━━━━━━━━━━━━━━━━━━━━━━━━━\u001b[0m \u001b[32m6.5/6.5 MB\u001b[0m \u001b[31m89.1 MB/s\u001b[0m eta \u001b[36m0:00:00\u001b[0m\n",
            "\u001b[?25h  Downloading https://download.pytorch.org/whl/cu118/torchvision-0.20.0%2Bcu118-cp311-cp311-linux_x86_64.whl (6.5 MB)\n",
            "\u001b[2K     \u001b[90m━━━━━━━━━━━━━━━━━━━━━━━━━━━━━━━━━━━━━━━━\u001b[0m \u001b[32m6.5/6.5 MB\u001b[0m \u001b[31m92.3 MB/s\u001b[0m eta \u001b[36m0:00:00\u001b[0m\n",
            "\u001b[?25h  Downloading https://download.pytorch.org/whl/cu118/torchvision-0.19.1%2Bcu118-cp311-cp311-linux_x86_64.whl (6.3 MB)\n",
            "\u001b[2K     \u001b[90m━━━━━━━━━━━━━━━━━━━━━━━━━━━━━━━━━━━━━━━━\u001b[0m \u001b[32m6.3/6.3 MB\u001b[0m \u001b[31m93.9 MB/s\u001b[0m eta \u001b[36m0:00:00\u001b[0m\n",
            "\u001b[?25h  Downloading https://download.pytorch.org/whl/cu118/torchvision-0.19.0%2Bcu118-cp311-cp311-linux_x86_64.whl (6.3 MB)\n",
            "\u001b[2K     \u001b[90m━━━━━━━━━━━━━━━━━━━━━━━━━━━━━━━━━━━━━━━━\u001b[0m \u001b[32m6.3/6.3 MB\u001b[0m \u001b[31m97.8 MB/s\u001b[0m eta \u001b[36m0:00:00\u001b[0m\n",
            "\u001b[?25h  Downloading https://download.pytorch.org/whl/cu118/torchvision-0.18.1%2Bcu118-cp311-cp311-linux_x86_64.whl (6.3 MB)\n",
            "\u001b[2K     \u001b[90m━━━━━━━━━━━━━━━━━━━━━━━━━━━━━━━━━━━━━━━━\u001b[0m \u001b[32m6.3/6.3 MB\u001b[0m \u001b[31m82.9 MB/s\u001b[0m eta \u001b[36m0:00:00\u001b[0m\n",
            "\u001b[?25hINFO: pip is still looking at multiple versions of torchvision to determine which version is compatible with other requirements. This could take a while.\n",
            "  Downloading https://download.pytorch.org/whl/cu118/torchvision-0.18.0%2Bcu118-cp311-cp311-linux_x86_64.whl (6.3 MB)\n",
            "\u001b[2K     \u001b[90m━━━━━━━━━━━━━━━━━━━━━━━━━━━━━━━━━━━━━━━━\u001b[0m \u001b[32m6.3/6.3 MB\u001b[0m \u001b[31m96.8 MB/s\u001b[0m eta \u001b[36m0:00:00\u001b[0m\n",
            "\u001b[?25hRequirement already satisfied: pillow!=8.3.*,>=5.3.0 in /usr/local/lib/python3.11/dist-packages (from torchvision) (11.2.1)\n",
            "INFO: pip is looking at multiple versions of torchaudio to determine which version is compatible with other requirements. This could take a while.\n",
            "Collecting torchaudio\n",
            "  Downloading https://download.pytorch.org/whl/cu118/torchaudio-2.7.0%2Bcu118-cp311-cp311-manylinux_2_28_x86_64.whl.metadata (6.6 kB)\n",
            "  Downloading https://download.pytorch.org/whl/cu118/torchaudio-2.6.0%2Bcu118-cp311-cp311-linux_x86_64.whl.metadata (6.6 kB)\n",
            "  Downloading https://download.pytorch.org/whl/cu118/torchaudio-2.5.1%2Bcu118-cp311-cp311-linux_x86_64.whl (3.3 MB)\n",
            "\u001b[2K     \u001b[90m━━━━━━━━━━━━━━━━━━━━━━━━━━━━━━━━━━━━━━━━\u001b[0m \u001b[32m3.3/3.3 MB\u001b[0m \u001b[31m99.6 MB/s\u001b[0m eta \u001b[36m0:00:00\u001b[0m\n",
            "\u001b[?25h  Downloading https://download.pytorch.org/whl/cu118/torchaudio-2.5.0%2Bcu118-cp311-cp311-linux_x86_64.whl (3.3 MB)\n",
            "\u001b[2K     \u001b[90m━━━━━━━━━━━━━━━━━━━━━━━━━━━━━━━━━━━━━━━━\u001b[0m \u001b[32m3.3/3.3 MB\u001b[0m \u001b[31m104.2 MB/s\u001b[0m eta \u001b[36m0:00:00\u001b[0m\n",
            "\u001b[?25h  Downloading https://download.pytorch.org/whl/cu118/torchaudio-2.4.1%2Bcu118-cp311-cp311-linux_x86_64.whl (3.3 MB)\n",
            "\u001b[2K     \u001b[90m━━━━━━━━━━━━━━━━━━━━━━━━━━━━━━━━━━━━━━━━\u001b[0m \u001b[32m3.3/3.3 MB\u001b[0m \u001b[31m102.3 MB/s\u001b[0m eta \u001b[36m0:00:00\u001b[0m\n",
            "\u001b[?25h  Downloading https://download.pytorch.org/whl/cu118/torchaudio-2.4.0%2Bcu118-cp311-cp311-linux_x86_64.whl (3.3 MB)\n",
            "\u001b[2K     \u001b[90m━━━━━━━━━━━━━━━━━━━━━━━━━━━━━━━━━━━━━━━━\u001b[0m \u001b[32m3.3/3.3 MB\u001b[0m \u001b[31m83.7 MB/s\u001b[0m eta \u001b[36m0:00:00\u001b[0m\n",
            "\u001b[?25h  Downloading https://download.pytorch.org/whl/cu118/torchaudio-2.3.1%2Bcu118-cp311-cp311-linux_x86_64.whl (3.3 MB)\n",
            "\u001b[2K     \u001b[90m━━━━━━━━━━━━━━━━━━━━━━━━━━━━━━━━━━━━━━━━\u001b[0m \u001b[32m3.3/3.3 MB\u001b[0m \u001b[31m98.8 MB/s\u001b[0m eta \u001b[36m0:00:00\u001b[0m\n",
            "\u001b[?25hINFO: pip is still looking at multiple versions of torchaudio to determine which version is compatible with other requirements. This could take a while.\n",
            "  Downloading https://download.pytorch.org/whl/cu118/torchaudio-2.3.0%2Bcu118-cp311-cp311-linux_x86_64.whl (3.3 MB)\n",
            "\u001b[2K     \u001b[90m━━━━━━━━━━━━━━━━━━━━━━━━━━━━━━━━━━━━━━━━\u001b[0m \u001b[32m3.3/3.3 MB\u001b[0m \u001b[31m100.8 MB/s\u001b[0m eta \u001b[36m0:00:00\u001b[0m\n",
            "\u001b[?25hRequirement already satisfied: MarkupSafe>=2.0 in /usr/local/lib/python3.11/dist-packages (from jinja2->torch==2.3.0+cu118) (3.0.2)\n",
            "Requirement already satisfied: mpmath<1.4,>=1.1.0 in /usr/local/lib/python3.11/dist-packages (from sympy->torch==2.3.0+cu118) (1.3.0)\n",
            "Installing collected packages: triton, nvidia-nvtx-cu11, nvidia-nccl-cu11, nvidia-cusparse-cu11, nvidia-curand-cu11, nvidia-cufft-cu11, nvidia-cuda-runtime-cu11, nvidia-cuda-nvrtc-cu11, nvidia-cuda-cupti-cu11, nvidia-cublas-cu11, nvidia-cusolver-cu11, nvidia-cudnn-cu11, torch, torchvision, torchaudio\n",
            "  Attempting uninstall: triton\n",
            "    Found existing installation: triton 3.2.0\n",
            "    Uninstalling triton-3.2.0:\n",
            "      Successfully uninstalled triton-3.2.0\n",
            "  Attempting uninstall: torch\n",
            "    Found existing installation: torch 2.6.0+cu124\n",
            "    Uninstalling torch-2.6.0+cu124:\n",
            "      Successfully uninstalled torch-2.6.0+cu124\n",
            "  Attempting uninstall: torchvision\n",
            "    Found existing installation: torchvision 0.21.0+cu124\n",
            "    Uninstalling torchvision-0.21.0+cu124:\n",
            "      Successfully uninstalled torchvision-0.21.0+cu124\n",
            "  Attempting uninstall: torchaudio\n",
            "    Found existing installation: torchaudio 2.6.0+cu124\n",
            "    Uninstalling torchaudio-2.6.0+cu124:\n",
            "      Successfully uninstalled torchaudio-2.6.0+cu124\n",
            "Successfully installed nvidia-cublas-cu11-11.11.3.6 nvidia-cuda-cupti-cu11-11.8.87 nvidia-cuda-nvrtc-cu11-11.8.89 nvidia-cuda-runtime-cu11-11.8.89 nvidia-cudnn-cu11-8.7.0.84 nvidia-cufft-cu11-10.9.0.58 nvidia-curand-cu11-10.3.0.86 nvidia-cusolver-cu11-11.4.1.48 nvidia-cusparse-cu11-11.7.5.86 nvidia-nccl-cu11-2.20.5 nvidia-nvtx-cu11-11.8.86 torch-2.3.0+cu118 torchaudio-2.3.0+cu118 torchvision-0.18.0+cu118 triton-2.3.0\n",
            "Requirement already satisfied: transformers in /usr/local/lib/python3.11/dist-packages (4.51.3)\n",
            "Requirement already satisfied: datasets in /usr/local/lib/python3.11/dist-packages (2.14.4)\n",
            "Requirement already satisfied: tensorboard in /usr/local/lib/python3.11/dist-packages (2.18.0)\n",
            "Collecting ninja\n",
            "  Downloading ninja-1.11.1.4-py3-none-manylinux_2_12_x86_64.manylinux2010_x86_64.whl.metadata (5.0 kB)\n",
            "Requirement already satisfied: filelock in /usr/local/lib/python3.11/dist-packages (from transformers) (3.18.0)\n",
            "Requirement already satisfied: huggingface-hub<1.0,>=0.30.0 in /usr/local/lib/python3.11/dist-packages (from transformers) (0.31.2)\n",
            "Requirement already satisfied: numpy>=1.17 in /usr/local/lib/python3.11/dist-packages (from transformers) (2.0.2)\n",
            "Requirement already satisfied: packaging>=20.0 in /usr/local/lib/python3.11/dist-packages (from transformers) (24.2)\n",
            "Requirement already satisfied: pyyaml>=5.1 in /usr/local/lib/python3.11/dist-packages (from transformers) (6.0.2)\n",
            "Requirement already satisfied: regex!=2019.12.17 in /usr/local/lib/python3.11/dist-packages (from transformers) (2024.11.6)\n",
            "Requirement already satisfied: requests in /usr/local/lib/python3.11/dist-packages (from transformers) (2.32.3)\n",
            "Requirement already satisfied: tokenizers<0.22,>=0.21 in /usr/local/lib/python3.11/dist-packages (from transformers) (0.21.1)\n",
            "Requirement already satisfied: safetensors>=0.4.3 in /usr/local/lib/python3.11/dist-packages (from transformers) (0.5.3)\n",
            "Requirement already satisfied: tqdm>=4.27 in /usr/local/lib/python3.11/dist-packages (from transformers) (4.67.1)\n",
            "Requirement already satisfied: pyarrow>=8.0.0 in /usr/local/lib/python3.11/dist-packages (from datasets) (18.1.0)\n",
            "Requirement already satisfied: dill<0.3.8,>=0.3.0 in /usr/local/lib/python3.11/dist-packages (from datasets) (0.3.7)\n",
            "Requirement already satisfied: pandas in /usr/local/lib/python3.11/dist-packages (from datasets) (2.2.2)\n",
            "Requirement already satisfied: xxhash in /usr/local/lib/python3.11/dist-packages (from datasets) (3.5.0)\n",
            "Requirement already satisfied: multiprocess in /usr/local/lib/python3.11/dist-packages (from datasets) (0.70.15)\n",
            "Requirement already satisfied: fsspec>=2021.11.1 in /usr/local/lib/python3.11/dist-packages (from fsspec[http]>=2021.11.1->datasets) (2025.3.2)\n",
            "Requirement already satisfied: aiohttp in /usr/local/lib/python3.11/dist-packages (from datasets) (3.11.15)\n",
            "Requirement already satisfied: absl-py>=0.4 in /usr/local/lib/python3.11/dist-packages (from tensorboard) (1.4.0)\n",
            "Requirement already satisfied: grpcio>=1.48.2 in /usr/local/lib/python3.11/dist-packages (from tensorboard) (1.71.0)\n",
            "Requirement already satisfied: markdown>=2.6.8 in /usr/local/lib/python3.11/dist-packages (from tensorboard) (3.8)\n",
            "Requirement already satisfied: protobuf!=4.24.0,>=3.19.6 in /usr/local/lib/python3.11/dist-packages (from tensorboard) (5.29.4)\n",
            "Requirement already satisfied: setuptools>=41.0.0 in /usr/local/lib/python3.11/dist-packages (from tensorboard) (75.2.0)\n",
            "Requirement already satisfied: six>1.9 in /usr/local/lib/python3.11/dist-packages (from tensorboard) (1.17.0)\n",
            "Requirement already satisfied: tensorboard-data-server<0.8.0,>=0.7.0 in /usr/local/lib/python3.11/dist-packages (from tensorboard) (0.7.2)\n",
            "Requirement already satisfied: werkzeug>=1.0.1 in /usr/local/lib/python3.11/dist-packages (from tensorboard) (3.1.3)\n",
            "Requirement already satisfied: aiohappyeyeballs>=2.3.0 in /usr/local/lib/python3.11/dist-packages (from aiohttp->datasets) (2.6.1)\n",
            "Requirement already satisfied: aiosignal>=1.1.2 in /usr/local/lib/python3.11/dist-packages (from aiohttp->datasets) (1.3.2)\n",
            "Requirement already satisfied: attrs>=17.3.0 in /usr/local/lib/python3.11/dist-packages (from aiohttp->datasets) (25.3.0)\n",
            "Requirement already satisfied: frozenlist>=1.1.1 in /usr/local/lib/python3.11/dist-packages (from aiohttp->datasets) (1.6.0)\n",
            "Requirement already satisfied: multidict<7.0,>=4.5 in /usr/local/lib/python3.11/dist-packages (from aiohttp->datasets) (6.4.3)\n",
            "Requirement already satisfied: propcache>=0.2.0 in /usr/local/lib/python3.11/dist-packages (from aiohttp->datasets) (0.3.1)\n",
            "Requirement already satisfied: yarl<2.0,>=1.17.0 in /usr/local/lib/python3.11/dist-packages (from aiohttp->datasets) (1.20.0)\n",
            "Requirement already satisfied: typing-extensions>=3.7.4.3 in /usr/local/lib/python3.11/dist-packages (from huggingface-hub<1.0,>=0.30.0->transformers) (4.13.2)\n",
            "Requirement already satisfied: charset-normalizer<4,>=2 in /usr/local/lib/python3.11/dist-packages (from requests->transformers) (3.4.2)\n",
            "Requirement already satisfied: idna<4,>=2.5 in /usr/local/lib/python3.11/dist-packages (from requests->transformers) (3.10)\n",
            "Requirement already satisfied: urllib3<3,>=1.21.1 in /usr/local/lib/python3.11/dist-packages (from requests->transformers) (2.4.0)\n",
            "Requirement already satisfied: certifi>=2017.4.17 in /usr/local/lib/python3.11/dist-packages (from requests->transformers) (2025.4.26)\n",
            "Requirement already satisfied: MarkupSafe>=2.1.1 in /usr/local/lib/python3.11/dist-packages (from werkzeug>=1.0.1->tensorboard) (3.0.2)\n",
            "Requirement already satisfied: python-dateutil>=2.8.2 in /usr/local/lib/python3.11/dist-packages (from pandas->datasets) (2.9.0.post0)\n",
            "Requirement already satisfied: pytz>=2020.1 in /usr/local/lib/python3.11/dist-packages (from pandas->datasets) (2025.2)\n",
            "Requirement already satisfied: tzdata>=2022.7 in /usr/local/lib/python3.11/dist-packages (from pandas->datasets) (2025.2)\n",
            "Downloading ninja-1.11.1.4-py3-none-manylinux_2_12_x86_64.manylinux2010_x86_64.whl (422 kB)\n",
            "\u001b[2K   \u001b[90m━━━━━━━━━━━━━━━━━━━━━━━━━━━━━━━━━━━━━━━━\u001b[0m \u001b[32m422.8/422.8 kB\u001b[0m \u001b[31m30.2 MB/s\u001b[0m eta \u001b[36m0:00:00\u001b[0m\n",
            "\u001b[?25hInstalling collected packages: ninja\n",
            "Successfully installed ninja-1.11.1.4\n"
          ]
        }
      ]
    },
    {
      "cell_type": "code",
      "execution_count": 4,
      "metadata": {
        "colab": {
          "base_uri": "https://localhost:8080/"
        },
        "id": "fCUcnBbDZ2W-",
        "outputId": "4d0d2f91-e17e-4938-a587-5ab77be63202"
      },
      "outputs": [
        {
          "output_type": "stream",
          "name": "stdout",
          "text": [
            "GPU bilgileri kontrol ediliyor...\n",
            "Sat May 17 22:59:04 2025       \n",
            "+-----------------------------------------------------------------------------------------+\n",
            "| NVIDIA-SMI 550.54.15              Driver Version: 550.54.15      CUDA Version: 12.4     |\n",
            "|-----------------------------------------+------------------------+----------------------+\n",
            "| GPU  Name                 Persistence-M | Bus-Id          Disp.A | Volatile Uncorr. ECC |\n",
            "| Fan  Temp   Perf          Pwr:Usage/Cap |           Memory-Usage | GPU-Util  Compute M. |\n",
            "|                                         |                        |               MIG M. |\n",
            "|=========================================+========================+======================|\n",
            "|   0  Tesla T4                       Off |   00000000:00:04.0 Off |                    0 |\n",
            "| N/A   37C    P8              9W /   70W |       2MiB /  15360MiB |      0%      Default |\n",
            "|                                         |                        |                  N/A |\n",
            "+-----------------------------------------+------------------------+----------------------+\n",
            "                                                                                         \n",
            "+-----------------------------------------------------------------------------------------+\n",
            "| Processes:                                                                              |\n",
            "|  GPU   GI   CI        PID   Type   Process name                              GPU Memory |\n",
            "|        ID   ID                                                               Usage      |\n",
            "|=========================================================================================|\n",
            "|  No running processes found                                                             |\n",
            "+-----------------------------------------------------------------------------------------+\n",
            "\n",
            "GPU bellek optimizasyonları yapıldı.\n",
            "Torch sürümü: 2.3.0+cu118, CUDA aktif mi: True\n",
            "CUDA versiyonu: 11.8\n",
            "GPU sayısı: 1\n",
            "GPU adı: Tesla T4\n",
            "Mevcut GPU belleği: 15.83 GB\n",
            "Drive already mounted at /content/drive; to attempt to forcibly remount, call drive.mount(\"/content/drive\", force_remount=True).\n",
            "Google Drive bağlandı. Drive'dan dosyayı kopyalayabilirsiniz.\n",
            "Dosya kopyalandı: /content/drive/MyDrive/03_numerized_data.zip -> ./03_numerized_data.zip\n",
            "İşlem tamamlandı. Dosya şu konumda: ./03_numerized_data.zip\n",
            "Zip dosyası açılıyor: ./03_numerized_data.zip\n",
            "Dosyalar çıkarıldı: 03_numerized_data\n",
            "Veriler yükleniyor...\n",
            "Orijinal veri boyutları:\n",
            "Eğitim verileri: (70000, 28), (70000, 28)\n",
            "Doğrulama verileri: (15000, 28), (15000, 28)\n",
            "Test verileri: (15000, 28), (15000, 28)\n",
            "Etiketleri kontrol ediyorum...\n",
            "Eğitim etiketleri çok boyutlu: (70000, 28), tek boyuta indirgeniyor\n",
            "Çoklu sütun algılandı, ilk sütun kullanılacak\n",
            "Doğrulama etiketleri çok boyutlu: (15000, 28), tek boyuta indirgeniyor\n",
            "Test etiketleri çok boyutlu: (15000, 28), tek boyuta indirgeniyor\n",
            "NER Etiket değerlerini kontrol ediyorum...\n",
            "Mevcut benzersiz etiketler: [1 2 3 4 5 6 7]\n",
            "Düzeltilmiş veri boyutları:\n",
            "Eğitim: (70000, 28), (70000,), Etiket aralığı: 1-7\n",
            "Doğrulama: (15000, 28), (15000,), Etiket aralığı: 1-7\n",
            "Test: (15000, 28), (15000,), Etiket aralığı: 1-7\n"
          ]
        }
      ],
      "source": [
        "###############################################################################\n",
        "# GPU ve CUDA Bilgileri\n",
        "###############################################################################\n",
        "# Aşağıdaki shell komutları yerine Python kodları kullanıyoruz\n",
        "import subprocess\n",
        "import sys\n",
        "\n",
        "def check_gpu_info():\n",
        "    try:\n",
        "        # nvidia-smi komutunu çalıştır\n",
        "        result = subprocess.run(['nvidia-smi'], capture_output=True, text=True, check=True)\n",
        "        print(result.stdout)\n",
        "    except subprocess.CalledProcessError:\n",
        "        print(\"nvidia-smi komutu çalıştırılamadı. GPU bilgileri alınamadı.\")\n",
        "    except FileNotFoundError:\n",
        "        print(\"nvidia-smi komutu bulunamadı. GPU bilgileri alınamadı.\")\n",
        "\n",
        "# GPU bilgilerini kontrol et\n",
        "print(\"GPU bilgileri kontrol ediliyor...\")\n",
        "check_gpu_info()\n",
        "\n",
        "###############################################################################\n",
        "# GPU Bellek Optimizasyonu - Başlangıç\n",
        "###############################################################################\n",
        "# Kullanılabilir GPU     belleğini maksimize et\n",
        "import gc\n",
        "import torch\n",
        "\n",
        "# Önbelleğe alma olmadan torch.cuda.empty_cache()\n",
        "gc.collect()\n",
        "torch.cuda.empty_cache()\n",
        "\n",
        "# Maksimum performans için deterministik optimizasyonları kapat\n",
        "torch.backends.cudnn.benchmark = True\n",
        "torch.backends.cudnn.deterministic = False\n",
        "\n",
        "print(\"GPU bellek optimizasyonları yapıldı.\")\n",
        "\n",
        "\n",
        "\n",
        "# Torch sürümünü kontrol et\n",
        "import torch\n",
        "print(f\"Torch sürümü: {torch.__version__}, CUDA aktif mi: {torch.cuda.is_available()}\")\n",
        "print(f\"CUDA versiyonu: {torch.version.cuda if torch.cuda.is_available() else 'Yok'}\")\n",
        "print(f\"GPU sayısı: {torch.cuda.device_count() if torch.cuda.is_available() else 0}\")\n",
        "if torch.cuda.is_available():\n",
        "    print(f\"GPU adı: {torch.cuda.get_device_name(0)}\")\n",
        "    print(f\"Mevcut GPU belleği: {torch.cuda.get_device_properties(0).total_memory / 1e9:.2f} GB\")\n",
        "\n",
        "###############################################################################\n",
        "# Gerekli kütüphanelerin yüklenmesi\n",
        "###############################################################################\n",
        "import os\n",
        "import numpy as np\n",
        "import torch\n",
        "import torch.nn as nn\n",
        "import torch.optim as optim\n",
        "from torch.utils.data import DataLoader, TensorDataset\n",
        "import matplotlib.pyplot as plt\n",
        "from zipfile import ZipFile\n",
        "import requests\n",
        "from tqdm import tqdm\n",
        "# Performans iyileştirmeleri için ekledik\n",
        "from torch.cuda.amp import autocast, GradScaler\n",
        "import torch.nn.functional as F\n",
        "\n",
        "###############################################################################\n",
        "# Google Drive'dan zip dosyasını indirme\n",
        "###############################################################################\n",
        "def download_file(url, destination):\n",
        "    if os.path.exists(destination):\n",
        "        print(f\"Dosya zaten var: {destination}\")\n",
        "        return True\n",
        "\n",
        "    try:\n",
        "        print(f\"{url} adresinden dosya indiriliyor...\")\n",
        "        response = requests.get(url, stream=True)\n",
        "        response.raise_for_status()\n",
        "\n",
        "        total_size_in_bytes = int(response.headers.get('content-length', 0))\n",
        "        block_size = 8192\n",
        "        progress_bar = tqdm(total=total_size_in_bytes, unit='iB', unit_scale=True)\n",
        "\n",
        "        with open(destination, 'wb') as file:\n",
        "            for data in response.iter_content(block_size):\n",
        "                progress_bar.update(len(data))\n",
        "                file.write(data)\n",
        "        progress_bar.close()\n",
        "\n",
        "        print(f\"İndirme tamamlandı: {destination}\")\n",
        "        return True\n",
        "    except Exception as e:\n",
        "        print(f\"İndirme hatası: {e}\")\n",
        "        return False\n",
        "\n",
        "###############################################################################\n",
        "# Google Drive bağlantısı kurma ve dosyayı alma\n",
        "###############################################################################\n",
        "# Google Drive'dan dosya indirme URL'si (gerçek URL ile değiştirilmeli)\n",
        "drive_url = \"BURAYA_GOOGLE_DRIVE_DOĞRUDAN_İNDİRME_LİNKİ\"\n",
        "data_dir = \"./\"\n",
        "zip_path = os.path.join(data_dir, \"03_numerized_data.zip\")\n",
        "\n",
        "# Hedef dizin kontrolü ve oluşturma\n",
        "target_dir = os.path.dirname(zip_path)\n",
        "if not os.path.exists(target_dir) and target_dir:\n",
        "    os.makedirs(target_dir)\n",
        "    print(f\"{target_dir} klasörü oluşturuldu.\")\n",
        "\n",
        "# Eğer Colab'da çalışıyorsanız bu kodu kullanabilirsiniz\n",
        "try:\n",
        "    from google.colab import drive\n",
        "    drive.mount('/content/drive')\n",
        "    print(\"Google Drive bağlandı. Drive'dan dosyayı kopyalayabilirsiniz.\")\n",
        "    # Google Drive'daki dosya yolu (değiştirilmeli)\n",
        "    drive_zip_path = \"/content/drive/MyDrive/03_numerized_data.zip\"\n",
        "    if os.path.exists(drive_zip_path):\n",
        "        import shutil\n",
        "        shutil.copy(drive_zip_path, zip_path)\n",
        "        print(f\"Dosya kopyalandı: {drive_zip_path} -> {zip_path}\")\n",
        "    else:\n",
        "        print(f\"Dosya bulunamadı: {drive_zip_path}\")\n",
        "except:\n",
        "    print(\"Google Colab ortamında çalışmıyorsunuz. Doğrudan indirme denenecek.\")\n",
        "    if not os.path.exists(zip_path):\n",
        "        download_file(drive_url, zip_path)\n",
        "    else:\n",
        "        print(f\"Dosya zaten var: {zip_path}\")\n",
        "\n",
        "print(f\"İşlem tamamlandı. Dosya şu konumda: {zip_path}\")\n",
        "\n",
        "###############################################################################\n",
        "# Zip dosyasını açma ve verileri yükleme\n",
        "###############################################################################\n",
        "data_dir = \"03_numerized_data\"\n",
        "os.makedirs(data_dir, exist_ok=True)\n",
        "\n",
        "if os.path.exists(zip_path):\n",
        "    try:\n",
        "        with ZipFile(zip_path, 'r') as zip_ref:\n",
        "            print(f\"Zip dosyası açılıyor: {zip_path}\")\n",
        "            zip_ref.extractall(data_dir)\n",
        "            print(f\"Dosyalar çıkarıldı: {data_dir}\")\n",
        "    except Exception as e:\n",
        "        print(f\"Zip dosyası açılırken hata: {e}\")\n",
        "else:\n",
        "    print(f\"Zip dosyası bulunamadı: {zip_path}\")\n",
        "\n",
        "###############################################################################\n",
        "# Verileri yükleme ve etiket düzeltme\n",
        "###############################################################################\n",
        "data_dir = \"03_numerized_data/03_numerized_data\"\n",
        "try:\n",
        "    print(\"Veriler yükleniyor...\")\n",
        "    # Bellek verimliliği için mmap_mode kullanıyoruz\n",
        "    train_sentences = np.load(os.path.join(data_dir, \"train_sentences.npy\"), mmap_mode='r')\n",
        "    train_labels = np.load(os.path.join(data_dir, \"train_labels.npy\"), mmap_mode='r')\n",
        "    val_sentences = np.load(os.path.join(data_dir, \"validation_sentences.npy\"), mmap_mode='r')\n",
        "    val_labels = np.load(os.path.join(data_dir, \"validation_labels.npy\"), mmap_mode='r')\n",
        "    test_sentences = np.load(os.path.join(data_dir, \"test_sentences.npy\"), mmap_mode='r')\n",
        "    test_labels = np.load(os.path.join(data_dir, \"test_labels.npy\"), mmap_mode='r')\n",
        "\n",
        "    print(f\"Orijinal veri boyutları:\")\n",
        "    print(f\"Eğitim verileri: {train_sentences.shape}, {train_labels.shape}\")\n",
        "    print(f\"Doğrulama verileri: {val_sentences.shape}, {val_labels.shape}\")\n",
        "    print(f\"Test verileri: {test_sentences.shape}, {test_labels.shape}\")\n",
        "except Exception as e:\n",
        "    print(f\"Veriler yüklenirken hata: {e}\")\n",
        "\n",
        "    # Hata durumunda örnek veriler oluşturma\n",
        "    print(\"Örnek veriler oluşturuluyor...\")\n",
        "    vocab_size = 102338\n",
        "    seq_length = 100\n",
        "    num_classes = 8  # NER etiketleri için 8 sınıf (O, B-UNIVERSITE vs.)\n",
        "    train_size = 72339\n",
        "    val_size = 17339\n",
        "    test_size = 17340\n",
        "\n",
        "    train_sentences = np.random.randint(0, vocab_size, size=(train_size, seq_length))\n",
        "    train_labels = np.random.randint(0, num_classes, size=(train_size,))\n",
        "    val_sentences = np.random.randint(0, vocab_size, size=(val_size, seq_length))\n",
        "    val_labels = np.random.randint(0, num_classes, size=(val_size,))\n",
        "    test_sentences = np.random.randint(0, vocab_size, size=(test_size, seq_length))\n",
        "    test_labels = np.random.randint(0, num_classes, size=(test_size,))\n",
        "\n",
        "###############################################################################\n",
        "# Etiket ve sınıf sayısı kontrolü\n",
        "###############################################################################\n",
        "print(\"Etiketleri kontrol ediyorum...\")\n",
        "\n",
        "# NER etiketleri için sınıf sayısı sabit (combined_labels.json'dan alındı)\n",
        "# O: 0, B-UNIVERSITE: 1, B-BOLUM: 2, I-UNIVERSITE: 3, I-BOLUM: 4, B-NUMARA: 5, B-ISIM: 6, B-SOYISIM: 7\n",
        "num_classes = 8\n",
        "\n",
        "# Önce etiketlerin tek boyutlu olmasını sağla\n",
        "if len(train_labels.shape) > 1:\n",
        "    print(f\"Eğitim etiketleri çok boyutlu: {train_labels.shape}, tek boyuta indirgeniyor\")\n",
        "    if train_labels.shape[1] == 1:\n",
        "        train_labels = train_labels.reshape(-1)\n",
        "    else:\n",
        "        print(f\"Çoklu sütun algılandı, ilk sütun kullanılacak\")\n",
        "        train_labels = train_labels[:, 0]\n",
        "\n",
        "if len(val_labels.shape) > 1:\n",
        "    print(f\"Doğrulama etiketleri çok boyutlu: {val_labels.shape}, tek boyuta indirgeniyor\")\n",
        "    if val_labels.shape[1] == 1:\n",
        "        val_labels = val_labels.reshape(-1)\n",
        "    else:\n",
        "        val_labels = val_labels[:, 0]\n",
        "\n",
        "if len(test_labels.shape) > 1:\n",
        "    print(f\"Test etiketleri çok boyutlu: {test_labels.shape}, tek boyuta indirgeniyor\")\n",
        "    if test_labels.shape[1] == 1:\n",
        "        test_labels = test_labels.reshape(-1)\n",
        "    else:\n",
        "        test_labels = test_labels[:, 0]\n",
        "\n",
        "# Etiketleri kontrol et - 0 ile 7 arasında olmalı\n",
        "print(\"NER Etiket değerlerini kontrol ediyorum...\")\n",
        "all_labels = np.concatenate([train_labels, val_labels, test_labels])\n",
        "unique_labels = np.unique(all_labels)\n",
        "print(f\"Mevcut benzersiz etiketler: {unique_labels}\")\n",
        "\n",
        "# Etiketlerde sorun varsa (negatif veya çok büyük değerler) uyar\n",
        "if np.any(unique_labels < 0) or np.any(unique_labels >= num_classes):\n",
        "    print(f\"UYARI: Geçersiz etiket değerleri tespit edildi! Etiketler 0-{num_classes-1} arasında olmalı.\")\n",
        "    # Etiketleri geçerli aralığa düşür\n",
        "    train_labels = np.clip(train_labels, 0, num_classes-1)\n",
        "    val_labels = np.clip(val_labels, 0, num_classes-1)\n",
        "    test_labels = np.clip(test_labels, 0, num_classes-1)\n",
        "    print(\"Etiketler düzeltildi ve geçerli aralığa (0-7) kırpıldı\")\n",
        "\n",
        "# Eğer etiketler hala metin veya farklı bir türdeyse, int64'e dönüştür\n",
        "train_labels = train_labels.astype(np.int64)\n",
        "val_labels = val_labels.astype(np.int64)\n",
        "test_labels = test_labels.astype(np.int64)\n",
        "\n",
        "# Tensör boyutları uyuşmazlığını kontrol et\n",
        "if train_sentences.shape[0] != train_labels.shape[0]:\n",
        "    print(f\"UYARI: Eğitim veri boyutları uyuşmuyor! Cümleler: {train_sentences.shape[0]}, Etiketler: {train_labels.shape[0]}\")\n",
        "    min_train_size = min(train_sentences.shape[0], train_labels.shape[0])\n",
        "    print(f\"Her iki tensörü de {min_train_size} örneğe kırpıyorum\")\n",
        "    train_sentences = train_sentences[:min_train_size]\n",
        "    train_labels = train_labels[:min_train_size]\n",
        "\n",
        "if val_sentences.shape[0] != val_labels.shape[0]:\n",
        "    print(f\"UYARI: Doğrulama veri boyutları uyuşmuyor! Cümleler: {val_sentences.shape[0]}, Etiketler: {val_labels.shape[0]}\")\n",
        "    min_val_size = min(val_sentences.shape[0], val_labels.shape[0])\n",
        "    print(f\"Her iki tensörü de {min_val_size} örneğe kırpıyorum\")\n",
        "    val_sentences = val_sentences[:min_val_size]\n",
        "    val_labels = val_labels[:min_val_size]\n",
        "\n",
        "if test_sentences.shape[0] != test_labels.shape[0]:\n",
        "    print(f\"UYARI: Test veri boyutları uyuşmuyor! Cümleler: {test_sentences.shape[0]}, Etiketler: {test_labels.shape[0]}\")\n",
        "    min_test_size = min(test_sentences.shape[0], test_labels.shape[0])\n",
        "    print(f\"Her iki tensörü de {min_test_size} örneğe kırpıyorum\")\n",
        "    test_sentences = test_sentences[:min_test_size]\n",
        "    test_labels = test_labels[:min_test_size]\n",
        "\n",
        "print(f\"Düzeltilmiş veri boyutları:\")\n",
        "print(f\"Eğitim: {train_sentences.shape}, {train_labels.shape}, Etiket aralığı: {train_labels.min()}-{train_labels.max()}\")\n",
        "print(f\"Doğrulama: {val_sentences.shape}, {val_labels.shape}, Etiket aralığı: {val_labels.min()}-{val_labels.max()}\")\n",
        "print(f\"Test: {test_sentences.shape}, {test_labels.shape}, Etiket aralığı: {test_labels.min()}-{test_labels.max()}\")\n"
      ]
    },
    {
      "cell_type": "code",
      "source": [
        "\n",
        "###############################################################################\n",
        "# Veri hazırlama ve model parametrelerini ayarlama\n",
        "###############################################################################\n",
        "# GPU bellek sınırlamaları için veri tipi seçimi\n",
        "# dtype = torch.float16  # GPU belleğinden tasarruf etmek için yarım hassasiyet\n",
        "# NOT: Karma hassasiyet eğitimi için açık olarak dtype belirtmeyi kaldırıyoruz\n",
        "# Autocast zaten model hesaplamalarını float16'da yapacak\n",
        "\n",
        "# Veriyi PyTorch tensorlarına dönüştürme ve boyut düzeltme\n",
        "print(\"Tensörleri oluşturuyorum...\")\n",
        "train_sentences_tensor = torch.tensor(train_sentences, dtype=torch.long)\n",
        "train_labels_tensor = torch.tensor(train_labels, dtype=torch.long)\n",
        "val_sentences_tensor = torch.tensor(val_sentences, dtype=torch.long)\n",
        "val_labels_tensor = torch.tensor(val_labels, dtype=torch.long)\n",
        "test_sentences_tensor = torch.tensor(test_sentences, dtype=torch.long)\n",
        "test_labels_tensor = torch.tensor(test_labels, dtype=torch.long)\n",
        "\n",
        "# Etiket doğruluğunu kontrol et\n",
        "print(f\"train_sentences_tensor: {train_sentences_tensor.shape}, train_labels_tensor: {train_labels_tensor.shape}, değer aralığı: {train_labels_tensor.min().item()}-{train_labels_tensor.max().item()}\")\n",
        "print(f\"val_sentences_tensor: {val_sentences_tensor.shape}, val_labels_tensor: {val_labels_tensor.shape}, değer aralığı: {val_labels_tensor.min().item()}-{val_labels_tensor.max().item()}\")\n",
        "print(f\"test_sentences_tensor: {test_sentences_tensor.shape}, test_labels_tensor: {test_labels_tensor.shape}, değer aralığı: {test_labels_tensor.min().item()}-{test_labels_tensor.max().item()}\")\n",
        "\n",
        "# Son kontrol - etiketler 0 ile num_classes-1 arasında olmalı\n",
        "if train_labels_tensor.max().item() >= num_classes or train_labels_tensor.min().item() < 0:\n",
        "    raise ValueError(f\"Eğitim etiketleri geçersiz aralıkta! 0-{num_classes-1} arasında olmalı, ancak {train_labels_tensor.min().item()}-{train_labels_tensor.max().item()} aralığında\")\n",
        "\n",
        "# T4 GPU için optimize edilmiş DataLoader yapılandırması\n",
        "batch_size = 1024  # 512'den 1024'e çıkarıldı - GPU belleğini daha iyi kullanmak için\n",
        "num_workers = 2    # 2'den 4'e çıkarıldı - daha fazla CPU çekirdek kullanımı\n",
        "\n",
        "train_dataset = TensorDataset(train_sentences_tensor, train_labels_tensor)\n",
        "train_loader = DataLoader(\n",
        "    train_dataset,\n",
        "    batch_size=batch_size,\n",
        "    shuffle=True,\n",
        "    num_workers=num_workers,\n",
        "    pin_memory=True,\n",
        "    prefetch_factor=3,  # 2'den 3'e çıkarıldı - daha fazla ön belleğe alma\n",
        "    persistent_workers=True  # İş parçacıklarını eğitim boyunca aktif tut\n",
        ")\n",
        "\n",
        "val_dataset = TensorDataset(val_sentences_tensor, val_labels_tensor)\n",
        "val_loader = DataLoader(\n",
        "    val_dataset,\n",
        "    batch_size=batch_size * 2,  # Doğrulama sırasında daha büyük batch\n",
        "    num_workers=num_workers,\n",
        "    pin_memory=True,\n",
        "    persistent_workers=True  # İş parçacıklarını eğitim boyunca aktif tut\n",
        ")\n",
        "\n",
        "test_dataset = TensorDataset(test_sentences_tensor, test_labels_tensor)\n",
        "test_loader = DataLoader(\n",
        "    test_dataset,\n",
        "    batch_size=batch_size * 2,\n",
        "    num_workers=num_workers,\n",
        "    pin_memory=True,\n",
        "    persistent_workers=True  # İş parçacıklarını eğitim boyunca aktif tut\n",
        ")\n",
        "\n",
        "###############################################################################\n",
        "# Transformer Model Sınıfı - Optimize Edilmiş Versiyon\n",
        "###############################################################################\n",
        "class TransformerModel(nn.Module):\n",
        "    def __init__(self, vocab_size, embed_dim, num_heads, hidden_dim, num_layers, num_classes, dropout=0.1):\n",
        "        super(TransformerModel, self).__init__()\n",
        "        self.embedding = nn.Embedding(vocab_size, embed_dim)\n",
        "\n",
        "        # Pozisyon kodlaması ekledik - daha iyi sıralı veri temsilini öğrenmek için\n",
        "        self.pos_encoder = nn.Embedding(2000, embed_dim)  # 2000 pozisyon yeterli olacaktır\n",
        "\n",
        "        # Optimize edilmiş encoder katmanları\n",
        "        encoder_layers = []\n",
        "        for i in range(num_layers):\n",
        "            encoder_layer = nn.TransformerEncoderLayer(\n",
        "                d_model=embed_dim,\n",
        "                nhead=num_heads,\n",
        "                dim_feedforward=hidden_dim,\n",
        "                dropout=dropout,\n",
        "                batch_first=True,\n",
        "                activation='gelu'  # RELU'dan GELU'ya geçtik, daha iyi sonuçlar verebilir\n",
        "            )\n",
        "            encoder_layers.append(encoder_layer)\n",
        "\n",
        "        self.transformer_layers = nn.ModuleList(encoder_layers)\n",
        "\n",
        "        # Daha iyi sınıflama performansı için bir DropConnect katmanı ekledik\n",
        "        self.classifier = nn.Sequential(\n",
        "            nn.LayerNorm(embed_dim),  # Önce normalizasyon\n",
        "            nn.Dropout(dropout),\n",
        "            nn.Linear(embed_dim, hidden_dim // 2),\n",
        "            nn.GELU(),\n",
        "            nn.Dropout(dropout),\n",
        "            nn.Linear(hidden_dim // 2, num_classes)\n",
        "        )\n",
        "\n",
        "    def forward(self, x):\n",
        "        # Padding maskesi - 0 değerli tokenları maskele\n",
        "        padding_mask = (x == 0)\n",
        "\n",
        "        # Gömme işlemi (embedding)\n",
        "        x_embed = self.embedding(x)\n",
        "\n",
        "        # Pozisyon kodlaması ekle\n",
        "        positions = torch.arange(0, x.size(1), device=x.device).unsqueeze(0).expand(x.size(0), -1)\n",
        "        pos_embed = self.pos_encoder(positions)\n",
        "        x = x_embed + pos_embed\n",
        "\n",
        "        # Her bir transformer katmanını sırayla uygula\n",
        "        for layer in self.transformer_layers:\n",
        "            x = layer(x, src_key_padding_mask=padding_mask)\n",
        "\n",
        "        # Global havuzlama - tüm token temsilleri\n",
        "        # Sadece padding olmayan token'ların ortalamasını al\n",
        "        mask = ~padding_mask.unsqueeze(-1).expand(x.size())\n",
        "        tokens_sum = (x * mask.float()).sum(dim=1)\n",
        "        token_counts = mask.float().sum(dim=1)\n",
        "        x_mean = tokens_sum / token_counts.clamp(min=1e-9)\n",
        "\n",
        "        # Sınıflandırıcı\n",
        "        x = self.classifier(x_mean)\n",
        "\n",
        "        return x\n"
      ],
      "metadata": {
        "colab": {
          "base_uri": "https://localhost:8080/"
        },
        "id": "CXNf6e6VcWEh",
        "outputId": "eec6ae97-084d-432b-f0bb-cf5270ec31c9"
      },
      "execution_count": 6,
      "outputs": [
        {
          "output_type": "stream",
          "name": "stdout",
          "text": [
            "Tensörleri oluşturuyorum...\n",
            "train_sentences_tensor: torch.Size([70000, 28]), train_labels_tensor: torch.Size([70000]), değer aralığı: 1-7\n",
            "val_sentences_tensor: torch.Size([15000, 28]), val_labels_tensor: torch.Size([15000]), değer aralığı: 1-7\n",
            "test_sentences_tensor: torch.Size([15000, 28]), test_labels_tensor: torch.Size([15000]), değer aralığı: 1-7\n"
          ]
        }
      ]
    },
    {
      "cell_type": "code",
      "source": [
        "\n",
        "###############################################################################\n",
        "# Model parametreleri - T4 GPU için optimize edildi\n",
        "###############################################################################\n",
        "vocab_size = max(np.max(train_sentences), np.max(val_sentences), np.max(test_sentences)) + 1\n",
        "embed_dim = 768       # 512'den 768'e çıkarıldı - daha güçlü model\n",
        "num_heads = 12        # 8'den 12'ye çıkarıldı - çoklu dikkat başlıkları için\n",
        "hidden_dim = 3072     # 2048'den 3072'ye çıkarıldı - daha fazla öğrenme kapasitesi\n",
        "num_layers = 6        # 8'den 6'ya düşürüldü - daha verimli eğitim için, derinlikten çok genişlik\n",
        "# num_classes değeri yukarıda tanımlandı (8 NER etiketi)\n",
        "dropout = 0.2         # 0.1'den 0.2'ye çıkarıldı - overfitting'e karşı daha güçlü koruma\n",
        "\n",
        "print(f\"Sözlük boyutu: {vocab_size}\")\n",
        "print(f\"NER için sınıf sayısı: {num_classes}\")\n",
        "print(f\"Model parametreleri: embed_dim={embed_dim}, num_heads={num_heads}, hidden_dim={hidden_dim}, num_layers={num_layers}\")\n",
        "\n",
        "# Kritik bilgi - Loss fonksiyonu için\n",
        "print(f\"CrossEntropyLoss için sınıf aralığı doğrulaması: Sınıf sayısı={num_classes}, Etiket aralığı={train_labels_tensor.min().item()}-{train_labels_tensor.max().item()}\")\n",
        "if train_labels_tensor.min().item() < 0 or train_labels_tensor.max().item() >= num_classes:\n",
        "    raise ValueError(\"Etiketler geçersiz aralıkta! Bu hatayı düzeltmeden devam etmeyin.\")\n",
        "else:\n",
        "    print(\"✅ Etiket aralığı doğrulandı, CrossEntropyLoss için uygun (0-7 arası NER etiketleri)\")\n",
        "\n",
        "###############################################################################\n",
        "# T4 GPU için model optimizasyonu\n",
        "###############################################################################\n",
        "# GPU kullanılabiliyorsa kullan\n",
        "device = torch.device(\"cuda\" if torch.cuda.is_available() else \"cpu\")\n",
        "print(f\"Kullanılan cihaz: {device}\")\n",
        "\n",
        "# Model oluşturma\n",
        "model = TransformerModel(vocab_size, embed_dim, num_heads, hidden_dim, num_layers, num_classes, dropout)\n",
        "model = model.to(device)  # Modeli GPU'ya taşı, dtype belirtmeden\n",
        "print(f\"Model parametreleri sayısı: {sum(p.numel() for p in model.parameters()):,}\")\n",
        "\n",
        "# GPU kullanım bilgisini göster\n",
        "if torch.cuda.is_available():\n",
        "    print(f\"GPU: {torch.cuda.get_device_name(0)}\")\n",
        "    print(f\"GPU belleği (toplam): {torch.cuda.get_device_properties(0).total_memory / 1e9:.2f} GB\")\n",
        "    print(f\"GPU belleği (kullanılan): {torch.cuda.memory_allocated() / 1e9:.2f} GB\")\n",
        "    print(f\"GPU belleği (önbellek): {torch.cuda.memory_reserved() / 1e9:.2f} GB\")\n",
        "\n",
        "# Karma hassasiyet eğitimi için scaler\n",
        "scaler = GradScaler()\n",
        "\n",
        "# Kayıp fonksiyonu ve optimizer\n",
        "criterion = nn.CrossEntropyLoss(label_smoothing=0.1)  # Label smoothing ekliyoruz - daha iyi genelleme için\n",
        "optimizer = optim.AdamW(\n",
        "    model.parameters(),\n",
        "    lr=1e-3,  # 5e-4'ten 1e-3'e çıkarıldı - daha hızlı eğitim\n",
        "    betas=(0.9, 0.98),  # Transformer'lar için daha uygun beta değerleri\n",
        "    eps=1e-6,\n",
        "    weight_decay=0.01\n",
        ")\n",
        "\n",
        "# OneCycleLR - T4 GPU için daha hızlı eğitim\n",
        "from torch.optim.lr_scheduler import OneCycleLR\n",
        "total_steps = len(train_loader) * 50  # Epoch sayısıyla uyumlu toplam adım sayısı\n",
        "scheduler = OneCycleLR(\n",
        "    optimizer,\n",
        "    max_lr=1e-3,  # 5e-4'ten 1e-3'e çıkarıldı - daha hızlı eğitim\n",
        "    total_steps=total_steps,\n",
        "    pct_start=0.1,  # Adımların %10'unda öğrenme oranını maksimuma çıkar\n",
        "    anneal_strategy='cos',\n",
        "    div_factor=10.0,  # 25.0'dan 10.0'a düşürüldü\n",
        "    final_div_factor=100.0  # 1000.0'dan 100.0'a düşürüldü\n",
        ")\n",
        "\n",
        "###############################################################################\n",
        "# Optimize edilmiş eğitim fonksiyonları\n",
        "###############################################################################\n",
        "# Eğitim fonksiyonu (karma hassasiyetle)\n",
        "def train_epoch(model, loader, optimizer, criterion, device, scaler, scheduler):\n",
        "    model.train()\n",
        "    total_loss = 0\n",
        "    correct = 0\n",
        "    total = 0\n",
        "\n",
        "    progress_bar = tqdm(loader, desc=\"Eğitim\")\n",
        "    for batch_idx, (inputs, targets) in enumerate(progress_bar):\n",
        "        inputs, targets = inputs.to(device, non_blocking=True), targets.to(device, non_blocking=True)\n",
        "\n",
        "        optimizer.zero_grad(set_to_none=True)  # Daha hızlı ve daha az bellek kullanımı\n",
        "\n",
        "        # Karma hassasiyet eğitimi\n",
        "        with autocast():\n",
        "            outputs = model(inputs)\n",
        "            loss = criterion(outputs, targets)\n",
        "\n",
        "        # Karma hassasiyet geriye yayılım\n",
        "        scaler.scale(loss).backward()\n",
        "\n",
        "        # Gradyan patlamasını önle\n",
        "        torch.nn.utils.clip_grad_norm_(model.parameters(), max_norm=1.0)\n",
        "\n",
        "        scaler.step(optimizer)\n",
        "        scaler.update()\n",
        "\n",
        "        # OneCycleLR her batch sonrası güncellenir\n",
        "        scheduler.step()\n",
        "\n",
        "        total_loss += loss.item()\n",
        "        _, predicted = outputs.max(1)\n",
        "        total += targets.size(0)\n",
        "        correct += predicted.eq(targets).sum().item()\n",
        "\n",
        "        # Progress bar güncelleme\n",
        "        progress_bar.set_postfix({\n",
        "            'loss': f\"{total_loss/(batch_idx+1):.4f}\",\n",
        "            'acc': f\"{100.*correct/total:.2f}%\",\n",
        "            'lr': f\"{scheduler.get_last_lr()[0]:.6f}\"\n",
        "        })\n",
        "\n",
        "        # GPU belleğini temizle\n",
        "        if batch_idx % 10 == 0:\n",
        "            torch.cuda.empty_cache()\n",
        "\n",
        "    accuracy = 100. * correct / total\n",
        "    avg_loss = total_loss / len(loader)\n",
        "    return avg_loss, accuracy\n",
        "\n",
        "# Doğrulama fonksiyonu\n",
        "def validate(model, loader, criterion, device):\n",
        "    model.eval()\n",
        "    total_loss = 0\n",
        "    correct = 0\n",
        "    total = 0\n",
        "\n",
        "    with torch.no_grad():\n",
        "        progress_bar = tqdm(loader, desc=\"Doğrulama\")\n",
        "        for batch_idx, (inputs, targets) in enumerate(progress_bar):\n",
        "            inputs, targets = inputs.to(device, non_blocking=True), targets.to(device, non_blocking=True)\n",
        "\n",
        "            with autocast():\n",
        "                outputs = model(inputs)\n",
        "                loss = criterion(outputs, targets)\n",
        "\n",
        "            total_loss += loss.item()\n",
        "            _, predicted = outputs.max(1)\n",
        "            total += targets.size(0)\n",
        "            correct += predicted.eq(targets).sum().item()\n",
        "\n",
        "            # Progress bar güncelleme\n",
        "            progress_bar.set_postfix({\n",
        "                'loss': f\"{total_loss/(batch_idx+1):.4f}\",\n",
        "                'acc': f\"{100.*correct/total:.2f}%\"\n",
        "            })\n",
        "\n",
        "    accuracy = 100. * correct / total\n",
        "    avg_loss = total_loss / len(loader)\n",
        "    return avg_loss, accuracy\n",
        "\n",
        "###############################################################################\n",
        "# Model eğitimi\n",
        "###############################################################################\n",
        "epochs = 50  # 25'ten 50'ye güncellendi\n",
        "train_losses = []\n",
        "train_accuracies = []\n",
        "val_losses = []\n",
        "val_accuracies = []\n",
        "best_val_loss = float('inf')\n",
        "best_val_acc = 0.0  # En iyi doğrulama doğruluğunu da takip ediyoruz\n",
        "best_model_path = \"best_model.pt\"\n",
        "best_model_acc_path = \"best_model_acc.pt\"  # Doğruluk tabanlı en iyi model\n",
        "patience = 10  # Erken durdurma için sabır parametresi\n",
        "patience_counter = 0  # Sabır sayacı\n",
        "\n",
        "print(\"Model eğitimi başlıyor...\")\n",
        "\n",
        "try:\n",
        "    for epoch in range(epochs):\n",
        "        print(f\"\\nEpoch {epoch+1}/{epochs} başlıyor...\")\n",
        "\n",
        "        # GPU belleğini temizle\n",
        "        torch.cuda.empty_cache()\n",
        "\n",
        "        # Eğitim\n",
        "        train_loss, train_accuracy = train_epoch(model, train_loader, optimizer, criterion, device, scaler, scheduler)\n",
        "        train_losses.append(train_loss)\n",
        "        train_accuracies.append(train_accuracy)\n",
        "\n",
        "        # Doğrulama öncesi GPU belleğini temizle\n",
        "        torch.cuda.empty_cache()\n",
        "\n",
        "        # Doğrulama\n",
        "        val_loss, val_accuracy = validate(model, val_loader, criterion, device)\n",
        "        val_losses.append(val_loss)\n",
        "        val_accuracies.append(val_accuracy)\n",
        "\n",
        "        # Güncel öğrenme oranını al\n",
        "        current_lr = optimizer.param_groups[0]['lr']\n",
        "\n",
        "        # En iyi modeli kaydet - kayıp tabanlı\n",
        "        model_improved = False\n",
        "        if val_loss < best_val_loss:\n",
        "            best_val_loss = val_loss\n",
        "            model_improved = True\n",
        "\n",
        "            # Model durumunu ve konfigürasyonu kaydet\n",
        "            checkpoint = {\n",
        "                'epoch': epoch,\n",
        "                'model_state_dict': model.state_dict(),\n",
        "                'optimizer_state_dict': optimizer.state_dict(),\n",
        "                'scheduler_state_dict': scheduler.state_dict() if hasattr(scheduler, 'state_dict') else None,\n",
        "                'loss': val_loss,\n",
        "                'accuracy': val_accuracy,\n",
        "                'config': {\n",
        "                    'vocab_size': vocab_size,\n",
        "                    'embed_dim': embed_dim,\n",
        "                    'num_heads': num_heads,\n",
        "                    'hidden_dim': hidden_dim,\n",
        "                    'num_layers': num_layers,\n",
        "                    'num_classes': num_classes,\n",
        "                    'dropout': dropout\n",
        "                }\n",
        "            }\n",
        "\n",
        "            torch.save(checkpoint, best_model_path)\n",
        "            print(f\"Yeni en iyi model kaydedildi (loss): {best_model_path}\")\n",
        "            patience_counter = 0  # Sabır sayacını sıfırla\n",
        "        else:\n",
        "            patience_counter += 1  # Sabır sayacını artır\n",
        "\n",
        "        # Doğruluk bazlı en iyi modeli de kaydet\n",
        "        if val_accuracy > best_val_acc:\n",
        "            best_val_acc = val_accuracy\n",
        "\n",
        "            # Doğruluk bazlı model durumunu kaydet\n",
        "            acc_checkpoint = {\n",
        "                'epoch': epoch,\n",
        "                'model_state_dict': model.state_dict(),\n",
        "                'accuracy': val_accuracy,\n",
        "                'loss': val_loss,\n",
        "                'config': {\n",
        "                    'vocab_size': vocab_size,\n",
        "                    'embed_dim': embed_dim,\n",
        "                    'num_heads': num_heads,\n",
        "                    'hidden_dim': hidden_dim,\n",
        "                    'num_layers': num_layers,\n",
        "                    'num_classes': num_classes,\n",
        "                    'dropout': dropout\n",
        "                }\n",
        "            }\n",
        "\n",
        "            torch.save(acc_checkpoint, best_model_acc_path)\n",
        "            print(f\"Yeni en iyi model kaydedildi (acc): {best_model_acc_path}\")\n",
        "\n",
        "        print(f\"Epoch {epoch+1}/{epochs}: \"\n",
        "              f\"Train Loss: {train_loss:.4f}, Train Acc: {train_accuracy:.2f}%, \"\n",
        "              f\"Val Loss: {val_loss:.4f}, Val Acc: {val_accuracy:.2f}%, \"\n",
        "              f\"LR: {current_lr:.6f}\")\n",
        "\n",
        "        # Her 5 epoch'ta ara checkpoint kaydet\n",
        "        if (epoch + 1) % 5 == 0:\n",
        "            checkpoint_path = f\"model_checkpoint_epoch_{epoch+1}.pt\"\n",
        "            torch.save({\n",
        "                'epoch': epoch,\n",
        "                'model_state_dict': model.state_dict(),\n",
        "                'optimizer_state_dict': optimizer.state_dict(),\n",
        "                'loss': val_loss,\n",
        "                'accuracy': val_accuracy\n",
        "            }, checkpoint_path)\n",
        "            print(f\"Checkpoint kaydedildi: {checkpoint_path}\")\n",
        "\n",
        "        # GPU kullanım istatistikleri\n",
        "        if torch.cuda.is_available():\n",
        "            print(f\"GPU belleği (kullanılan): {torch.cuda.memory_allocated() / 1e9:.2f} GB\")\n",
        "            print(f\"GPU belleği (önbellek): {torch.cuda.memory_reserved() / 1e9:.2f} GB\")\n",
        "\n",
        "        # Erken durdurma kontrolü\n",
        "        if patience_counter >= patience:\n",
        "            print(f\"Validation loss {patience} epoch'tur iyileşmiyor. Eğitim erken durduruluyor.\")\n",
        "            print(f\"En iyi validation loss: {best_val_loss:.4f}, En iyi validation accuracy: {best_val_acc:.2f}%\")\n",
        "            break\n",
        "\n",
        "except KeyboardInterrupt:\n",
        "    print(\"Eğitim kullanıcı tarafından durduruldu.\")\n",
        "except Exception as e:\n",
        "    print(f\"Eğitim sırasında hata: {e}\")\n",
        "    import traceback\n",
        "    traceback.print_exc()"
      ],
      "metadata": {
        "colab": {
          "base_uri": "https://localhost:8080/"
        },
        "id": "EGW72GsXfKYY",
        "outputId": "5aa7503d-651f-48b5-e227-c80e260b2545"
      },
      "execution_count": 7,
      "outputs": [
        {
          "output_type": "stream",
          "name": "stdout",
          "text": [
            "Sözlük boyutu: 102338\n",
            "NER için sınıf sayısı: 8\n",
            "Model parametreleri: embed_dim=768, num_heads=12, hidden_dim=3072, num_layers=6\n",
            "CrossEntropyLoss için sınıf aralığı doğrulaması: Sınıf sayısı=8, Etiket aralığı=1-7\n",
            "✅ Etiket aralığı doğrulandı, CrossEntropyLoss için uygun (0-7 arası NER etiketleri)\n",
            "Kullanılan cihaz: cuda\n",
            "Model parametreleri sayısı: 123,853,832\n",
            "GPU: Tesla T4\n",
            "GPU belleği (toplam): 15.83 GB\n",
            "GPU belleği (kullanılan): 0.50 GB\n",
            "GPU belleği (önbellek): 0.53 GB\n",
            "Model eğitimi başlıyor...\n",
            "\n",
            "Epoch 1/50 başlıyor...\n"
          ]
        },
        {
          "output_type": "stream",
          "name": "stderr",
          "text": [
            "Eğitim: 100%|██████████| 69/69 [00:38<00:00,  1.78it/s, loss=2.0338, acc=18.62%, lr=0.000186]\n",
            "Doğrulama: 100%|██████████| 8/8 [00:02<00:00,  3.00it/s, loss=1.9537, acc=24.29%]\n"
          ]
        },
        {
          "output_type": "stream",
          "name": "stdout",
          "text": [
            "Yeni en iyi model kaydedildi (loss): best_model.pt\n",
            "Yeni en iyi model kaydedildi (acc): best_model_acc.pt\n",
            "Epoch 1/50: Train Loss: 2.0338, Train Acc: 18.62%, Val Loss: 1.9537, Val Acc: 24.29%, LR: 0.000186\n",
            "GPU belleği (kullanılan): 2.01 GB\n",
            "GPU belleği (önbellek): 5.41 GB\n",
            "\n",
            "Epoch 2/50 başlıyor...\n"
          ]
        },
        {
          "output_type": "stream",
          "name": "stderr",
          "text": [
            "Eğitim: 100%|██████████| 69/69 [00:39<00:00,  1.75it/s, loss=1.9496, acc=24.26%, lr=0.000413]\n",
            "Doğrulama: 100%|██████████| 8/8 [00:02<00:00,  2.98it/s, loss=1.9178, acc=27.28%]\n"
          ]
        },
        {
          "output_type": "stream",
          "name": "stdout",
          "text": [
            "Yeni en iyi model kaydedildi (loss): best_model.pt\n",
            "Yeni en iyi model kaydedildi (acc): best_model_acc.pt\n",
            "Epoch 2/50: Train Loss: 1.9496, Train Acc: 24.26%, Val Loss: 1.9178, Val Acc: 27.28%, LR: 0.000413\n",
            "GPU belleği (kullanılan): 2.01 GB\n",
            "GPU belleği (önbellek): 5.42 GB\n",
            "\n",
            "Epoch 3/50 başlıyor...\n"
          ]
        },
        {
          "output_type": "stream",
          "name": "stderr",
          "text": [
            "Eğitim: 100%|██████████| 69/69 [00:40<00:00,  1.69it/s, loss=1.9257, acc=26.72%, lr=0.000691]\n",
            "Doğrulama: 100%|██████████| 8/8 [00:02<00:00,  2.76it/s, loss=1.8965, acc=29.32%]\n"
          ]
        },
        {
          "output_type": "stream",
          "name": "stdout",
          "text": [
            "Yeni en iyi model kaydedildi (loss): best_model.pt\n",
            "Yeni en iyi model kaydedildi (acc): best_model_acc.pt\n",
            "Epoch 3/50: Train Loss: 1.9257, Train Acc: 26.72%, Val Loss: 1.8965, Val Acc: 29.32%, LR: 0.000691\n",
            "GPU belleği (kullanılan): 2.01 GB\n",
            "GPU belleği (önbellek): 5.42 GB\n",
            "\n",
            "Epoch 4/50 başlıyor...\n"
          ]
        },
        {
          "output_type": "stream",
          "name": "stderr",
          "text": [
            "Eğitim: 100%|██████████| 69/69 [00:41<00:00,  1.65it/s, loss=1.8944, acc=30.05%, lr=0.000916]\n",
            "Doğrulama: 100%|██████████| 8/8 [00:02<00:00,  2.84it/s, loss=1.8364, acc=34.13%]\n"
          ]
        },
        {
          "output_type": "stream",
          "name": "stdout",
          "text": [
            "Yeni en iyi model kaydedildi (loss): best_model.pt\n",
            "Yeni en iyi model kaydedildi (acc): best_model_acc.pt\n",
            "Epoch 4/50: Train Loss: 1.8944, Train Acc: 30.05%, Val Loss: 1.8364, Val Acc: 34.13%, LR: 0.000916\n",
            "GPU belleği (kullanılan): 2.01 GB\n",
            "GPU belleği (önbellek): 5.41 GB\n",
            "\n",
            "Epoch 5/50 başlıyor...\n"
          ]
        },
        {
          "output_type": "stream",
          "name": "stderr",
          "text": [
            "Eğitim: 100%|██████████| 69/69 [00:41<00:00,  1.66it/s, loss=1.7940, acc=34.86%, lr=0.001000]\n",
            "Doğrulama: 100%|██████████| 8/8 [00:02<00:00,  2.75it/s, loss=1.7197, acc=37.18%]\n"
          ]
        },
        {
          "output_type": "stream",
          "name": "stdout",
          "text": [
            "Yeni en iyi model kaydedildi (loss): best_model.pt\n",
            "Yeni en iyi model kaydedildi (acc): best_model_acc.pt\n",
            "Epoch 5/50: Train Loss: 1.7940, Train Acc: 34.86%, Val Loss: 1.7197, Val Acc: 37.18%, LR: 0.001000\n",
            "Checkpoint kaydedildi: model_checkpoint_epoch_5.pt\n",
            "GPU belleği (kullanılan): 2.01 GB\n",
            "GPU belleği (önbellek): 5.42 GB\n",
            "\n",
            "Epoch 6/50 başlıyor...\n"
          ]
        },
        {
          "output_type": "stream",
          "name": "stderr",
          "text": [
            "Eğitim: 100%|██████████| 69/69 [00:41<00:00,  1.66it/s, loss=1.7236, acc=37.08%, lr=0.000999]\n",
            "Doğrulama: 100%|██████████| 8/8 [00:02<00:00,  2.72it/s, loss=1.6852, acc=39.05%]\n"
          ]
        },
        {
          "output_type": "stream",
          "name": "stdout",
          "text": [
            "Yeni en iyi model kaydedildi (loss): best_model.pt\n",
            "Yeni en iyi model kaydedildi (acc): best_model_acc.pt\n",
            "Epoch 6/50: Train Loss: 1.7236, Train Acc: 37.08%, Val Loss: 1.6852, Val Acc: 39.05%, LR: 0.000999\n",
            "GPU belleği (kullanılan): 2.01 GB\n",
            "GPU belleği (önbellek): 5.41 GB\n",
            "\n",
            "Epoch 7/50 başlıyor...\n"
          ]
        },
        {
          "output_type": "stream",
          "name": "stderr",
          "text": [
            "Eğitim: 100%|██████████| 69/69 [00:41<00:00,  1.66it/s, loss=1.6829, acc=39.13%, lr=0.000995]\n",
            "Doğrulama: 100%|██████████| 8/8 [00:02<00:00,  2.78it/s, loss=1.6306, acc=41.67%]\n"
          ]
        },
        {
          "output_type": "stream",
          "name": "stdout",
          "text": [
            "Yeni en iyi model kaydedildi (loss): best_model.pt\n",
            "Yeni en iyi model kaydedildi (acc): best_model_acc.pt\n",
            "Epoch 7/50: Train Loss: 1.6829, Train Acc: 39.13%, Val Loss: 1.6306, Val Acc: 41.67%, LR: 0.000995\n",
            "GPU belleği (kullanılan): 2.01 GB\n",
            "GPU belleği (önbellek): 5.42 GB\n",
            "\n",
            "Epoch 8/50 başlıyor...\n"
          ]
        },
        {
          "output_type": "stream",
          "name": "stderr",
          "text": [
            "Eğitim: 100%|██████████| 69/69 [00:41<00:00,  1.66it/s, loss=1.6245, acc=41.78%, lr=0.000989]\n",
            "Doğrulama: 100%|██████████| 8/8 [00:02<00:00,  2.78it/s, loss=1.5734, acc=43.69%]\n"
          ]
        },
        {
          "output_type": "stream",
          "name": "stdout",
          "text": [
            "Yeni en iyi model kaydedildi (loss): best_model.pt\n",
            "Yeni en iyi model kaydedildi (acc): best_model_acc.pt\n",
            "Epoch 8/50: Train Loss: 1.6245, Train Acc: 41.78%, Val Loss: 1.5734, Val Acc: 43.69%, LR: 0.000989\n",
            "GPU belleği (kullanılan): 2.01 GB\n",
            "GPU belleği (önbellek): 5.42 GB\n",
            "\n",
            "Epoch 9/50 başlıyor...\n"
          ]
        },
        {
          "output_type": "stream",
          "name": "stderr",
          "text": [
            "Eğitim: 100%|██████████| 69/69 [00:41<00:00,  1.66it/s, loss=1.5657, acc=44.30%, lr=0.000981]\n",
            "Doğrulama: 100%|██████████| 8/8 [00:02<00:00,  2.74it/s, loss=1.5122, acc=47.41%]\n"
          ]
        },
        {
          "output_type": "stream",
          "name": "stdout",
          "text": [
            "Yeni en iyi model kaydedildi (loss): best_model.pt\n",
            "Yeni en iyi model kaydedildi (acc): best_model_acc.pt\n",
            "Epoch 9/50: Train Loss: 1.5657, Train Acc: 44.30%, Val Loss: 1.5122, Val Acc: 47.41%, LR: 0.000981\n",
            "GPU belleği (kullanılan): 2.01 GB\n",
            "GPU belleği (önbellek): 5.41 GB\n",
            "\n",
            "Epoch 10/50 başlıyor...\n"
          ]
        },
        {
          "output_type": "stream",
          "name": "stderr",
          "text": [
            "Eğitim: 100%|██████████| 69/69 [00:41<00:00,  1.66it/s, loss=1.5155, acc=46.59%, lr=0.000970]\n",
            "Doğrulama: 100%|██████████| 8/8 [00:02<00:00,  2.72it/s, loss=1.4633, acc=50.08%]\n"
          ]
        },
        {
          "output_type": "stream",
          "name": "stdout",
          "text": [
            "Yeni en iyi model kaydedildi (loss): best_model.pt\n",
            "Yeni en iyi model kaydedildi (acc): best_model_acc.pt\n",
            "Epoch 10/50: Train Loss: 1.5155, Train Acc: 46.59%, Val Loss: 1.4633, Val Acc: 50.08%, LR: 0.000970\n",
            "Checkpoint kaydedildi: model_checkpoint_epoch_10.pt\n",
            "GPU belleği (kullanılan): 2.01 GB\n",
            "GPU belleği (önbellek): 5.42 GB\n",
            "\n",
            "Epoch 11/50 başlıyor...\n"
          ]
        },
        {
          "output_type": "stream",
          "name": "stderr",
          "text": [
            "Eğitim: 100%|██████████| 69/69 [00:41<00:00,  1.66it/s, loss=1.4682, acc=49.53%, lr=0.000957]\n",
            "Doğrulama: 100%|██████████| 8/8 [00:02<00:00,  2.75it/s, loss=1.4201, acc=53.13%]\n"
          ]
        },
        {
          "output_type": "stream",
          "name": "stdout",
          "text": [
            "Yeni en iyi model kaydedildi (loss): best_model.pt\n",
            "Yeni en iyi model kaydedildi (acc): best_model_acc.pt\n",
            "Epoch 11/50: Train Loss: 1.4682, Train Acc: 49.53%, Val Loss: 1.4201, Val Acc: 53.13%, LR: 0.000957\n",
            "GPU belleği (kullanılan): 2.01 GB\n",
            "GPU belleği (önbellek): 5.41 GB\n",
            "\n",
            "Epoch 12/50 başlıyor...\n"
          ]
        },
        {
          "output_type": "stream",
          "name": "stderr",
          "text": [
            "Eğitim: 100%|██████████| 69/69 [00:41<00:00,  1.67it/s, loss=1.4234, acc=52.36%, lr=0.000941]\n",
            "Doğrulama: 100%|██████████| 8/8 [00:02<00:00,  2.82it/s, loss=1.3776, acc=55.89%]\n"
          ]
        },
        {
          "output_type": "stream",
          "name": "stdout",
          "text": [
            "Yeni en iyi model kaydedildi (loss): best_model.pt\n",
            "Yeni en iyi model kaydedildi (acc): best_model_acc.pt\n",
            "Epoch 12/50: Train Loss: 1.4234, Train Acc: 52.36%, Val Loss: 1.3776, Val Acc: 55.89%, LR: 0.000941\n",
            "GPU belleği (kullanılan): 2.01 GB\n",
            "GPU belleği (önbellek): 5.41 GB\n",
            "\n",
            "Epoch 13/50 başlıyor...\n"
          ]
        },
        {
          "output_type": "stream",
          "name": "stderr",
          "text": [
            "Eğitim: 100%|██████████| 69/69 [00:41<00:00,  1.66it/s, loss=1.3810, acc=55.17%, lr=0.000924]\n",
            "Doğrulama: 100%|██████████| 8/8 [00:02<00:00,  2.77it/s, loss=1.3291, acc=59.07%]\n"
          ]
        },
        {
          "output_type": "stream",
          "name": "stdout",
          "text": [
            "Yeni en iyi model kaydedildi (loss): best_model.pt\n",
            "Yeni en iyi model kaydedildi (acc): best_model_acc.pt\n",
            "Epoch 13/50: Train Loss: 1.3810, Train Acc: 55.17%, Val Loss: 1.3291, Val Acc: 59.07%, LR: 0.000924\n",
            "GPU belleği (kullanılan): 2.01 GB\n",
            "GPU belleği (önbellek): 5.41 GB\n",
            "\n",
            "Epoch 14/50 başlıyor...\n"
          ]
        },
        {
          "output_type": "stream",
          "name": "stderr",
          "text": [
            "Eğitim: 100%|██████████| 69/69 [00:41<00:00,  1.66it/s, loss=1.3351, acc=58.09%, lr=0.000904]\n",
            "Doğrulama: 100%|██████████| 8/8 [00:02<00:00,  2.81it/s, loss=1.2803, acc=61.79%]\n"
          ]
        },
        {
          "output_type": "stream",
          "name": "stdout",
          "text": [
            "Yeni en iyi model kaydedildi (loss): best_model.pt\n",
            "Yeni en iyi model kaydedildi (acc): best_model_acc.pt\n",
            "Epoch 14/50: Train Loss: 1.3351, Train Acc: 58.09%, Val Loss: 1.2803, Val Acc: 61.79%, LR: 0.000904\n",
            "GPU belleği (kullanılan): 2.01 GB\n",
            "GPU belleği (önbellek): 5.42 GB\n",
            "\n",
            "Epoch 15/50 başlıyor...\n"
          ]
        },
        {
          "output_type": "stream",
          "name": "stderr",
          "text": [
            "Eğitim: 100%|██████████| 69/69 [00:41<00:00,  1.66it/s, loss=1.2868, acc=60.85%, lr=0.000883]\n",
            "Doğrulama: 100%|██████████| 8/8 [00:02<00:00,  2.75it/s, loss=1.2326, acc=64.15%]\n"
          ]
        },
        {
          "output_type": "stream",
          "name": "stdout",
          "text": [
            "Yeni en iyi model kaydedildi (loss): best_model.pt\n",
            "Yeni en iyi model kaydedildi (acc): best_model_acc.pt\n",
            "Epoch 15/50: Train Loss: 1.2868, Train Acc: 60.85%, Val Loss: 1.2326, Val Acc: 64.15%, LR: 0.000883\n",
            "Checkpoint kaydedildi: model_checkpoint_epoch_15.pt\n",
            "GPU belleği (kullanılan): 2.01 GB\n",
            "GPU belleği (önbellek): 5.42 GB\n",
            "\n",
            "Epoch 16/50 başlıyor...\n"
          ]
        },
        {
          "output_type": "stream",
          "name": "stderr",
          "text": [
            "Eğitim: 100%|██████████| 69/69 [00:41<00:00,  1.66it/s, loss=1.2419, acc=63.19%, lr=0.000859]\n",
            "Doğrulama: 100%|██████████| 8/8 [00:02<00:00,  2.74it/s, loss=1.1845, acc=66.27%]\n"
          ]
        },
        {
          "output_type": "stream",
          "name": "stdout",
          "text": [
            "Yeni en iyi model kaydedildi (loss): best_model.pt\n",
            "Yeni en iyi model kaydedildi (acc): best_model_acc.pt\n",
            "Epoch 16/50: Train Loss: 1.2419, Train Acc: 63.19%, Val Loss: 1.1845, Val Acc: 66.27%, LR: 0.000859\n",
            "GPU belleği (kullanılan): 2.01 GB\n",
            "GPU belleği (önbellek): 5.42 GB\n",
            "\n",
            "Epoch 17/50 başlıyor...\n"
          ]
        },
        {
          "output_type": "stream",
          "name": "stderr",
          "text": [
            "Eğitim: 100%|██████████| 69/69 [00:41<00:00,  1.66it/s, loss=1.2024, acc=65.22%, lr=0.000834]\n",
            "Doğrulama: 100%|██████████| 8/8 [00:02<00:00,  2.74it/s, loss=1.1488, acc=67.99%]\n"
          ]
        },
        {
          "output_type": "stream",
          "name": "stdout",
          "text": [
            "Yeni en iyi model kaydedildi (loss): best_model.pt\n",
            "Yeni en iyi model kaydedildi (acc): best_model_acc.pt\n",
            "Epoch 17/50: Train Loss: 1.2024, Train Acc: 65.22%, Val Loss: 1.1488, Val Acc: 67.99%, LR: 0.000834\n",
            "GPU belleği (kullanılan): 2.01 GB\n",
            "GPU belleği (önbellek): 5.41 GB\n",
            "\n",
            "Epoch 18/50 başlıyor...\n"
          ]
        },
        {
          "output_type": "stream",
          "name": "stderr",
          "text": [
            "Eğitim: 100%|██████████| 69/69 [00:41<00:00,  1.66it/s, loss=1.1652, acc=67.08%, lr=0.000808]\n",
            "Doğrulama: 100%|██████████| 8/8 [00:02<00:00,  2.78it/s, loss=1.1123, acc=69.81%]\n"
          ]
        },
        {
          "output_type": "stream",
          "name": "stdout",
          "text": [
            "Yeni en iyi model kaydedildi (loss): best_model.pt\n",
            "Yeni en iyi model kaydedildi (acc): best_model_acc.pt\n",
            "Epoch 18/50: Train Loss: 1.1652, Train Acc: 67.08%, Val Loss: 1.1123, Val Acc: 69.81%, LR: 0.000808\n",
            "GPU belleği (kullanılan): 2.01 GB\n",
            "GPU belleği (önbellek): 5.41 GB\n",
            "\n",
            "Epoch 19/50 başlıyor...\n"
          ]
        },
        {
          "output_type": "stream",
          "name": "stderr",
          "text": [
            "Eğitim: 100%|██████████| 69/69 [00:41<00:00,  1.67it/s, loss=1.1340, acc=68.78%, lr=0.000779]\n",
            "Doğrulama: 100%|██████████| 8/8 [00:02<00:00,  2.82it/s, loss=1.0832, acc=70.89%]\n"
          ]
        },
        {
          "output_type": "stream",
          "name": "stdout",
          "text": [
            "Yeni en iyi model kaydedildi (loss): best_model.pt\n",
            "Yeni en iyi model kaydedildi (acc): best_model_acc.pt\n",
            "Epoch 19/50: Train Loss: 1.1340, Train Acc: 68.78%, Val Loss: 1.0832, Val Acc: 70.89%, LR: 0.000779\n",
            "GPU belleği (kullanılan): 2.01 GB\n",
            "GPU belleği (önbellek): 5.42 GB\n",
            "\n",
            "Epoch 20/50 başlıyor...\n"
          ]
        },
        {
          "output_type": "stream",
          "name": "stderr",
          "text": [
            "Eğitim: 100%|██████████| 69/69 [00:41<00:00,  1.66it/s, loss=1.1050, acc=70.10%, lr=0.000750]\n",
            "Doğrulama: 100%|██████████| 8/8 [00:02<00:00,  2.78it/s, loss=1.0601, acc=71.98%]\n"
          ]
        },
        {
          "output_type": "stream",
          "name": "stdout",
          "text": [
            "Yeni en iyi model kaydedildi (loss): best_model.pt\n",
            "Yeni en iyi model kaydedildi (acc): best_model_acc.pt\n",
            "Epoch 20/50: Train Loss: 1.1050, Train Acc: 70.10%, Val Loss: 1.0601, Val Acc: 71.98%, LR: 0.000750\n",
            "Checkpoint kaydedildi: model_checkpoint_epoch_20.pt\n",
            "GPU belleği (kullanılan): 2.01 GB\n",
            "GPU belleği (önbellek): 5.42 GB\n",
            "\n",
            "Epoch 21/50 başlıyor...\n"
          ]
        },
        {
          "output_type": "stream",
          "name": "stderr",
          "text": [
            "Eğitim: 100%|██████████| 69/69 [00:41<00:00,  1.66it/s, loss=1.0815, acc=71.25%, lr=0.000719]\n",
            "Doğrulama: 100%|██████████| 8/8 [00:02<00:00,  2.74it/s, loss=1.0381, acc=73.20%]\n"
          ]
        },
        {
          "output_type": "stream",
          "name": "stdout",
          "text": [
            "Yeni en iyi model kaydedildi (loss): best_model.pt\n",
            "Yeni en iyi model kaydedildi (acc): best_model_acc.pt\n",
            "Epoch 21/50: Train Loss: 1.0815, Train Acc: 71.25%, Val Loss: 1.0381, Val Acc: 73.20%, LR: 0.000719\n",
            "GPU belleği (kullanılan): 2.01 GB\n",
            "GPU belleği (önbellek): 5.41 GB\n",
            "\n",
            "Epoch 22/50 başlıyor...\n"
          ]
        },
        {
          "output_type": "stream",
          "name": "stderr",
          "text": [
            "Eğitim: 100%|██████████| 69/69 [00:41<00:00,  1.66it/s, loss=1.0637, acc=72.13%, lr=0.000687]\n",
            "Doğrulama: 100%|██████████| 8/8 [00:02<00:00,  2.74it/s, loss=1.0269, acc=73.61%]\n"
          ]
        },
        {
          "output_type": "stream",
          "name": "stdout",
          "text": [
            "Yeni en iyi model kaydedildi (loss): best_model.pt\n",
            "Yeni en iyi model kaydedildi (acc): best_model_acc.pt\n",
            "Epoch 22/50: Train Loss: 1.0637, Train Acc: 72.13%, Val Loss: 1.0269, Val Acc: 73.61%, LR: 0.000687\n",
            "GPU belleği (kullanılan): 2.01 GB\n",
            "GPU belleği (önbellek): 5.42 GB\n",
            "\n",
            "Epoch 23/50 başlıyor...\n"
          ]
        },
        {
          "output_type": "stream",
          "name": "stderr",
          "text": [
            "Eğitim: 100%|██████████| 69/69 [00:41<00:00,  1.66it/s, loss=1.0463, acc=72.90%, lr=0.000654]\n",
            "Doğrulama: 100%|██████████| 8/8 [00:02<00:00,  2.80it/s, loss=1.0113, acc=74.53%]\n"
          ]
        },
        {
          "output_type": "stream",
          "name": "stdout",
          "text": [
            "Yeni en iyi model kaydedildi (loss): best_model.pt\n",
            "Yeni en iyi model kaydedildi (acc): best_model_acc.pt\n",
            "Epoch 23/50: Train Loss: 1.0463, Train Acc: 72.90%, Val Loss: 1.0113, Val Acc: 74.53%, LR: 0.000654\n",
            "GPU belleği (kullanılan): 2.01 GB\n",
            "GPU belleği (önbellek): 5.41 GB\n",
            "\n",
            "Epoch 24/50 başlıyor...\n"
          ]
        },
        {
          "output_type": "stream",
          "name": "stderr",
          "text": [
            "Eğitim: 100%|██████████| 69/69 [00:41<00:00,  1.66it/s, loss=1.0312, acc=73.80%, lr=0.000621]\n",
            "Doğrulama: 100%|██████████| 8/8 [00:02<00:00,  2.78it/s, loss=0.9972, acc=75.12%]\n"
          ]
        },
        {
          "output_type": "stream",
          "name": "stdout",
          "text": [
            "Yeni en iyi model kaydedildi (loss): best_model.pt\n",
            "Yeni en iyi model kaydedildi (acc): best_model_acc.pt\n",
            "Epoch 24/50: Train Loss: 1.0312, Train Acc: 73.80%, Val Loss: 0.9972, Val Acc: 75.12%, LR: 0.000621\n",
            "GPU belleği (kullanılan): 2.01 GB\n",
            "GPU belleği (önbellek): 5.41 GB\n",
            "\n",
            "Epoch 25/50 başlıyor...\n"
          ]
        },
        {
          "output_type": "stream",
          "name": "stderr",
          "text": [
            "Eğitim: 100%|██████████| 69/69 [00:41<00:00,  1.66it/s, loss=1.0190, acc=74.38%, lr=0.000587]\n",
            "Doğrulama: 100%|██████████| 8/8 [00:02<00:00,  2.80it/s, loss=0.9850, acc=75.54%]\n"
          ]
        },
        {
          "output_type": "stream",
          "name": "stdout",
          "text": [
            "Yeni en iyi model kaydedildi (loss): best_model.pt\n",
            "Yeni en iyi model kaydedildi (acc): best_model_acc.pt\n",
            "Epoch 25/50: Train Loss: 1.0190, Train Acc: 74.38%, Val Loss: 0.9850, Val Acc: 75.54%, LR: 0.000587\n",
            "Checkpoint kaydedildi: model_checkpoint_epoch_25.pt\n",
            "GPU belleği (kullanılan): 2.01 GB\n",
            "GPU belleği (önbellek): 5.42 GB\n",
            "\n",
            "Epoch 26/50 başlıyor...\n"
          ]
        },
        {
          "output_type": "stream",
          "name": "stderr",
          "text": [
            "Eğitim: 100%|██████████| 69/69 [00:41<00:00,  1.66it/s, loss=1.0061, acc=75.00%, lr=0.000552]\n",
            "Doğrulama: 100%|██████████| 8/8 [00:02<00:00,  2.75it/s, loss=0.9743, acc=76.00%]\n"
          ]
        },
        {
          "output_type": "stream",
          "name": "stdout",
          "text": [
            "Yeni en iyi model kaydedildi (loss): best_model.pt\n",
            "Yeni en iyi model kaydedildi (acc): best_model_acc.pt\n",
            "Epoch 26/50: Train Loss: 1.0061, Train Acc: 75.00%, Val Loss: 0.9743, Val Acc: 76.00%, LR: 0.000552\n",
            "GPU belleği (kullanılan): 2.01 GB\n",
            "GPU belleği (önbellek): 5.42 GB\n",
            "\n",
            "Epoch 27/50 başlıyor...\n"
          ]
        },
        {
          "output_type": "stream",
          "name": "stderr",
          "text": [
            "Eğitim: 100%|██████████| 69/69 [00:41<00:00,  1.66it/s, loss=0.9974, acc=75.40%, lr=0.000517]\n",
            "Doğrulama: 100%|██████████| 8/8 [00:02<00:00,  2.74it/s, loss=0.9655, acc=76.34%]\n"
          ]
        },
        {
          "output_type": "stream",
          "name": "stdout",
          "text": [
            "Yeni en iyi model kaydedildi (loss): best_model.pt\n",
            "Yeni en iyi model kaydedildi (acc): best_model_acc.pt\n",
            "Epoch 27/50: Train Loss: 0.9974, Train Acc: 75.40%, Val Loss: 0.9655, Val Acc: 76.34%, LR: 0.000517\n",
            "GPU belleği (kullanılan): 2.01 GB\n",
            "GPU belleği (önbellek): 5.41 GB\n",
            "\n",
            "Epoch 28/50 başlıyor...\n"
          ]
        },
        {
          "output_type": "stream",
          "name": "stderr",
          "text": [
            "Eğitim: 100%|██████████| 69/69 [00:41<00:00,  1.66it/s, loss=0.9884, acc=75.73%, lr=0.000483]\n",
            "Doğrulama: 100%|██████████| 8/8 [00:02<00:00,  2.80it/s, loss=0.9653, acc=76.49%]\n"
          ]
        },
        {
          "output_type": "stream",
          "name": "stdout",
          "text": [
            "Yeni en iyi model kaydedildi (loss): best_model.pt\n",
            "Yeni en iyi model kaydedildi (acc): best_model_acc.pt\n",
            "Epoch 28/50: Train Loss: 0.9884, Train Acc: 75.73%, Val Loss: 0.9653, Val Acc: 76.49%, LR: 0.000483\n",
            "GPU belleği (kullanılan): 2.01 GB\n",
            "GPU belleği (önbellek): 5.41 GB\n",
            "\n",
            "Epoch 29/50 başlıyor...\n"
          ]
        },
        {
          "output_type": "stream",
          "name": "stderr",
          "text": [
            "Eğitim: 100%|██████████| 69/69 [00:41<00:00,  1.65it/s, loss=0.9804, acc=76.28%, lr=0.000448]\n",
            "Doğrulama: 100%|██████████| 8/8 [00:02<00:00,  2.77it/s, loss=0.9519, acc=76.87%]\n"
          ]
        },
        {
          "output_type": "stream",
          "name": "stdout",
          "text": [
            "Yeni en iyi model kaydedildi (loss): best_model.pt\n",
            "Yeni en iyi model kaydedildi (acc): best_model_acc.pt\n",
            "Epoch 29/50: Train Loss: 0.9804, Train Acc: 76.28%, Val Loss: 0.9519, Val Acc: 76.87%, LR: 0.000448\n",
            "GPU belleği (kullanılan): 2.01 GB\n",
            "GPU belleği (önbellek): 5.41 GB\n",
            "\n",
            "Epoch 30/50 başlıyor...\n"
          ]
        },
        {
          "output_type": "stream",
          "name": "stderr",
          "text": [
            "Eğitim: 100%|██████████| 69/69 [00:41<00:00,  1.66it/s, loss=0.9728, acc=76.71%, lr=0.000413]\n",
            "Doğrulama: 100%|██████████| 8/8 [00:02<00:00,  2.82it/s, loss=0.9484, acc=77.05%]\n"
          ]
        },
        {
          "output_type": "stream",
          "name": "stdout",
          "text": [
            "Yeni en iyi model kaydedildi (loss): best_model.pt\n",
            "Yeni en iyi model kaydedildi (acc): best_model_acc.pt\n",
            "Epoch 30/50: Train Loss: 0.9728, Train Acc: 76.71%, Val Loss: 0.9484, Val Acc: 77.05%, LR: 0.000413\n",
            "Checkpoint kaydedildi: model_checkpoint_epoch_30.pt\n",
            "GPU belleği (kullanılan): 2.01 GB\n",
            "GPU belleği (önbellek): 5.41 GB\n",
            "\n",
            "Epoch 31/50 başlıyor...\n"
          ]
        },
        {
          "output_type": "stream",
          "name": "stderr",
          "text": [
            "Eğitim: 100%|██████████| 69/69 [00:41<00:00,  1.65it/s, loss=0.9710, acc=76.48%, lr=0.000379]\n",
            "Doğrulama: 100%|██████████| 8/8 [00:02<00:00,  2.75it/s, loss=0.9455, acc=77.20%]\n"
          ]
        },
        {
          "output_type": "stream",
          "name": "stdout",
          "text": [
            "Yeni en iyi model kaydedildi (loss): best_model.pt\n",
            "Yeni en iyi model kaydedildi (acc): best_model_acc.pt\n",
            "Epoch 31/50: Train Loss: 0.9710, Train Acc: 76.48%, Val Loss: 0.9455, Val Acc: 77.20%, LR: 0.000379\n",
            "GPU belleği (kullanılan): 2.01 GB\n",
            "GPU belleği (önbellek): 5.42 GB\n",
            "\n",
            "Epoch 32/50 başlıyor...\n"
          ]
        },
        {
          "output_type": "stream",
          "name": "stderr",
          "text": [
            "Eğitim: 100%|██████████| 69/69 [00:41<00:00,  1.67it/s, loss=0.9665, acc=76.82%, lr=0.000346]\n",
            "Doğrulama: 100%|██████████| 8/8 [00:02<00:00,  2.81it/s, loss=0.9423, acc=77.29%]\n"
          ]
        },
        {
          "output_type": "stream",
          "name": "stdout",
          "text": [
            "Yeni en iyi model kaydedildi (loss): best_model.pt\n",
            "Yeni en iyi model kaydedildi (acc): best_model_acc.pt\n",
            "Epoch 32/50: Train Loss: 0.9665, Train Acc: 76.82%, Val Loss: 0.9423, Val Acc: 77.29%, LR: 0.000346\n",
            "GPU belleği (kullanılan): 2.01 GB\n",
            "GPU belleği (önbellek): 5.42 GB\n",
            "\n",
            "Epoch 33/50 başlıyor...\n"
          ]
        },
        {
          "output_type": "stream",
          "name": "stderr",
          "text": [
            "Eğitim: 100%|██████████| 69/69 [00:41<00:00,  1.66it/s, loss=0.9638, acc=76.90%, lr=0.000313]\n",
            "Doğrulama: 100%|██████████| 8/8 [00:02<00:00,  2.80it/s, loss=0.9408, acc=77.37%]\n"
          ]
        },
        {
          "output_type": "stream",
          "name": "stdout",
          "text": [
            "Yeni en iyi model kaydedildi (loss): best_model.pt\n",
            "Yeni en iyi model kaydedildi (acc): best_model_acc.pt\n",
            "Epoch 33/50: Train Loss: 0.9638, Train Acc: 76.90%, Val Loss: 0.9408, Val Acc: 77.37%, LR: 0.000313\n",
            "GPU belleği (kullanılan): 2.01 GB\n",
            "GPU belleği (önbellek): 5.42 GB\n",
            "\n",
            "Epoch 34/50 başlıyor...\n"
          ]
        },
        {
          "output_type": "stream",
          "name": "stderr",
          "text": [
            "Eğitim: 100%|██████████| 69/69 [00:41<00:00,  1.66it/s, loss=0.9597, acc=77.21%, lr=0.000281]\n",
            "Doğrulama: 100%|██████████| 8/8 [00:02<00:00,  2.76it/s, loss=0.9381, acc=77.63%]\n"
          ]
        },
        {
          "output_type": "stream",
          "name": "stdout",
          "text": [
            "Yeni en iyi model kaydedildi (loss): best_model.pt\n",
            "Yeni en iyi model kaydedildi (acc): best_model_acc.pt\n",
            "Epoch 34/50: Train Loss: 0.9597, Train Acc: 77.21%, Val Loss: 0.9381, Val Acc: 77.63%, LR: 0.000281\n",
            "GPU belleği (kullanılan): 2.01 GB\n",
            "GPU belleği (önbellek): 5.41 GB\n",
            "\n",
            "Epoch 35/50 başlıyor...\n"
          ]
        },
        {
          "output_type": "stream",
          "name": "stderr",
          "text": [
            "Eğitim: 100%|██████████| 69/69 [00:41<00:00,  1.67it/s, loss=0.9581, acc=77.16%, lr=0.000250]\n",
            "Doğrulama: 100%|██████████| 8/8 [00:02<00:00,  2.80it/s, loss=0.9356, acc=77.65%]\n"
          ]
        },
        {
          "output_type": "stream",
          "name": "stdout",
          "text": [
            "Yeni en iyi model kaydedildi (loss): best_model.pt\n",
            "Yeni en iyi model kaydedildi (acc): best_model_acc.pt\n",
            "Epoch 35/50: Train Loss: 0.9581, Train Acc: 77.16%, Val Loss: 0.9356, Val Acc: 77.65%, LR: 0.000250\n",
            "Checkpoint kaydedildi: model_checkpoint_epoch_35.pt\n",
            "GPU belleği (kullanılan): 2.01 GB\n",
            "GPU belleği (önbellek): 5.41 GB\n",
            "\n",
            "Epoch 36/50 başlıyor...\n"
          ]
        },
        {
          "output_type": "stream",
          "name": "stderr",
          "text": [
            "Eğitim: 100%|██████████| 69/69 [00:41<00:00,  1.66it/s, loss=0.9578, acc=77.30%, lr=0.000221]\n",
            "Doğrulama: 100%|██████████| 8/8 [00:02<00:00,  2.75it/s, loss=0.9324, acc=77.95%]\n"
          ]
        },
        {
          "output_type": "stream",
          "name": "stdout",
          "text": [
            "Yeni en iyi model kaydedildi (loss): best_model.pt\n",
            "Yeni en iyi model kaydedildi (acc): best_model_acc.pt\n",
            "Epoch 36/50: Train Loss: 0.9578, Train Acc: 77.30%, Val Loss: 0.9324, Val Acc: 77.95%, LR: 0.000221\n",
            "GPU belleği (kullanılan): 2.01 GB\n",
            "GPU belleği (önbellek): 5.42 GB\n",
            "\n",
            "Epoch 37/50 başlıyor...\n"
          ]
        },
        {
          "output_type": "stream",
          "name": "stderr",
          "text": [
            "Eğitim: 100%|██████████| 69/69 [00:41<00:00,  1.66it/s, loss=0.9540, acc=77.41%, lr=0.000193]\n",
            "Doğrulama: 100%|██████████| 8/8 [00:02<00:00,  2.75it/s, loss=0.9330, acc=77.78%]\n"
          ]
        },
        {
          "output_type": "stream",
          "name": "stdout",
          "text": [
            "Epoch 37/50: Train Loss: 0.9540, Train Acc: 77.41%, Val Loss: 0.9330, Val Acc: 77.78%, LR: 0.000193\n",
            "GPU belleği (kullanılan): 2.01 GB\n",
            "GPU belleği (önbellek): 5.42 GB\n",
            "\n",
            "Epoch 38/50 başlıyor...\n"
          ]
        },
        {
          "output_type": "stream",
          "name": "stderr",
          "text": [
            "Eğitim: 100%|██████████| 69/69 [00:41<00:00,  1.67it/s, loss=0.9532, acc=77.49%, lr=0.000166]\n",
            "Doğrulama: 100%|██████████| 8/8 [00:02<00:00,  2.86it/s, loss=0.9308, acc=77.95%]\n"
          ]
        },
        {
          "output_type": "stream",
          "name": "stdout",
          "text": [
            "Yeni en iyi model kaydedildi (loss): best_model.pt\n",
            "Epoch 38/50: Train Loss: 0.9532, Train Acc: 77.49%, Val Loss: 0.9308, Val Acc: 77.95%, LR: 0.000166\n",
            "GPU belleği (kullanılan): 2.01 GB\n",
            "GPU belleği (önbellek): 5.41 GB\n",
            "\n",
            "Epoch 39/50 başlıyor...\n"
          ]
        },
        {
          "output_type": "stream",
          "name": "stderr",
          "text": [
            "Eğitim: 100%|██████████| 69/69 [00:41<00:00,  1.65it/s, loss=0.9533, acc=77.49%, lr=0.000141]\n",
            "Doğrulama: 100%|██████████| 8/8 [00:02<00:00,  2.68it/s, loss=0.9305, acc=77.98%]\n"
          ]
        },
        {
          "output_type": "stream",
          "name": "stdout",
          "text": [
            "Yeni en iyi model kaydedildi (loss): best_model.pt\n",
            "Yeni en iyi model kaydedildi (acc): best_model_acc.pt\n",
            "Epoch 39/50: Train Loss: 0.9533, Train Acc: 77.49%, Val Loss: 0.9305, Val Acc: 77.98%, LR: 0.000141\n",
            "GPU belleği (kullanılan): 2.01 GB\n",
            "GPU belleği (önbellek): 5.42 GB\n",
            "\n",
            "Epoch 40/50 başlıyor...\n"
          ]
        },
        {
          "output_type": "stream",
          "name": "stderr",
          "text": [
            "Eğitim: 100%|██████████| 69/69 [00:41<00:00,  1.66it/s, loss=0.9510, acc=77.66%, lr=0.000118]\n",
            "Doğrulama: 100%|██████████| 8/8 [00:02<00:00,  2.77it/s, loss=0.9297, acc=78.01%]\n"
          ]
        },
        {
          "output_type": "stream",
          "name": "stdout",
          "text": [
            "Yeni en iyi model kaydedildi (loss): best_model.pt\n",
            "Yeni en iyi model kaydedildi (acc): best_model_acc.pt\n",
            "Epoch 40/50: Train Loss: 0.9510, Train Acc: 77.66%, Val Loss: 0.9297, Val Acc: 78.01%, LR: 0.000118\n",
            "Checkpoint kaydedildi: model_checkpoint_epoch_40.pt\n",
            "GPU belleği (kullanılan): 2.01 GB\n",
            "GPU belleği (önbellek): 5.41 GB\n",
            "\n",
            "Epoch 41/50 başlıyor...\n"
          ]
        },
        {
          "output_type": "stream",
          "name": "stderr",
          "text": [
            "Eğitim: 100%|██████████| 69/69 [00:41<00:00,  1.66it/s, loss=0.9490, acc=77.80%, lr=0.000096]\n",
            "Doğrulama: 100%|██████████| 8/8 [00:02<00:00,  2.72it/s, loss=0.9271, acc=78.20%]\n"
          ]
        },
        {
          "output_type": "stream",
          "name": "stdout",
          "text": [
            "Yeni en iyi model kaydedildi (loss): best_model.pt\n",
            "Yeni en iyi model kaydedildi (acc): best_model_acc.pt\n",
            "Epoch 41/50: Train Loss: 0.9490, Train Acc: 77.80%, Val Loss: 0.9271, Val Acc: 78.20%, LR: 0.000096\n",
            "GPU belleği (kullanılan): 2.01 GB\n",
            "GPU belleği (önbellek): 5.41 GB\n",
            "\n",
            "Epoch 42/50 başlıyor...\n"
          ]
        },
        {
          "output_type": "stream",
          "name": "stderr",
          "text": [
            "Eğitim: 100%|██████████| 69/69 [00:41<00:00,  1.66it/s, loss=0.9492, acc=77.66%, lr=0.000077]\n",
            "Doğrulama: 100%|██████████| 8/8 [00:02<00:00,  2.79it/s, loss=0.9274, acc=78.15%]\n"
          ]
        },
        {
          "output_type": "stream",
          "name": "stdout",
          "text": [
            "Epoch 42/50: Train Loss: 0.9492, Train Acc: 77.66%, Val Loss: 0.9274, Val Acc: 78.15%, LR: 0.000077\n",
            "GPU belleği (kullanılan): 2.01 GB\n",
            "GPU belleği (önbellek): 5.42 GB\n",
            "\n",
            "Epoch 43/50 başlıyor...\n"
          ]
        },
        {
          "output_type": "stream",
          "name": "stderr",
          "text": [
            "Eğitim: 100%|██████████| 69/69 [00:41<00:00,  1.67it/s, loss=0.9497, acc=77.60%, lr=0.000059]\n",
            "Doğrulama: 100%|██████████| 8/8 [00:02<00:00,  2.84it/s, loss=0.9270, acc=78.18%]\n"
          ]
        },
        {
          "output_type": "stream",
          "name": "stdout",
          "text": [
            "Yeni en iyi model kaydedildi (loss): best_model.pt\n",
            "Epoch 43/50: Train Loss: 0.9497, Train Acc: 77.60%, Val Loss: 0.9270, Val Acc: 78.18%, LR: 0.000059\n",
            "GPU belleği (kullanılan): 2.01 GB\n",
            "GPU belleği (önbellek): 5.42 GB\n",
            "\n",
            "Epoch 44/50 başlıyor...\n"
          ]
        },
        {
          "output_type": "stream",
          "name": "stderr",
          "text": [
            "Eğitim: 100%|██████████| 69/69 [00:41<00:00,  1.66it/s, loss=0.9471, acc=77.88%, lr=0.000044]\n",
            "Doğrulama: 100%|██████████| 8/8 [00:02<00:00,  2.67it/s, loss=0.9274, acc=78.17%]\n"
          ]
        },
        {
          "output_type": "stream",
          "name": "stdout",
          "text": [
            "Epoch 44/50: Train Loss: 0.9471, Train Acc: 77.88%, Val Loss: 0.9274, Val Acc: 78.17%, LR: 0.000044\n",
            "GPU belleği (kullanılan): 2.01 GB\n",
            "GPU belleği (önbellek): 5.41 GB\n",
            "\n",
            "Epoch 45/50 başlıyor...\n"
          ]
        },
        {
          "output_type": "stream",
          "name": "stderr",
          "text": [
            "Eğitim: 100%|██████████| 69/69 [00:41<00:00,  1.67it/s, loss=0.9486, acc=77.67%, lr=0.000031]\n",
            "Doğrulama: 100%|██████████| 8/8 [00:02<00:00,  2.85it/s, loss=0.9272, acc=78.13%]\n"
          ]
        },
        {
          "output_type": "stream",
          "name": "stdout",
          "text": [
            "Epoch 45/50: Train Loss: 0.9486, Train Acc: 77.67%, Val Loss: 0.9272, Val Acc: 78.13%, LR: 0.000031\n",
            "Checkpoint kaydedildi: model_checkpoint_epoch_45.pt\n",
            "GPU belleği (kullanılan): 2.01 GB\n",
            "GPU belleği (önbellek): 5.41 GB\n",
            "\n",
            "Epoch 46/50 başlıyor...\n"
          ]
        },
        {
          "output_type": "stream",
          "name": "stderr",
          "text": [
            "Eğitim: 100%|██████████| 69/69 [00:41<00:00,  1.65it/s, loss=0.9473, acc=77.84%, lr=0.000020]\n",
            "Doğrulama: 100%|██████████| 8/8 [00:02<00:00,  2.82it/s, loss=0.9268, acc=78.14%]\n"
          ]
        },
        {
          "output_type": "stream",
          "name": "stdout",
          "text": [
            "Yeni en iyi model kaydedildi (loss): best_model.pt\n",
            "Epoch 46/50: Train Loss: 0.9473, Train Acc: 77.84%, Val Loss: 0.9268, Val Acc: 78.14%, LR: 0.000020\n",
            "GPU belleği (kullanılan): 2.01 GB\n",
            "GPU belleği (önbellek): 5.41 GB\n",
            "\n",
            "Epoch 47/50 başlıyor...\n"
          ]
        },
        {
          "output_type": "stream",
          "name": "stderr",
          "text": [
            "Eğitim: 100%|██████████| 69/69 [00:41<00:00,  1.66it/s, loss=0.9484, acc=77.73%, lr=0.000012]\n",
            "Doğrulama: 100%|██████████| 8/8 [00:02<00:00,  2.74it/s, loss=0.9268, acc=78.17%]\n"
          ]
        },
        {
          "output_type": "stream",
          "name": "stdout",
          "text": [
            "Yeni en iyi model kaydedildi (loss): best_model.pt\n",
            "Epoch 47/50: Train Loss: 0.9484, Train Acc: 77.73%, Val Loss: 0.9268, Val Acc: 78.17%, LR: 0.000012\n",
            "GPU belleği (kullanılan): 2.01 GB\n",
            "GPU belleği (önbellek): 5.41 GB\n",
            "\n",
            "Epoch 48/50 başlıyor...\n"
          ]
        },
        {
          "output_type": "stream",
          "name": "stderr",
          "text": [
            "Eğitim: 100%|██████████| 69/69 [00:41<00:00,  1.67it/s, loss=0.9468, acc=77.63%, lr=0.000006]\n",
            "Doğrulama: 100%|██████████| 8/8 [00:02<00:00,  2.82it/s, loss=0.9269, acc=78.19%]\n"
          ]
        },
        {
          "output_type": "stream",
          "name": "stdout",
          "text": [
            "Epoch 48/50: Train Loss: 0.9468, Train Acc: 77.63%, Val Loss: 0.9269, Val Acc: 78.19%, LR: 0.000006\n",
            "GPU belleği (kullanılan): 2.01 GB\n",
            "GPU belleği (önbellek): 5.42 GB\n",
            "\n",
            "Epoch 49/50 başlıyor...\n"
          ]
        },
        {
          "output_type": "stream",
          "name": "stderr",
          "text": [
            "Eğitim: 100%|██████████| 69/69 [00:41<00:00,  1.67it/s, loss=0.9466, acc=77.91%, lr=0.000002]\n",
            "Doğrulama: 100%|██████████| 8/8 [00:02<00:00,  2.79it/s, loss=0.9269, acc=78.15%]\n"
          ]
        },
        {
          "output_type": "stream",
          "name": "stdout",
          "text": [
            "Epoch 49/50: Train Loss: 0.9466, Train Acc: 77.91%, Val Loss: 0.9269, Val Acc: 78.15%, LR: 0.000002\n",
            "GPU belleği (kullanılan): 2.01 GB\n",
            "GPU belleği (önbellek): 5.41 GB\n",
            "\n",
            "Epoch 50/50 başlıyor...\n"
          ]
        },
        {
          "output_type": "stream",
          "name": "stderr",
          "text": [
            "Eğitim: 100%|██████████| 69/69 [00:41<00:00,  1.66it/s, loss=0.9479, acc=77.73%, lr=0.000001]\n",
            "Doğrulama: 100%|██████████| 8/8 [00:02<00:00,  2.82it/s, loss=0.9269, acc=78.16%]\n"
          ]
        },
        {
          "output_type": "stream",
          "name": "stdout",
          "text": [
            "Epoch 50/50: Train Loss: 0.9479, Train Acc: 77.73%, Val Loss: 0.9269, Val Acc: 78.16%, LR: 0.000001\n",
            "Checkpoint kaydedildi: model_checkpoint_epoch_50.pt\n",
            "GPU belleği (kullanılan): 2.01 GB\n",
            "GPU belleği (önbellek): 5.41 GB\n"
          ]
        }
      ]
    },
    {
      "cell_type": "code",
      "source": [
        "\n",
        "###############################################################################\n",
        "# Test değerlendirmesi\n",
        "###############################################################################\n",
        "# GPU belleğini temizle\n",
        "torch.cuda.empty_cache()\n",
        "\n",
        "# En iyi modeli yükle\n",
        "if os.path.exists(best_model_path):\n",
        "    checkpoint = torch.load(best_model_path, map_location=device)\n",
        "\n",
        "    # Modeli yeni parametrelerle baştan oluştur\n",
        "    config = checkpoint['config']\n",
        "    model = TransformerModel(\n",
        "        config['vocab_size'],\n",
        "        config['embed_dim'],\n",
        "        config['num_heads'],\n",
        "        config['hidden_dim'],\n",
        "        config['num_layers'],\n",
        "        config['num_classes'],\n",
        "        config['dropout']\n",
        "    )\n",
        "\n",
        "    model.load_state_dict(checkpoint['model_state_dict'])\n",
        "    model = model.to(device)  # Modeli GPU'ya taşı, dtype belirtmeden\n",
        "    print(f\"En iyi model yüklendi: Epoch {checkpoint['epoch']+1}, Accuracy: {checkpoint['accuracy']:.2f}%\")\n",
        "else:\n",
        "    print(\"En iyi model bulunamadı, mevcut model kullanılacak\")\n",
        "\n",
        "# Test değerlendirmesi\n",
        "test_loss, test_accuracy = validate(model, test_loader, criterion, device)\n",
        "print(f\"Test Accuracy: {test_accuracy:.2f}%\")\n",
        "print(f\"Test Loss: {test_loss:.4f}\")\n"
      ],
      "metadata": {
        "colab": {
          "base_uri": "https://localhost:8080/"
        },
        "id": "9Nej1VscfVF1",
        "outputId": "79dfe7a3-8b4c-43d7-890b-99a3fc4c417a"
      },
      "execution_count": 10,
      "outputs": [
        {
          "output_type": "stream",
          "name": "stdout",
          "text": [
            "En iyi model yüklendi: Epoch 47, Accuracy: 78.17%\n"
          ]
        },
        {
          "output_type": "stream",
          "name": "stderr",
          "text": [
            "Doğrulama: 100%|██████████| 8/8 [00:02<00:00,  2.78it/s, loss=0.9232, acc=78.51%]"
          ]
        },
        {
          "output_type": "stream",
          "name": "stdout",
          "text": [
            "Test Accuracy: 78.51%\n",
            "Test Loss: 0.9232\n"
          ]
        },
        {
          "output_type": "stream",
          "name": "stderr",
          "text": [
            "\n"
          ]
        }
      ]
    },
    {
      "cell_type": "code",
      "source": [
        "\n",
        "###############################################################################\n",
        "# Eğitim grafiklerini çizme\n",
        "###############################################################################\n",
        "plt.figure(figsize=(12, 5))\n",
        "\n",
        "# Kayıp grafiği\n",
        "plt.subplot(1, 2, 1)\n",
        "plt.plot(train_losses, label='Eğitim Kaybı', color='blue')\n",
        "plt.plot(val_losses, label='Doğrulama Kaybı', color='red')\n",
        "plt.xlabel('Epoch')\n",
        "plt.ylabel('Kayıp')\n",
        "plt.title('Eğitim ve Doğrulama Kaybı')\n",
        "plt.legend()\n",
        "plt.grid(True)\n",
        "\n",
        "# Doğruluk grafiği\n",
        "plt.subplot(1, 2, 2)\n",
        "plt.plot(train_accuracies, label='Eğitim Doğruluğu', color='blue')\n",
        "plt.plot(val_accuracies, label='Doğrulama Doğruluğu', color='red')\n",
        "plt.xlabel('Epoch')\n",
        "plt.ylabel('Doğruluk (%)')\n",
        "plt.title('Eğitim ve Doğrulama Doğruluğu')\n",
        "plt.legend()\n",
        "plt.grid(True)\n",
        "\n",
        "plt.tight_layout()\n",
        "plt.savefig('egitim_grafikleri.png')\n",
        "plt.show()\n",
        "\n"
      ],
      "metadata": {
        "colab": {
          "base_uri": "https://localhost:8080/",
          "height": 527
        },
        "id": "SBpZpw69qUwO",
        "outputId": "43b37f1b-987b-4a16-e1b3-31ccde02b263"
      },
      "execution_count": 11,
      "outputs": [
        {
          "output_type": "display_data",
          "data": {
            "text/plain": [
              "<Figure size 1200x500 with 2 Axes>"
            ],
            "image/png": "[encoded data removed]"
          },
          "metadata": {}
        }
      ]
    },
    {
      "cell_type": "code",
      "source": [
        "###############################################################################\n",
        "# Google Drive'a kaydetme (Colab'da çalışırken)\n",
        "###############################################################################\n",
        "try:\n",
        "    from google.colab import drive\n",
        "    if not os.path.exists('/content/drive'):\n",
        "        drive.mount('/content/drive')\n",
        "\n",
        "    # Kaydedilecek dizin\n",
        "    save_dir = \"/content/drive/MyDrive/model_kayitlari\"\n",
        "    os.makedirs(save_dir, exist_ok=True)\n",
        "\n",
        "    # En iyi modeli Google Drive'a kopyala\n",
        "    if os.path.exists(best_model_path):\n",
        "        import shutil\n",
        "        drive_model_path = os.path.join(save_dir, \"best_model.pt\")\n",
        "        shutil.copy(best_model_path, drive_model_path)\n",
        "        print(f\"Model Google Drive'a kaydedildi: {drive_model_path}\")\n",
        "\n",
        "    # Grafikleri Google Drive'a kopyala\n",
        "    if os.path.exists('egitim_grafikleri.png'):\n",
        "        import shutil\n",
        "        drive_graph_path = os.path.join(save_dir, \"egitim_grafikleri.png\")\n",
        "        shutil.copy('egitim_grafikleri.png', drive_graph_path)\n",
        "        print(f\"Grafikler Google Drive'a kaydedildi: {drive_graph_path}\")\n",
        "except:\n",
        "    print(\"Google Colab ortamında çalışmıyorsunuz veya Drive bağlantısı başarısız.\")"
      ],
      "metadata": {
        "colab": {
          "base_uri": "https://localhost:8080/"
        },
        "id": "agcni3mDseU8",
        "outputId": "859e9196-4b50-451b-c8e6-61623bcf4a2e"
      },
      "execution_count": 12,
      "outputs": [
        {
          "output_type": "stream",
          "name": "stdout",
          "text": [
            "Model Google Drive'a kaydedildi: /content/drive/MyDrive/model_kayitlari/best_model.pt\n",
            "Grafikler Google Drive'a kaydedildi: /content/drive/MyDrive/model_kayitlari/egitim_grafikleri.png\n"
          ]
        }
      ]
    },
    {
      "cell_type": "code",
      "source": [],
      "metadata": {
        "id": "UJr4kFQMsyYy"
      },
      "execution_count": null,
      "outputs": []
    }
  ]
}