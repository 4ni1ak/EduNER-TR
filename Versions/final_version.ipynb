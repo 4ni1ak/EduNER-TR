{
  "cells": [
    {
      "cell_type": "code",
      "execution_count": 1,
      "metadata": {
        "colab": {
          "base_uri": "https://localhost:8080/"
        },
        "id": "YrOeUfNE90so",
        "outputId": "3efe6f52-5b17-4f12-e37c-aa67425721f3"
      },
      "outputs": [
        {
          "name": "stdout",
          "output_type": "stream",
          "text": [
            "Looking in indexes: https://download.pytorch.org/whl/cu118\n",
            "Collecting torch==2.3.0+cu118\n",
            "  Downloading https://download.pytorch.org/whl/cu118/torch-2.3.0%2Bcu118-cp311-cp311-linux_x86_64.whl (839.7 MB)\n",
            "\u001b[2K     \u001b[90m━━━━━━━━━━━━━━━━━━━━━━━━━━━━━━━━━━━━━━━\u001b[0m \u001b[32m839.7/839.7 MB\u001b[0m \u001b[31m1.2 MB/s\u001b[0m eta \u001b[36m0:00:00\u001b[0m\n",
            "\u001b[?25hRequirement already satisfied: torchvision in /usr/local/lib/python3.11/dist-packages (0.21.0+cu124)\n",
            "Requirement already satisfied: torchaudio in /usr/local/lib/python3.11/dist-packages (2.6.0+cu124)\n",
            "Requirement already satisfied: filelock in /usr/local/lib/python3.11/dist-packages (from torch==2.3.0+cu118) (3.18.0)\n",
            "Requirement already satisfied: typing-extensions>=4.8.0 in /usr/local/lib/python3.11/dist-packages (from torch==2.3.0+cu118) (4.13.2)\n",
            "Requirement already satisfied: sympy in /usr/local/lib/python3.11/dist-packages (from torch==2.3.0+cu118) (1.13.1)\n",
            "Requirement already satisfied: networkx in /usr/local/lib/python3.11/dist-packages (from torch==2.3.0+cu118) (3.4.2)\n",
            "Requirement already satisfied: jinja2 in /usr/local/lib/python3.11/dist-packages (from torch==2.3.0+cu118) (3.1.6)\n",
            "Requirement already satisfied: fsspec in /usr/local/lib/python3.11/dist-packages (from torch==2.3.0+cu118) (2025.3.2)\n",
            "Collecting nvidia-cuda-nvrtc-cu11==11.8.89 (from torch==2.3.0+cu118)\n",
            "  Downloading https://download.pytorch.org/whl/cu118/nvidia_cuda_nvrtc_cu11-11.8.89-py3-none-manylinux1_x86_64.whl (23.2 MB)\n",
            "\u001b[2K     \u001b[90m━━━━━━━━━━━━━━━━━━━━━━━━━━━━━━━━━━━━━━━━\u001b[0m \u001b[32m23.2/23.2 MB\u001b[0m \u001b[31m93.8 MB/s\u001b[0m eta \u001b[36m0:00:00\u001b[0m\n",
            "\u001b[?25hCollecting nvidia-cuda-runtime-cu11==11.8.89 (from torch==2.3.0+cu118)\n",
            "  Downloading https://download.pytorch.org/whl/cu118/nvidia_cuda_runtime_cu11-11.8.89-py3-none-manylinux1_x86_64.whl (875 kB)\n",
            "\u001b[2K     \u001b[90m━━━━━━━━━━━━━━━━━━━━━━━━━━━━━━━━━━━━━━\u001b[0m \u001b[32m875.6/875.6 kB\u001b[0m \u001b[31m44.9 MB/s\u001b[0m eta \u001b[36m0:00:00\u001b[0m\n",
            "\u001b[?25hCollecting nvidia-cuda-cupti-cu11==11.8.87 (from torch==2.3.0+cu118)\n",
            "  Downloading https://download.pytorch.org/whl/cu118/nvidia_cuda_cupti_cu11-11.8.87-py3-none-manylinux1_x86_64.whl (13.1 MB)\n",
            "\u001b[2K     \u001b[90m━━━━━━━━━━━━━━━━━━━━━━━━━━━━━━━━━━━━━━━\u001b[0m \u001b[32m13.1/13.1 MB\u001b[0m \u001b[31m121.2 MB/s\u001b[0m eta \u001b[36m0:00:00\u001b[0m\n",
            "\u001b[?25hCollecting nvidia-cudnn-cu11==8.7.0.84 (from torch==2.3.0+cu118)\n",
            "  Downloading https://download.pytorch.org/whl/cu118/nvidia_cudnn_cu11-8.7.0.84-py3-none-manylinux1_x86_64.whl (728.5 MB)\n",
            "\u001b[2K     \u001b[90m━━━━━━━━━━━━━━━━━━━━━━━━━━━━━━━━━━━━━━━\u001b[0m \u001b[32m728.5/728.5 MB\u001b[0m \u001b[31m1.6 MB/s\u001b[0m eta \u001b[36m0:00:00\u001b[0m\n",
            "\u001b[?25hCollecting nvidia-cublas-cu11==11.11.3.6 (from torch==2.3.0+cu118)\n",
            "  Downloading https://download.pytorch.org/whl/cu118/nvidia_cublas_cu11-11.11.3.6-py3-none-manylinux1_x86_64.whl (417.9 MB)\n",
            "\u001b[2K     \u001b[90m━━━━━━━━━━━━━━━━━━━━━━━━━━━━━━━━━━━━━━━\u001b[0m \u001b[32m417.9/417.9 MB\u001b[0m \u001b[31m2.9 MB/s\u001b[0m eta \u001b[36m0:00:00\u001b[0m\n",
            "\u001b[?25hCollecting nvidia-cufft-cu11==10.9.0.58 (from torch==2.3.0+cu118)\n",
            "  Downloading https://download.pytorch.org/whl/cu118/nvidia_cufft_cu11-10.9.0.58-py3-none-manylinux1_x86_64.whl (168.4 MB)\n",
            "\u001b[2K     \u001b[90m━━━━━━━━━━━━━━━━━━━━━━━━━━━━━━━━━━━━━━━\u001b[0m \u001b[32m168.4/168.4 MB\u001b[0m \u001b[31m6.4 MB/s\u001b[0m eta \u001b[36m0:00:00\u001b[0m\n",
            "\u001b[?25hCollecting nvidia-curand-cu11==10.3.0.86 (from torch==2.3.0+cu118)\n",
            "  Downloading https://download.pytorch.org/whl/cu118/nvidia_curand_cu11-10.3.0.86-py3-none-manylinux1_x86_64.whl (58.1 MB)\n",
            "\u001b[2K     \u001b[90m━━━━━━━━━━━━━━━━━━━━━━━━━━━━━━━━━━━━━━━━\u001b[0m \u001b[32m58.1/58.1 MB\u001b[0m \u001b[31m13.4 MB/s\u001b[0m eta \u001b[36m0:00:00\u001b[0m\n",
            "\u001b[?25hCollecting nvidia-cusolver-cu11==11.4.1.48 (from torch==2.3.0+cu118)\n",
            "  Downloading https://download.pytorch.org/whl/cu118/nvidia_cusolver_cu11-11.4.1.48-py3-none-manylinux1_x86_64.whl (128.2 MB)\n",
            "\u001b[2K     \u001b[90m━━━━━━━━━━━━━━━━━━━━━━━━━━━━━━━━━━━━━━━\u001b[0m \u001b[32m128.2/128.2 MB\u001b[0m \u001b[31m7.6 MB/s\u001b[0m eta \u001b[36m0:00:00\u001b[0m\n",
            "\u001b[?25hCollecting nvidia-cusparse-cu11==11.7.5.86 (from torch==2.3.0+cu118)\n",
            "  Downloading https://download.pytorch.org/whl/cu118/nvidia_cusparse_cu11-11.7.5.86-py3-none-manylinux1_x86_64.whl (204.1 MB)\n",
            "\u001b[2K     \u001b[90m━━━━━━━━━━━━━━━━━━━━━━━━━━━━━━━━━━━━━━━\u001b[0m \u001b[32m204.1/204.1 MB\u001b[0m \u001b[31m5.8 MB/s\u001b[0m eta \u001b[36m0:00:00\u001b[0m\n",
            "\u001b[?25hCollecting nvidia-nccl-cu11==2.20.5 (from torch==2.3.0+cu118)\n",
            "  Downloading https://download.pytorch.org/whl/cu118/nvidia_nccl_cu11-2.20.5-py3-none-manylinux2014_x86_64.whl (142.9 MB)\n",
            "\u001b[2K     \u001b[90m━━━━━━━━━━━━━━━━━━━━━━━━━━━━━━━━━━━━━━━\u001b[0m \u001b[32m142.9/142.9 MB\u001b[0m \u001b[31m6.8 MB/s\u001b[0m eta \u001b[36m0:00:00\u001b[0m\n",
            "\u001b[?25hCollecting nvidia-nvtx-cu11==11.8.86 (from torch==2.3.0+cu118)\n",
            "  Downloading https://download.pytorch.org/whl/cu118/nvidia_nvtx_cu11-11.8.86-py3-none-manylinux1_x86_64.whl (99 kB)\n",
            "\u001b[2K     \u001b[90m━━━━━━━━━━━━━━━━━━━━━━━━━━━━━━━━━━━━━━━━\u001b[0m \u001b[32m99.1/99.1 kB\u001b[0m \u001b[31m9.6 MB/s\u001b[0m eta \u001b[36m0:00:00\u001b[0m\n",
            "\u001b[?25hCollecting triton==2.3.0 (from torch==2.3.0+cu118)\n",
            "  Downloading https://download.pytorch.org/whl/triton-2.3.0-cp311-cp311-manylinux_2_17_x86_64.manylinux2014_x86_64.whl (168.1 MB)\n",
            "\u001b[2K     \u001b[90m━━━━━━━━━━━━━━━━━━━━━━━━━━━━━━━━━━━━━━━\u001b[0m \u001b[32m168.1/168.1 MB\u001b[0m \u001b[31m6.9 MB/s\u001b[0m eta \u001b[36m0:00:00\u001b[0m\n",
            "\u001b[?25hRequirement already satisfied: numpy in /usr/local/lib/python3.11/dist-packages (from torchvision) (2.0.2)\n",
            "INFO: pip is looking at multiple versions of torchvision to determine which version is compatible with other requirements. This could take a while.\n",
            "Collecting torchvision\n",
            "  Downloading https://download.pytorch.org/whl/cu118/torchvision-0.22.0%2Bcu118-cp311-cp311-manylinux_2_28_x86_64.whl.metadata (6.1 kB)\n",
            "  Downloading https://download.pytorch.org/whl/cu118/torchvision-0.21.0%2Bcu118-cp311-cp311-linux_x86_64.whl.metadata (6.1 kB)\n",
            "  Downloading https://download.pytorch.org/whl/cu118/torchvision-0.20.1%2Bcu118-cp311-cp311-linux_x86_64.whl (6.5 MB)\n",
            "\u001b[2K     \u001b[90m━━━━━━━━━━━━━━━━━━━━━━━━━━━━━━━━━━━━━━━━\u001b[0m \u001b[32m6.5/6.5 MB\u001b[0m \u001b[31m119.8 MB/s\u001b[0m eta \u001b[36m0:00:00\u001b[0m\n",
            "\u001b[?25h  Downloading https://download.pytorch.org/whl/cu118/torchvision-0.20.0%2Bcu118-cp311-cp311-linux_x86_64.whl (6.5 MB)\n",
            "\u001b[2K     \u001b[90m━━━━━━━━━━━━━━━━━━━━━━━━━━━━━━━━━━━━━━━━\u001b[0m \u001b[32m6.5/6.5 MB\u001b[0m \u001b[31m124.1 MB/s\u001b[0m eta \u001b[36m0:00:00\u001b[0m\n",
            "\u001b[?25h  Downloading https://download.pytorch.org/whl/cu118/torchvision-0.19.1%2Bcu118-cp311-cp311-linux_x86_64.whl (6.3 MB)\n",
            "\u001b[2K     \u001b[90m━━━━━━━━━━━━━━━━━━━━━━━━━━━━━━━━━━━━━━━━\u001b[0m \u001b[32m6.3/6.3 MB\u001b[0m \u001b[31m117.1 MB/s\u001b[0m eta \u001b[36m0:00:00\u001b[0m\n",
            "\u001b[?25h  Downloading https://download.pytorch.org/whl/cu118/torchvision-0.19.0%2Bcu118-cp311-cp311-linux_x86_64.whl (6.3 MB)\n",
            "\u001b[2K     \u001b[90m━━━━━━━━━━━━━━━━━━━━━━━━━━━━━━━━━━━━━━━━\u001b[0m \u001b[32m6.3/6.3 MB\u001b[0m \u001b[31m122.5 MB/s\u001b[0m eta \u001b[36m0:00:00\u001b[0m\n",
            "\u001b[?25h  Downloading https://download.pytorch.org/whl/cu118/torchvision-0.18.1%2Bcu118-cp311-cp311-linux_x86_64.whl (6.3 MB)\n",
            "\u001b[2K     \u001b[90m━━━━━━━━━━━━━━━━━━━━━━━━━━━━━━━━━━━━━━━━\u001b[0m \u001b[32m6.3/6.3 MB\u001b[0m \u001b[31m115.1 MB/s\u001b[0m eta \u001b[36m0:00:00\u001b[0m\n",
            "\u001b[?25hINFO: pip is still looking at multiple versions of torchvision to determine which version is compatible with other requirements. This could take a while.\n",
            "  Downloading https://download.pytorch.org/whl/cu118/torchvision-0.18.0%2Bcu118-cp311-cp311-linux_x86_64.whl (6.3 MB)\n",
            "\u001b[2K     \u001b[90m━━━━━━━━━━━━━━━━━━━━━━━━━━━━━━━━━━━━━━━━\u001b[0m \u001b[32m6.3/6.3 MB\u001b[0m \u001b[31m113.0 MB/s\u001b[0m eta \u001b[36m0:00:00\u001b[0m\n",
            "\u001b[?25hRequirement already satisfied: pillow!=8.3.*,>=5.3.0 in /usr/local/lib/python3.11/dist-packages (from torchvision) (11.2.1)\n",
            "INFO: pip is looking at multiple versions of torchaudio to determine which version is compatible with other requirements. This could take a while.\n",
            "Collecting torchaudio\n",
            "  Downloading https://download.pytorch.org/whl/cu118/torchaudio-2.7.0%2Bcu118-cp311-cp311-manylinux_2_28_x86_64.whl.metadata (6.6 kB)\n",
            "  Downloading https://download.pytorch.org/whl/cu118/torchaudio-2.6.0%2Bcu118-cp311-cp311-linux_x86_64.whl.metadata (6.6 kB)\n",
            "  Downloading https://download.pytorch.org/whl/cu118/torchaudio-2.5.1%2Bcu118-cp311-cp311-linux_x86_64.whl (3.3 MB)\n",
            "\u001b[2K     \u001b[90m━━━━━━━━━━━━━━━━━━━━━━━━━━━━━━━━━━━━━━━━\u001b[0m \u001b[32m3.3/3.3 MB\u001b[0m \u001b[31m113.5 MB/s\u001b[0m eta \u001b[36m0:00:00\u001b[0m\n",
            "\u001b[?25h  Downloading https://download.pytorch.org/whl/cu118/torchaudio-2.5.0%2Bcu118-cp311-cp311-linux_x86_64.whl (3.3 MB)\n",
            "\u001b[2K     \u001b[90m━━━━━━━━━━━━━━━━━━━━━━━━━━━━━━━━━━━━━━━━\u001b[0m \u001b[32m3.3/3.3 MB\u001b[0m \u001b[31m108.3 MB/s\u001b[0m eta \u001b[36m0:00:00\u001b[0m\n",
            "\u001b[?25h  Downloading https://download.pytorch.org/whl/cu118/torchaudio-2.4.1%2Bcu118-cp311-cp311-linux_x86_64.whl (3.3 MB)\n",
            "\u001b[2K     \u001b[90m━━━━━━━━━━━━━━━━━━━━━━━━━━━━━━━━━━━━━━━━\u001b[0m \u001b[32m3.3/3.3 MB\u001b[0m \u001b[31m107.3 MB/s\u001b[0m eta \u001b[36m0:00:00\u001b[0m\n",
            "\u001b[?25h  Downloading https://download.pytorch.org/whl/cu118/torchaudio-2.4.0%2Bcu118-cp311-cp311-linux_x86_64.whl (3.3 MB)\n",
            "\u001b[2K     \u001b[90m━━━━━━━━━━━━━━━━━━━━━━━━━━━━━━━━━━━━━━━━\u001b[0m \u001b[32m3.3/3.3 MB\u001b[0m \u001b[31m106.9 MB/s\u001b[0m eta \u001b[36m0:00:00\u001b[0m\n",
            "\u001b[?25h  Downloading https://download.pytorch.org/whl/cu118/torchaudio-2.3.1%2Bcu118-cp311-cp311-linux_x86_64.whl (3.3 MB)\n",
            "\u001b[2K     \u001b[90m━━━━━━━━━━━━━━━━━━━━━━━━━━━━━━━━━━━━━━━━\u001b[0m \u001b[32m3.3/3.3 MB\u001b[0m \u001b[31m105.4 MB/s\u001b[0m eta \u001b[36m0:00:00\u001b[0m\n",
            "\u001b[?25hINFO: pip is still looking at multiple versions of torchaudio to determine which version is compatible with other requirements. This could take a while.\n",
            "  Downloading https://download.pytorch.org/whl/cu118/torchaudio-2.3.0%2Bcu118-cp311-cp311-linux_x86_64.whl (3.3 MB)\n",
            "\u001b[2K     \u001b[90m━━━━━━━━━━━━━━━━━━━━━━━━━━━━━━━━━━━━━━━━\u001b[0m \u001b[32m3.3/3.3 MB\u001b[0m \u001b[31m108.8 MB/s\u001b[0m eta \u001b[36m0:00:00\u001b[0m\n",
            "\u001b[?25hRequirement already satisfied: MarkupSafe>=2.0 in /usr/local/lib/python3.11/dist-packages (from jinja2->torch==2.3.0+cu118) (3.0.2)\n",
            "Requirement already satisfied: mpmath<1.4,>=1.1.0 in /usr/local/lib/python3.11/dist-packages (from sympy->torch==2.3.0+cu118) (1.3.0)\n",
            "Installing collected packages: triton, nvidia-nvtx-cu11, nvidia-nccl-cu11, nvidia-cusparse-cu11, nvidia-curand-cu11, nvidia-cufft-cu11, nvidia-cuda-runtime-cu11, nvidia-cuda-nvrtc-cu11, nvidia-cuda-cupti-cu11, nvidia-cublas-cu11, nvidia-cusolver-cu11, nvidia-cudnn-cu11, torch, torchvision, torchaudio\n",
            "  Attempting uninstall: triton\n",
            "    Found existing installation: triton 3.2.0\n",
            "    Uninstalling triton-3.2.0:\n",
            "      Successfully uninstalled triton-3.2.0\n",
            "  Attempting uninstall: torch\n",
            "    Found existing installation: torch 2.6.0+cu124\n",
            "    Uninstalling torch-2.6.0+cu124:\n",
            "      Successfully uninstalled torch-2.6.0+cu124\n",
            "  Attempting uninstall: torchvision\n",
            "    Found existing installation: torchvision 0.21.0+cu124\n",
            "    Uninstalling torchvision-0.21.0+cu124:\n",
            "      Successfully uninstalled torchvision-0.21.0+cu124\n",
            "  Attempting uninstall: torchaudio\n",
            "    Found existing installation: torchaudio 2.6.0+cu124\n",
            "    Uninstalling torchaudio-2.6.0+cu124:\n",
            "      Successfully uninstalled torchaudio-2.6.0+cu124\n",
            "Successfully installed nvidia-cublas-cu11-11.11.3.6 nvidia-cuda-cupti-cu11-11.8.87 nvidia-cuda-nvrtc-cu11-11.8.89 nvidia-cuda-runtime-cu11-11.8.89 nvidia-cudnn-cu11-8.7.0.84 nvidia-cufft-cu11-10.9.0.58 nvidia-curand-cu11-10.3.0.86 nvidia-cusolver-cu11-11.4.1.48 nvidia-cusparse-cu11-11.7.5.86 nvidia-nccl-cu11-2.20.5 nvidia-nvtx-cu11-11.8.86 torch-2.3.0+cu118 torchaudio-2.3.0+cu118 torchvision-0.18.0+cu118 triton-2.3.0\n",
            "Requirement already satisfied: transformers in /usr/local/lib/python3.11/dist-packages (4.51.3)\n",
            "Requirement already satisfied: datasets in /usr/local/lib/python3.11/dist-packages (2.14.4)\n",
            "Requirement already satisfied: tensorboard in /usr/local/lib/python3.11/dist-packages (2.18.0)\n",
            "Collecting ninja\n",
            "  Downloading ninja-1.11.1.4-py3-none-manylinux_2_12_x86_64.manylinux2010_x86_64.whl.metadata (5.0 kB)\n",
            "Requirement already satisfied: filelock in /usr/local/lib/python3.11/dist-packages (from transformers) (3.18.0)\n",
            "Requirement already satisfied: huggingface-hub<1.0,>=0.30.0 in /usr/local/lib/python3.11/dist-packages (from transformers) (0.31.2)\n",
            "Requirement already satisfied: numpy>=1.17 in /usr/local/lib/python3.11/dist-packages (from transformers) (2.0.2)\n",
            "Requirement already satisfied: packaging>=20.0 in /usr/local/lib/python3.11/dist-packages (from transformers) (24.2)\n",
            "Requirement already satisfied: pyyaml>=5.1 in /usr/local/lib/python3.11/dist-packages (from transformers) (6.0.2)\n",
            "Requirement already satisfied: regex!=2019.12.17 in /usr/local/lib/python3.11/dist-packages (from transformers) (2024.11.6)\n",
            "Requirement already satisfied: requests in /usr/local/lib/python3.11/dist-packages (from transformers) (2.32.3)\n",
            "Requirement already satisfied: tokenizers<0.22,>=0.21 in /usr/local/lib/python3.11/dist-packages (from transformers) (0.21.1)\n",
            "Requirement already satisfied: safetensors>=0.4.3 in /usr/local/lib/python3.11/dist-packages (from transformers) (0.5.3)\n",
            "Requirement already satisfied: tqdm>=4.27 in /usr/local/lib/python3.11/dist-packages (from transformers) (4.67.1)\n",
            "Requirement already satisfied: pyarrow>=8.0.0 in /usr/local/lib/python3.11/dist-packages (from datasets) (18.1.0)\n",
            "Requirement already satisfied: dill<0.3.8,>=0.3.0 in /usr/local/lib/python3.11/dist-packages (from datasets) (0.3.7)\n",
            "Requirement already satisfied: pandas in /usr/local/lib/python3.11/dist-packages (from datasets) (2.2.2)\n",
            "Requirement already satisfied: xxhash in /usr/local/lib/python3.11/dist-packages (from datasets) (3.5.0)\n",
            "Requirement already satisfied: multiprocess in /usr/local/lib/python3.11/dist-packages (from datasets) (0.70.15)\n",
            "Requirement already satisfied: fsspec>=2021.11.1 in /usr/local/lib/python3.11/dist-packages (from fsspec[http]>=2021.11.1->datasets) (2025.3.2)\n",
            "Requirement already satisfied: aiohttp in /usr/local/lib/python3.11/dist-packages (from datasets) (3.11.15)\n",
            "Requirement already satisfied: absl-py>=0.4 in /usr/local/lib/python3.11/dist-packages (from tensorboard) (1.4.0)\n",
            "Requirement already satisfied: grpcio>=1.48.2 in /usr/local/lib/python3.11/dist-packages (from tensorboard) (1.71.0)\n",
            "Requirement already satisfied: markdown>=2.6.8 in /usr/local/lib/python3.11/dist-packages (from tensorboard) (3.8)\n",
            "Requirement already satisfied: protobuf!=4.24.0,>=3.19.6 in /usr/local/lib/python3.11/dist-packages (from tensorboard) (5.29.4)\n",
            "Requirement already satisfied: setuptools>=41.0.0 in /usr/local/lib/python3.11/dist-packages (from tensorboard) (75.2.0)\n",
            "Requirement already satisfied: six>1.9 in /usr/local/lib/python3.11/dist-packages (from tensorboard) (1.17.0)\n",
            "Requirement already satisfied: tensorboard-data-server<0.8.0,>=0.7.0 in /usr/local/lib/python3.11/dist-packages (from tensorboard) (0.7.2)\n",
            "Requirement already satisfied: werkzeug>=1.0.1 in /usr/local/lib/python3.11/dist-packages (from tensorboard) (3.1.3)\n",
            "Requirement already satisfied: aiohappyeyeballs>=2.3.0 in /usr/local/lib/python3.11/dist-packages (from aiohttp->datasets) (2.6.1)\n",
            "Requirement already satisfied: aiosignal>=1.1.2 in /usr/local/lib/python3.11/dist-packages (from aiohttp->datasets) (1.3.2)\n",
            "Requirement already satisfied: attrs>=17.3.0 in /usr/local/lib/python3.11/dist-packages (from aiohttp->datasets) (25.3.0)\n",
            "Requirement already satisfied: frozenlist>=1.1.1 in /usr/local/lib/python3.11/dist-packages (from aiohttp->datasets) (1.6.0)\n",
            "Requirement already satisfied: multidict<7.0,>=4.5 in /usr/local/lib/python3.11/dist-packages (from aiohttp->datasets) (6.4.3)\n",
            "Requirement already satisfied: propcache>=0.2.0 in /usr/local/lib/python3.11/dist-packages (from aiohttp->datasets) (0.3.1)\n",
            "Requirement already satisfied: yarl<2.0,>=1.17.0 in /usr/local/lib/python3.11/dist-packages (from aiohttp->datasets) (1.20.0)\n",
            "Requirement already satisfied: typing-extensions>=3.7.4.3 in /usr/local/lib/python3.11/dist-packages (from huggingface-hub<1.0,>=0.30.0->transformers) (4.13.2)\n",
            "Requirement already satisfied: charset-normalizer<4,>=2 in /usr/local/lib/python3.11/dist-packages (from requests->transformers) (3.4.2)\n",
            "Requirement already satisfied: idna<4,>=2.5 in /usr/local/lib/python3.11/dist-packages (from requests->transformers) (3.10)\n",
            "Requirement already satisfied: urllib3<3,>=1.21.1 in /usr/local/lib/python3.11/dist-packages (from requests->transformers) (2.4.0)\n",
            "Requirement already satisfied: certifi>=2017.4.17 in /usr/local/lib/python3.11/dist-packages (from requests->transformers) (2025.4.26)\n",
            "Requirement already satisfied: MarkupSafe>=2.1.1 in /usr/local/lib/python3.11/dist-packages (from werkzeug>=1.0.1->tensorboard) (3.0.2)\n",
            "Requirement already satisfied: python-dateutil>=2.8.2 in /usr/local/lib/python3.11/dist-packages (from pandas->datasets) (2.9.0.post0)\n",
            "Requirement already satisfied: pytz>=2020.1 in /usr/local/lib/python3.11/dist-packages (from pandas->datasets) (2025.2)\n",
            "Requirement already satisfied: tzdata>=2022.7 in /usr/local/lib/python3.11/dist-packages (from pandas->datasets) (2025.2)\n",
            "Downloading ninja-1.11.1.4-py3-none-manylinux_2_12_x86_64.manylinux2010_x86_64.whl (422 kB)\n",
            "\u001b[2K   \u001b[90m━━━━━━━━━━━━━━━━━━━━━━━━━━━━━━━━━━━━━━━━\u001b[0m \u001b[32m422.8/422.8 kB\u001b[0m \u001b[31m22.0 MB/s\u001b[0m eta \u001b[36m0:00:00\u001b[0m\n",
            "\u001b[?25hInstalling collected packages: ninja\n",
            "Successfully installed ninja-1.11.1.4\n"
          ]
        }
      ],
      "source": [
        "###############################################################################\n",
        "# Kütüphane Kurulumları\n",
        "###############################################################################\n",
        "# PyTorch ve diğer bileşenlerin kurulumu için\n",
        "# Bu kod bloğu yorum satırı olarak bırakılmıştır.\n",
        "# Paketleri manuel olarak pip ile kurabilirsiniz:\n",
        "!pip install torch==2.3.0+cu118 torchvision torchaudio --index-url https://download.pytorch.org/whl/cu118\n",
        "!pip install transformers datasets tensorboard ninja"
      ]
    },
    {
      "cell_type": "code",
      "execution_count": 6,
      "metadata": {
        "colab": {
          "base_uri": "https://localhost:8080/"
        },
        "id": "lgrBdxcrpcpZ",
        "outputId": "f8b3263d-680f-4d86-cc42-4a84ec0b158b"
      },
      "outputs": [
        {
          "name": "stdout",
          "output_type": "stream",
          "text": [
            "Drive already mounted at /content/drive; to attempt to forcibly remount, call drive.mount(\"/content/drive\", force_remount=True).\n",
            "Google Drive bağlandı. Drive'dan dosyayı kopyalayabilirsiniz.\n",
            "Dosya kopyalandı: /content/drive/MyDrive/03_numerized_data.zip -> ./03_numerized_data.zip\n",
            "İşlem tamamlandı. Dosya şu konumda: ./03_numerized_data.zip\n",
            "Zip dosyası açılıyor: ./03_numerized_data.zip\n",
            "Dosyalar çıkarıldı: 03_numerized_data\n",
            "Veriler yükleniyor...\n",
            "Orijinal veri boyutları:\n",
            "Eğitim verileri: (70000, 28), (70000, 28)\n",
            "Doğrulama verileri: (15000, 28), (15000, 28)\n",
            "Test verileri: (15000, 28), (15000, 28)\n"
          ]
        }
      ],
      "source": [
        "\n",
        "###############################################################################\n",
        "# Google Drive'dan zip dosyasını indirme\n",
        "###############################################################################\n",
        "def download_file(url, destination):\n",
        "    if os.path.exists(destination):\n",
        "        print(f\"Dosya zaten var: {destination}\")\n",
        "        return True\n",
        "\n",
        "    try:\n",
        "        print(f\"{url} adresinden dosya indiriliyor...\")\n",
        "        response = requests.get(url, stream=True)\n",
        "        response.raise_for_status()\n",
        "\n",
        "        total_size_in_bytes = int(response.headers.get('content-length', 0))\n",
        "        block_size = 8192\n",
        "        progress_bar = tqdm(total=total_size_in_bytes, unit='iB', unit_scale=True)\n",
        "\n",
        "        with open(destination, 'wb') as file:\n",
        "            for data in response.iter_content(block_size):\n",
        "                progress_bar.update(len(data))\n",
        "                file.write(data)\n",
        "        progress_bar.close()\n",
        "\n",
        "        print(f\"İndirme tamamlandı: {destination}\")\n",
        "        return True\n",
        "    except Exception as e:\n",
        "        print(f\"İndirme hatası: {e}\")\n",
        "        return False\n",
        "\n",
        "###############################################################################\n",
        "# Google Drive bağlantısı kurma ve dosyayı alma\n",
        "###############################################################################\n",
        "# Google Drive'dan dosya indirme URL'si (gerçek URL ile değiştirilmeli)\n",
        "drive_url = \"BURAYA_GOOGLE_DRIVE_DOĞRUDAN_İNDİRME_LİNKİ\"\n",
        "data_dir = \"./\"\n",
        "zip_path = os.path.join(data_dir, \"03_numerized_data.zip\")\n",
        "\n",
        "# Hedef dizin kontrolü ve oluşturma\n",
        "target_dir = os.path.dirname(zip_path)\n",
        "if not os.path.exists(target_dir) and target_dir:\n",
        "    os.makedirs(target_dir)\n",
        "    print(f\"{target_dir} klasörü oluşturuldu.\")\n",
        "\n",
        "# Eğer Colab'da çalışıyorsanız bu kodu kullanabilirsiniz\n",
        "try:\n",
        "    from google.colab import drive\n",
        "    drive.mount('/content/drive')\n",
        "    print(\"Google Drive bağlandı. Drive'dan dosyayı kopyalayabilirsiniz.\")\n",
        "    # Google Drive'daki dosya yolu (değiştirilmeli)\n",
        "    drive_zip_path = \"/content/drive/MyDrive/03_numerized_data.zip\"\n",
        "    if os.path.exists(drive_zip_path):\n",
        "        import shutil\n",
        "        shutil.copy(drive_zip_path, zip_path)\n",
        "        print(f\"Dosya kopyalandı: {drive_zip_path} -> {zip_path}\")\n",
        "    else:\n",
        "        print(f\"Dosya bulunamadı: {drive_zip_path}\")\n",
        "except:\n",
        "    print(\"Google Colab ortamında çalışmıyorsunuz. Doğrudan indirme denenecek.\")\n",
        "    if not os.path.exists(zip_path):\n",
        "        download_file(drive_url, zip_path)\n",
        "    else:\n",
        "        print(f\"Dosya zaten var: {zip_path}\")\n",
        "\n",
        "print(f\"İşlem tamamlandı. Dosya şu konumda: {zip_path}\")\n",
        "\n",
        "###############################################################################\n",
        "# Zip dosyasını açma ve verileri yükleme\n",
        "###############################################################################\n",
        "data_dir = \"03_numerized_data\"\n",
        "os.makedirs(data_dir, exist_ok=True)\n",
        "\n",
        "if os.path.exists(zip_path):\n",
        "    try:\n",
        "        with ZipFile(zip_path, 'r') as zip_ref:\n",
        "            print(f\"Zip dosyası açılıyor: {zip_path}\")\n",
        "            zip_ref.extractall(data_dir)\n",
        "            print(f\"Dosyalar çıkarıldı: {data_dir}\")\n",
        "    except Exception as e:\n",
        "        print(f\"Zip dosyası açılırken hata: {e}\")\n",
        "else:\n",
        "    print(f\"Zip dosyası bulunamadı: {zip_path}\")\n",
        "\n",
        "###############################################################################\n",
        "# Verileri yükleme ve etiket düzeltme\n",
        "###############################################################################\n",
        "data_dir = \"03_numerized_data/03_numerized_data\"\n",
        "try:\n",
        "    print(\"Veriler yükleniyor...\")\n",
        "    # Bellek verimliliği için mmap_mode kullanıyoruz\n",
        "    train_sentences = np.load(os.path.join(data_dir, \"train_sentences.npy\"), mmap_mode='r')\n",
        "    train_labels = np.load(os.path.join(data_dir, \"train_labels.npy\"), mmap_mode='r')\n",
        "    val_sentences = np.load(os.path.join(data_dir, \"validation_sentences.npy\"), mmap_mode='r')\n",
        "    val_labels = np.load(os.path.join(data_dir, \"validation_labels.npy\"), mmap_mode='r')\n",
        "    test_sentences = np.load(os.path.join(data_dir, \"test_sentences.npy\"), mmap_mode='r')\n",
        "    test_labels = np.load(os.path.join(data_dir, \"test_labels.npy\"), mmap_mode='r')\n",
        "\n",
        "    print(f\"Orijinal veri boyutları:\")\n",
        "    print(f\"Eğitim verileri: {train_sentences.shape}, {train_labels.shape}\")\n",
        "    print(f\"Doğrulama verileri: {val_sentences.shape}, {val_labels.shape}\")\n",
        "    print(f\"Test verileri: {test_sentences.shape}, {test_labels.shape}\")\n",
        "except Exception as e:\n",
        "    print(f\"Veriler yüklenirken hata: {e}\")\n",
        "\n",
        "    # Hata durumunda örnek veriler oluşturma\n",
        "    print(\"Örnek veriler oluşturuluyor...\")\n",
        "    vocab_size = 102338\n",
        "    seq_length = 100\n",
        "    num_classes = 8  # NER etiketleri için 8 sınıf (O, B-UNIVERSITE vs.)\n",
        "    train_size = 72339\n",
        "    val_size = 17339\n",
        "    test_size = 17340\n",
        "\n",
        "    train_sentences = np.random.randint(0, vocab_size, size=(train_size, seq_length))\n",
        "    train_labels = np.random.randint(0, num_classes, size=(train_size,))\n",
        "    val_sentences = np.random.randint(0, vocab_size, size=(val_size, seq_length))\n",
        "    val_labels = np.random.randint(0, num_classes, size=(val_size,))\n",
        "    test_sentences = np.random.randint(0, vocab_size, size=(test_size, seq_length))\n",
        "    test_labels = np.random.randint(0, num_classes, size=(test_size,))\n"
      ]
    },
    {
      "cell_type": "code",
      "execution_count": 14,
      "metadata": {
        "colab": {
          "base_uri": "https://localhost:8080/"
        },
        "id": "lWEzMNBZ9ye-",
        "outputId": "a7042268-eddc-4694-b6d3-7710a147d683"
      },
      "outputs": [
        {
          "name": "stdout",
          "output_type": "stream",
          "text": [
            "GPU bilgileri kontrol ediliyor...\n",
            "Sun May 18 13:58:30 2025       \n",
            "+-----------------------------------------------------------------------------------------+\n",
            "| NVIDIA-SMI 550.54.15              Driver Version: 550.54.15      CUDA Version: 12.4     |\n",
            "|-----------------------------------------+------------------------+----------------------+\n",
            "| GPU  Name                 Persistence-M | Bus-Id          Disp.A | Volatile Uncorr. ECC |\n",
            "| Fan  Temp   Perf          Pwr:Usage/Cap |           Memory-Usage | GPU-Util  Compute M. |\n",
            "|                                         |                        |               MIG M. |\n",
            "|=========================================+========================+======================|\n",
            "|   0  Tesla T4                       Off |   00000000:00:04.0 Off |                    0 |\n",
            "| N/A   76C    P0             35W /   70W |   15086MiB /  15360MiB |      0%      Default |\n",
            "|                                         |                        |                  N/A |\n",
            "+-----------------------------------------+------------------------+----------------------+\n",
            "                                                                                         \n",
            "+-----------------------------------------------------------------------------------------+\n",
            "| Processes:                                                                              |\n",
            "|  GPU   GI   CI        PID   Type   Process name                              GPU Memory |\n",
            "|        ID   ID                                                               Usage      |\n",
            "|=========================================================================================|\n",
            "+-----------------------------------------------------------------------------------------+\n",
            "\n",
            "GPU bellek optimizasyonları yapıldı.\n",
            "Torch sürümü: 2.3.0+cu118, CUDA aktif mi: True\n",
            "CUDA versiyonu: 11.8\n",
            "GPU sayısı: 1\n",
            "GPU adı: Tesla T4\n",
            "Mevcut GPU belleği: 15.83 GB\n",
            "Drive already mounted at /content/drive; to attempt to forcibly remount, call drive.mount(\"/content/drive\", force_remount=True).\n",
            "Google Drive bağlandı. Drive'dan dosyayı kopyalayabilirsiniz.\n",
            "Dosya kopyalandı: /content/drive/MyDrive/03_numerized_data.zip -> ./03_numerized_data.zip\n",
            "İşlem tamamlandı. Dosya şu konumda: ./03_numerized_data.zip\n",
            "Zip dosyası açılıyor: ./03_numerized_data.zip\n",
            "Dosyalar çıkarıldı: 03_numerized_data/\n",
            "Veriler yükleniyor...\n",
            "Orijinal veri boyutları:\n",
            "Eğitim verileri: (70000, 28), (70000, 28)\n",
            "Doğrulama verileri: (15000, 28), (15000, 28)\n",
            "Test verileri: (15000, 28), (15000, 28)\n",
            "Etiketleri kontrol ediyorum...\n",
            "Eğitim etiketleri çok boyutlu: (70000, 28), tek boyuta indirgeniyor\n",
            "Çoklu sütun algılandı, ilk sütun kullanılacak\n",
            "Doğrulama etiketleri çok boyutlu: (15000, 28), tek boyuta indirgeniyor\n",
            "Test etiketleri çok boyutlu: (15000, 28), tek boyuta indirgeniyor\n",
            "NER Etiket değerlerini kontrol ediyorum...\n",
            "Mevcut benzersiz etiketler: [1 2 3 4 5 6 7]\n",
            "Düzeltilmiş veri boyutları:\n",
            "Eğitim: (70000, 28), (70000,), Etiket aralığı: 1-7\n",
            "Doğrulama: (15000, 28), (15000,), Etiket aralığı: 1-7\n",
            "Test: (15000, 28), (15000,), Etiket aralığı: 1-7\n",
            "Tensörleri oluşturuyorum...\n",
            "train_sentences_tensor: torch.Size([70000, 28]), train_labels_tensor: torch.Size([70000]), değer aralığı: 1-7\n",
            "val_sentences_tensor: torch.Size([15000, 28]), val_labels_tensor: torch.Size([15000]), değer aralığı: 1-7\n",
            "test_sentences_tensor: torch.Size([15000, 28]), test_labels_tensor: torch.Size([15000]), değer aralığı: 1-7\n",
            "Sözlük boyutu: 102338\n",
            "NER için sınıf sayısı: 8\n",
            "Model parametreleri: embed_dim=1024, num_heads=16, hidden_dim=4096, num_layers=8\n",
            "CrossEntropyLoss için sınıf aralığı doğrulaması: Sınıf sayısı=8, Etiket aralığı=1-7\n",
            "✅ Etiket aralığı doğrulandı, CrossEntropyLoss için uygun (0-7 arası NER etiketleri)\n",
            "Kullanılan cihaz: cuda\n",
            "Model parametreleri sayısı: 209,736,713\n",
            "GPU: Tesla T4\n",
            "GPU belleği (toplam): 15.83 GB\n",
            "GPU belleği (kullanılan): 8.23 GB\n",
            "GPU belleği (önbellek): 8.41 GB\n",
            "Model eğitimi başlıyor...\n",
            "Checkpoint bulunamadı. Eğitim sıfırdan başlayacak.\n",
            "\n",
            "Epoch 1/80 başlıyor...\n"
          ]
        },
        {
          "name": "stderr",
          "output_type": "stream",
          "text": [
            "Eğitim: 100%|██████████| 117/117 [01:32<00:00,  1.26it/s, loss=1.9798, acc=20.56%, lr=0.000175]\n",
            "Doğrulama: 100%|██████████| 13/13 [00:07<00:00,  1.79it/s, loss=1.8700, acc=29.05%]\n"
          ]
        },
        {
          "name": "stdout",
          "output_type": "stream",
          "text": [
            "Yeni en iyi model kaydedildi (loss): best_model.pt\n",
            "Yeni en iyi model kaydedildi (acc): best_model_acc.pt\n",
            "Epoch 1/80: Train Loss: 1.9798, Train Acc: 20.56%, Val Loss: 1.8700, Val Acc: 29.05%, LR: 0.000175\n",
            "En son durum kaydedildi: model_checkpoint_latest.pt\n",
            "GPU belleği (kullanılan): 5.90 GB\n",
            "GPU belleği (önbellek): 9.94 GB\n",
            "\n",
            "Epoch 2/80 başlıyor...\n"
          ]
        },
        {
          "name": "stderr",
          "output_type": "stream",
          "text": [
            "Eğitim: 100%|██████████| 117/117 [01:31<00:00,  1.28it/s, loss=1.8386, acc=31.26%, lr=0.000387]\n",
            "Doğrulama: 100%|██████████| 13/13 [00:07<00:00,  1.82it/s, loss=1.6648, acc=38.39%]\n"
          ]
        },
        {
          "name": "stdout",
          "output_type": "stream",
          "text": [
            "Yeni en iyi model kaydedildi (loss): best_model.pt\n",
            "Yeni en iyi model kaydedildi (acc): best_model_acc.pt\n",
            "Epoch 2/80: Train Loss: 1.8386, Train Acc: 31.26%, Val Loss: 1.6648, Val Acc: 38.39%, LR: 0.000387\n",
            "En son durum kaydedildi: model_checkpoint_latest.pt\n",
            "GPU belleği (kullanılan): 5.90 GB\n",
            "GPU belleği (önbellek): 8.61 GB\n",
            "\n",
            "Epoch 3/80 başlıyor...\n"
          ]
        },
        {
          "name": "stderr",
          "output_type": "stream",
          "text": [
            "Eğitim: 100%|██████████| 117/117 [01:31<00:00,  1.28it/s, loss=1.6160, acc=43.28%, lr=0.000703]\n",
            "Doğrulama: 100%|██████████| 13/13 [00:07<00:00,  1.82it/s, loss=1.4447, acc=57.67%]\n"
          ]
        },
        {
          "name": "stdout",
          "output_type": "stream",
          "text": [
            "Yeni en iyi model kaydedildi (loss): best_model.pt\n",
            "Yeni en iyi model kaydedildi (acc): best_model_acc.pt\n",
            "Epoch 3/80: Train Loss: 1.6160, Train Acc: 43.28%, Val Loss: 1.4447, Val Acc: 57.67%, LR: 0.000703\n",
            "En son durum kaydedildi: model_checkpoint_latest.pt\n",
            "GPU belleği (kullanılan): 5.90 GB\n",
            "GPU belleği (önbellek): 8.61 GB\n",
            "\n",
            "Epoch 4/80 başlıyor...\n"
          ]
        },
        {
          "name": "stderr",
          "output_type": "stream",
          "text": [
            "Eğitim: 100%|██████████| 117/117 [01:30<00:00,  1.29it/s, loss=1.3761, acc=60.12%, lr=0.001074]\n",
            "Doğrulama: 100%|██████████| 13/13 [00:07<00:00,  1.82it/s, loss=1.2156, acc=69.74%]\n"
          ]
        },
        {
          "name": "stdout",
          "output_type": "stream",
          "text": [
            "Yeni en iyi model kaydedildi (loss): best_model.pt\n",
            "Yeni en iyi model kaydedildi (acc): best_model_acc.pt\n",
            "Epoch 4/80: Train Loss: 1.3761, Train Acc: 60.12%, Val Loss: 1.2156, Val Acc: 69.74%, LR: 0.001074\n",
            "En son durum kaydedildi: model_checkpoint_latest.pt\n",
            "GPU belleği (kullanılan): 5.90 GB\n",
            "GPU belleği (önbellek): 8.61 GB\n",
            "\n",
            "Epoch 5/80 başlıyor...\n"
          ]
        },
        {
          "name": "stderr",
          "output_type": "stream",
          "text": [
            "Eğitim: 100%|██████████| 117/117 [01:30<00:00,  1.29it/s, loss=1.1687, acc=71.10%, lr=0.001441]\n",
            "Doğrulama: 100%|██████████| 13/13 [00:07<00:00,  1.81it/s, loss=1.0569, acc=75.69%]\n"
          ]
        },
        {
          "name": "stdout",
          "output_type": "stream",
          "text": [
            "Yeni en iyi model kaydedildi (loss): best_model.pt\n",
            "Yeni en iyi model kaydedildi (acc): best_model_acc.pt\n",
            "Epoch 5/80: Train Loss: 1.1687, Train Acc: 71.10%, Val Loss: 1.0569, Val Acc: 75.69%, LR: 0.001441\n",
            "En son durum kaydedildi: model_checkpoint_latest.pt\n",
            "Checkpoint kaydedildi: model_checkpoint_epoch_5.pt\n",
            "GPU belleği (kullanılan): 5.90 GB\n",
            "GPU belleği (önbellek): 8.61 GB\n",
            "\n",
            "Epoch 6/80 başlıyor...\n"
          ]
        },
        {
          "name": "stderr",
          "output_type": "stream",
          "text": [
            "Eğitim: 100%|██████████| 117/117 [01:30<00:00,  1.29it/s, loss=1.0650, acc=75.64%, lr=0.001746]\n",
            "Doğrulama: 100%|██████████| 13/13 [00:07<00:00,  1.81it/s, loss=1.0907, acc=75.75%]\n"
          ]
        },
        {
          "name": "stdout",
          "output_type": "stream",
          "text": [
            "Yeni en iyi model kaydedildi (acc): best_model_acc.pt\n",
            "Epoch 6/80: Train Loss: 1.0650, Train Acc: 75.64%, Val Loss: 1.0907, Val Acc: 75.75%, LR: 0.001746\n",
            "En son durum kaydedildi: model_checkpoint_latest.pt\n",
            "GPU belleği (kullanılan): 5.90 GB\n",
            "GPU belleği (önbellek): 8.61 GB\n",
            "\n",
            "Epoch 7/80 başlıyor...\n"
          ]
        },
        {
          "name": "stderr",
          "output_type": "stream",
          "text": [
            "Eğitim: 100%|██████████| 117/117 [01:30<00:00,  1.29it/s, loss=1.0043, acc=80.00%, lr=0.001943]\n",
            "Doğrulama: 100%|██████████| 13/13 [00:07<00:00,  1.83it/s, loss=1.0010, acc=78.49%]\n"
          ]
        },
        {
          "name": "stdout",
          "output_type": "stream",
          "text": [
            "Yeni en iyi model kaydedildi (loss): best_model.pt\n",
            "Yeni en iyi model kaydedildi (acc): best_model_acc.pt\n",
            "Epoch 7/80: Train Loss: 1.0043, Train Acc: 80.00%, Val Loss: 1.0010, Val Acc: 78.49%, LR: 0.001943\n",
            "En son durum kaydedildi: model_checkpoint_latest.pt\n",
            "GPU belleği (kullanılan): 5.90 GB\n",
            "GPU belleği (önbellek): 8.61 GB\n",
            "\n",
            "Epoch 8/80 başlıyor...\n"
          ]
        },
        {
          "name": "stderr",
          "output_type": "stream",
          "text": [
            "Eğitim: 100%|██████████| 117/117 [01:30<00:00,  1.29it/s, loss=1.0022, acc=80.27%, lr=0.002000]\n",
            "Doğrulama: 100%|██████████| 13/13 [00:07<00:00,  1.82it/s, loss=0.9465, acc=82.10%]\n"
          ]
        },
        {
          "name": "stdout",
          "output_type": "stream",
          "text": [
            "Yeni en iyi model kaydedildi (loss): best_model.pt\n",
            "Yeni en iyi model kaydedildi (acc): best_model_acc.pt\n",
            "Epoch 8/80: Train Loss: 1.0022, Train Acc: 80.27%, Val Loss: 0.9465, Val Acc: 82.10%, LR: 0.002000\n",
            "En son durum kaydedildi: model_checkpoint_latest.pt\n",
            "GPU belleği (kullanılan): 5.90 GB\n",
            "GPU belleği (önbellek): 8.61 GB\n",
            "\n",
            "Epoch 9/80 başlıyor...\n"
          ]
        },
        {
          "name": "stderr",
          "output_type": "stream",
          "text": [
            "Eğitim: 100%|██████████| 117/117 [01:30<00:00,  1.29it/s, loss=0.8825, acc=85.85%, lr=0.001999]\n",
            "Doğrulama: 100%|██████████| 13/13 [00:07<00:00,  1.82it/s, loss=0.8195, acc=88.22%]\n"
          ]
        },
        {
          "name": "stdout",
          "output_type": "stream",
          "text": [
            "Yeni en iyi model kaydedildi (loss): best_model.pt\n",
            "Yeni en iyi model kaydedildi (acc): best_model_acc.pt\n",
            "Epoch 9/80: Train Loss: 0.8825, Train Acc: 85.85%, Val Loss: 0.8195, Val Acc: 88.22%, LR: 0.001999\n",
            "En son durum kaydedildi: model_checkpoint_latest.pt\n",
            "GPU belleği (kullanılan): 5.90 GB\n",
            "GPU belleği (önbellek): 8.61 GB\n",
            "\n",
            "Epoch 10/80 başlıyor...\n"
          ]
        },
        {
          "name": "stderr",
          "output_type": "stream",
          "text": [
            "Eğitim: 100%|██████████| 117/117 [01:30<00:00,  1.29it/s, loss=0.8255, acc=88.65%, lr=0.001996]\n",
            "Doğrulama: 100%|██████████| 13/13 [00:07<00:00,  1.82it/s, loss=0.7982, acc=89.75%]\n"
          ]
        },
        {
          "name": "stdout",
          "output_type": "stream",
          "text": [
            "Yeni en iyi model kaydedildi (loss): best_model.pt\n",
            "Yeni en iyi model kaydedildi (acc): best_model_acc.pt\n",
            "Epoch 10/80: Train Loss: 0.8255, Train Acc: 88.65%, Val Loss: 0.7982, Val Acc: 89.75%, LR: 0.001996\n",
            "En son durum kaydedildi: model_checkpoint_latest.pt\n",
            "Checkpoint kaydedildi: model_checkpoint_epoch_10.pt\n",
            "GPU belleği (kullanılan): 5.90 GB\n",
            "GPU belleği (önbellek): 8.61 GB\n",
            "\n",
            "Epoch 11/80 başlıyor...\n"
          ]
        },
        {
          "name": "stderr",
          "output_type": "stream",
          "text": [
            "Eğitim: 100%|██████████| 117/117 [01:30<00:00,  1.29it/s, loss=0.8015, acc=91.02%, lr=0.001991]\n",
            "Doğrulama: 100%|██████████| 13/13 [00:07<00:00,  1.82it/s, loss=0.7539, acc=91.80%]\n"
          ]
        },
        {
          "name": "stdout",
          "output_type": "stream",
          "text": [
            "Yeni en iyi model kaydedildi (loss): best_model.pt\n",
            "Yeni en iyi model kaydedildi (acc): best_model_acc.pt\n",
            "Epoch 11/80: Train Loss: 0.8015, Train Acc: 91.02%, Val Loss: 0.7539, Val Acc: 91.80%, LR: 0.001991\n",
            "En son durum kaydedildi: model_checkpoint_latest.pt\n",
            "GPU belleği (kullanılan): 5.90 GB\n",
            "GPU belleği (önbellek): 8.61 GB\n",
            "\n",
            "Epoch 12/80 başlıyor...\n"
          ]
        },
        {
          "name": "stderr",
          "output_type": "stream",
          "text": [
            "Eğitim: 100%|██████████| 117/117 [01:30<00:00,  1.29it/s, loss=0.7778, acc=91.63%, lr=0.001984]\n",
            "Doğrulama: 100%|██████████| 13/13 [00:07<00:00,  1.82it/s, loss=0.7450, acc=92.25%]\n"
          ]
        },
        {
          "name": "stdout",
          "output_type": "stream",
          "text": [
            "Yeni en iyi model kaydedildi (loss): best_model.pt\n",
            "Yeni en iyi model kaydedildi (acc): best_model_acc.pt\n",
            "Epoch 12/80: Train Loss: 0.7778, Train Acc: 91.63%, Val Loss: 0.7450, Val Acc: 92.25%, LR: 0.001984\n",
            "En son durum kaydedildi: model_checkpoint_latest.pt\n",
            "GPU belleği (kullanılan): 5.90 GB\n",
            "GPU belleği (önbellek): 8.61 GB\n",
            "\n",
            "Epoch 13/80 başlıyor...\n"
          ]
        },
        {
          "name": "stderr",
          "output_type": "stream",
          "text": [
            "Eğitim: 100%|██████████| 117/117 [01:30<00:00,  1.29it/s, loss=0.7728, acc=91.40%, lr=0.001975]\n",
            "Doğrulama: 100%|██████████| 13/13 [00:07<00:00,  1.82it/s, loss=0.7877, acc=92.53%]\n"
          ]
        },
        {
          "name": "stdout",
          "output_type": "stream",
          "text": [
            "Yeni en iyi model kaydedildi (acc): best_model_acc.pt\n",
            "Epoch 13/80: Train Loss: 0.7728, Train Acc: 91.40%, Val Loss: 0.7877, Val Acc: 92.53%, LR: 0.001975\n",
            "En son durum kaydedildi: model_checkpoint_latest.pt\n",
            "GPU belleği (kullanılan): 5.90 GB\n",
            "GPU belleği (önbellek): 8.61 GB\n",
            "\n",
            "Epoch 14/80 başlıyor...\n"
          ]
        },
        {
          "name": "stderr",
          "output_type": "stream",
          "text": [
            "Eğitim: 100%|██████████| 117/117 [01:30<00:00,  1.29it/s, loss=0.7469, acc=93.41%, lr=0.001965]\n",
            "Doğrulama: 100%|██████████| 13/13 [00:07<00:00,  1.83it/s, loss=0.7206, acc=94.39%]\n"
          ]
        },
        {
          "name": "stdout",
          "output_type": "stream",
          "text": [
            "Yeni en iyi model kaydedildi (loss): best_model.pt\n",
            "Yeni en iyi model kaydedildi (acc): best_model_acc.pt\n",
            "Epoch 14/80: Train Loss: 0.7469, Train Acc: 93.41%, Val Loss: 0.7206, Val Acc: 94.39%, LR: 0.001965\n",
            "En son durum kaydedildi: model_checkpoint_latest.pt\n",
            "GPU belleği (kullanılan): 5.90 GB\n",
            "GPU belleği (önbellek): 8.61 GB\n",
            "\n",
            "Epoch 15/80 başlıyor...\n"
          ]
        },
        {
          "name": "stderr",
          "output_type": "stream",
          "text": [
            "Eğitim: 100%|██████████| 117/117 [01:30<00:00,  1.29it/s, loss=0.7031, acc=95.95%, lr=0.001952]\n",
            "Doğrulama: 100%|██████████| 13/13 [00:07<00:00,  1.81it/s, loss=0.7036, acc=95.48%]\n"
          ]
        },
        {
          "name": "stdout",
          "output_type": "stream",
          "text": [
            "Yeni en iyi model kaydedildi (loss): best_model.pt\n",
            "Yeni en iyi model kaydedildi (acc): best_model_acc.pt\n",
            "Epoch 15/80: Train Loss: 0.7031, Train Acc: 95.95%, Val Loss: 0.7036, Val Acc: 95.48%, LR: 0.001952\n",
            "En son durum kaydedildi: model_checkpoint_latest.pt\n",
            "Checkpoint kaydedildi: model_checkpoint_epoch_15.pt\n",
            "GPU belleği (kullanılan): 5.90 GB\n",
            "GPU belleği (önbellek): 8.61 GB\n",
            "\n",
            "Epoch 16/80 başlıyor...\n"
          ]
        },
        {
          "name": "stderr",
          "output_type": "stream",
          "text": [
            "Eğitim: 100%|██████████| 117/117 [01:30<00:00,  1.29it/s, loss=0.6830, acc=96.49%, lr=0.001938]\n",
            "Doğrulama: 100%|██████████| 13/13 [00:07<00:00,  1.82it/s, loss=0.6856, acc=95.83%]\n"
          ]
        },
        {
          "name": "stdout",
          "output_type": "stream",
          "text": [
            "Yeni en iyi model kaydedildi (loss): best_model.pt\n",
            "Yeni en iyi model kaydedildi (acc): best_model_acc.pt\n",
            "Epoch 16/80: Train Loss: 0.6830, Train Acc: 96.49%, Val Loss: 0.6856, Val Acc: 95.83%, LR: 0.001938\n",
            "En son durum kaydedildi: model_checkpoint_latest.pt\n",
            "GPU belleği (kullanılan): 5.90 GB\n",
            "GPU belleği (önbellek): 8.61 GB\n",
            "\n",
            "Epoch 17/80 başlıyor...\n"
          ]
        },
        {
          "name": "stderr",
          "output_type": "stream",
          "text": [
            "Eğitim: 100%|██████████| 117/117 [01:30<00:00,  1.29it/s, loss=0.6686, acc=97.08%, lr=0.001922]\n",
            "Doğrulama: 100%|██████████| 13/13 [00:07<00:00,  1.82it/s, loss=0.6791, acc=96.65%]\n"
          ]
        },
        {
          "name": "stdout",
          "output_type": "stream",
          "text": [
            "Yeni en iyi model kaydedildi (loss): best_model.pt\n",
            "Yeni en iyi model kaydedildi (acc): best_model_acc.pt\n",
            "Epoch 17/80: Train Loss: 0.6686, Train Acc: 97.08%, Val Loss: 0.6791, Val Acc: 96.65%, LR: 0.001922\n",
            "En son durum kaydedildi: model_checkpoint_latest.pt\n",
            "GPU belleği (kullanılan): 5.90 GB\n",
            "GPU belleği (önbellek): 8.61 GB\n",
            "\n",
            "Epoch 18/80 başlıyor...\n"
          ]
        },
        {
          "name": "stderr",
          "output_type": "stream",
          "text": [
            "Eğitim: 100%|██████████| 117/117 [01:30<00:00,  1.29it/s, loss=0.6568, acc=97.85%, lr=0.001904]\n",
            "Doğrulama: 100%|██████████| 13/13 [00:07<00:00,  1.82it/s, loss=0.6738, acc=97.03%]\n"
          ]
        },
        {
          "name": "stdout",
          "output_type": "stream",
          "text": [
            "Yeni en iyi model kaydedildi (loss): best_model.pt\n",
            "Yeni en iyi model kaydedildi (acc): best_model_acc.pt\n",
            "Epoch 18/80: Train Loss: 0.6568, Train Acc: 97.85%, Val Loss: 0.6738, Val Acc: 97.03%, LR: 0.001904\n",
            "En son durum kaydedildi: model_checkpoint_latest.pt\n",
            "GPU belleği (kullanılan): 5.90 GB\n",
            "GPU belleği (önbellek): 8.61 GB\n",
            "\n",
            "Epoch 19/80 başlıyor...\n"
          ]
        },
        {
          "name": "stderr",
          "output_type": "stream",
          "text": [
            "Eğitim: 100%|██████████| 117/117 [01:30<00:00,  1.29it/s, loss=0.6479, acc=98.15%, lr=0.001885]\n",
            "Doğrulama: 100%|██████████| 13/13 [00:07<00:00,  1.82it/s, loss=0.6715, acc=97.03%]\n"
          ]
        },
        {
          "name": "stdout",
          "output_type": "stream",
          "text": [
            "Yeni en iyi model kaydedildi (loss): best_model.pt\n",
            "Epoch 19/80: Train Loss: 0.6479, Train Acc: 98.15%, Val Loss: 0.6715, Val Acc: 97.03%, LR: 0.001885\n",
            "En son durum kaydedildi: model_checkpoint_latest.pt\n",
            "GPU belleği (kullanılan): 5.90 GB\n",
            "GPU belleği (önbellek): 8.61 GB\n",
            "\n",
            "Epoch 20/80 başlıyor...\n"
          ]
        },
        {
          "name": "stderr",
          "output_type": "stream",
          "text": [
            "Eğitim: 100%|██████████| 117/117 [01:30<00:00,  1.29it/s, loss=0.6413, acc=98.47%, lr=0.001863]\n",
            "Doğrulama: 100%|██████████| 13/13 [00:07<00:00,  1.82it/s, loss=0.6613, acc=97.87%]\n"
          ]
        },
        {
          "name": "stdout",
          "output_type": "stream",
          "text": [
            "Yeni en iyi model kaydedildi (loss): best_model.pt\n",
            "Yeni en iyi model kaydedildi (acc): best_model_acc.pt\n",
            "Epoch 20/80: Train Loss: 0.6413, Train Acc: 98.47%, Val Loss: 0.6613, Val Acc: 97.87%, LR: 0.001863\n",
            "En son durum kaydedildi: model_checkpoint_latest.pt\n",
            "Checkpoint kaydedildi: model_checkpoint_epoch_20.pt\n",
            "GPU belleği (kullanılan): 5.90 GB\n",
            "GPU belleği (önbellek): 8.61 GB\n",
            "\n",
            "Epoch 21/80 başlıyor...\n"
          ]
        },
        {
          "name": "stderr",
          "output_type": "stream",
          "text": [
            "Eğitim: 100%|██████████| 117/117 [01:30<00:00,  1.29it/s, loss=0.6389, acc=98.70%, lr=0.001840]\n",
            "Doğrulama: 100%|██████████| 13/13 [00:07<00:00,  1.81it/s, loss=0.6447, acc=98.09%]\n"
          ]
        },
        {
          "name": "stdout",
          "output_type": "stream",
          "text": [
            "Yeni en iyi model kaydedildi (loss): best_model.pt\n",
            "Yeni en iyi model kaydedildi (acc): best_model_acc.pt\n",
            "Epoch 21/80: Train Loss: 0.6389, Train Acc: 98.70%, Val Loss: 0.6447, Val Acc: 98.09%, LR: 0.001840\n",
            "En son durum kaydedildi: model_checkpoint_latest.pt\n",
            "GPU belleği (kullanılan): 5.90 GB\n",
            "GPU belleği (önbellek): 8.61 GB\n",
            "\n",
            "Epoch 22/80 başlıyor...\n"
          ]
        },
        {
          "name": "stderr",
          "output_type": "stream",
          "text": [
            "Eğitim: 100%|██████████| 117/117 [01:30<00:00,  1.29it/s, loss=0.6304, acc=98.89%, lr=0.001816]\n",
            "Doğrulama: 100%|██████████| 13/13 [00:07<00:00,  1.82it/s, loss=0.6564, acc=98.39%]\n"
          ]
        },
        {
          "name": "stdout",
          "output_type": "stream",
          "text": [
            "Yeni en iyi model kaydedildi (acc): best_model_acc.pt\n",
            "Epoch 22/80: Train Loss: 0.6304, Train Acc: 98.89%, Val Loss: 0.6564, Val Acc: 98.39%, LR: 0.001816\n",
            "En son durum kaydedildi: model_checkpoint_latest.pt\n",
            "GPU belleği (kullanılan): 5.90 GB\n",
            "GPU belleği (önbellek): 8.61 GB\n",
            "\n",
            "Epoch 23/80 başlıyor...\n"
          ]
        },
        {
          "name": "stderr",
          "output_type": "stream",
          "text": [
            "Eğitim: 100%|██████████| 117/117 [01:30<00:00,  1.29it/s, loss=0.6275, acc=99.10%, lr=0.001790]\n",
            "Doğrulama: 100%|██████████| 13/13 [00:07<00:00,  1.82it/s, loss=0.6357, acc=98.47%]\n"
          ]
        },
        {
          "name": "stdout",
          "output_type": "stream",
          "text": [
            "Yeni en iyi model kaydedildi (loss): best_model.pt\n",
            "Yeni en iyi model kaydedildi (acc): best_model_acc.pt\n",
            "Epoch 23/80: Train Loss: 0.6275, Train Acc: 99.10%, Val Loss: 0.6357, Val Acc: 98.47%, LR: 0.001790\n",
            "En son durum kaydedildi: model_checkpoint_latest.pt\n",
            "GPU belleği (kullanılan): 5.90 GB\n",
            "GPU belleği (önbellek): 8.61 GB\n",
            "\n",
            "Epoch 24/80 başlıyor...\n"
          ]
        },
        {
          "name": "stderr",
          "output_type": "stream",
          "text": [
            "Eğitim: 100%|██████████| 117/117 [01:24<00:00,  1.39it/s, loss=0.6212, acc=99.25%, lr=0.001763]\n",
            "Doğrulama: 100%|██████████| 13/13 [00:06<00:00,  2.00it/s, loss=0.6463, acc=98.31%]\n"
          ]
        },
        {
          "name": "stdout",
          "output_type": "stream",
          "text": [
            "Epoch 24/80: Train Loss: 0.6212, Train Acc: 99.25%, Val Loss: 0.6463, Val Acc: 98.31%, LR: 0.001763\n",
            "En son durum kaydedildi: model_checkpoint_latest.pt\n",
            "GPU belleği (kullanılan): 5.90 GB\n",
            "GPU belleği (önbellek): 8.61 GB\n",
            "\n",
            "Epoch 25/80 başlıyor...\n"
          ]
        },
        {
          "name": "stderr",
          "output_type": "stream",
          "text": [
            "Eğitim: 100%|██████████| 117/117 [01:25<00:00,  1.38it/s, loss=0.6165, acc=99.38%, lr=0.001734]\n",
            "Doğrulama: 100%|██████████| 13/13 [00:06<00:00,  1.95it/s, loss=0.6377, acc=98.57%]\n"
          ]
        },
        {
          "name": "stdout",
          "output_type": "stream",
          "text": [
            "Yeni en iyi model kaydedildi (acc): best_model_acc.pt\n",
            "Epoch 25/80: Train Loss: 0.6165, Train Acc: 99.38%, Val Loss: 0.6377, Val Acc: 98.57%, LR: 0.001734\n",
            "En son durum kaydedildi: model_checkpoint_latest.pt\n",
            "Checkpoint kaydedildi: model_checkpoint_epoch_25.pt\n",
            "GPU belleği (kullanılan): 5.90 GB\n",
            "GPU belleği (önbellek): 8.61 GB\n",
            "\n",
            "Epoch 26/80 başlıyor...\n"
          ]
        },
        {
          "name": "stderr",
          "output_type": "stream",
          "text": [
            "Eğitim: 100%|██████████| 117/117 [01:23<00:00,  1.40it/s, loss=0.6144, acc=99.45%, lr=0.001703]\n",
            "Doğrulama: 100%|██████████| 13/13 [00:06<00:00,  1.98it/s, loss=0.6441, acc=98.06%]\n"
          ]
        },
        {
          "name": "stdout",
          "output_type": "stream",
          "text": [
            "Epoch 26/80: Train Loss: 0.6144, Train Acc: 99.45%, Val Loss: 0.6441, Val Acc: 98.06%, LR: 0.001703\n",
            "En son durum kaydedildi: model_checkpoint_latest.pt\n",
            "GPU belleği (kullanılan): 5.90 GB\n",
            "GPU belleği (önbellek): 8.61 GB\n",
            "\n",
            "Epoch 27/80 başlıyor...\n"
          ]
        },
        {
          "name": "stderr",
          "output_type": "stream",
          "text": [
            "Eğitim: 100%|██████████| 117/117 [01:24<00:00,  1.39it/s, loss=0.6120, acc=99.54%, lr=0.001672]\n",
            "Doğrulama: 100%|██████████| 13/13 [00:06<00:00,  2.00it/s, loss=0.6266, acc=98.97%]\n"
          ]
        },
        {
          "name": "stdout",
          "output_type": "stream",
          "text": [
            "Yeni en iyi model kaydedildi (loss): best_model.pt\n",
            "Yeni en iyi model kaydedildi (acc): best_model_acc.pt\n",
            "Epoch 27/80: Train Loss: 0.6120, Train Acc: 99.54%, Val Loss: 0.6266, Val Acc: 98.97%, LR: 0.001672\n",
            "En son durum kaydedildi: model_checkpoint_latest.pt\n",
            "GPU belleği (kullanılan): 5.90 GB\n",
            "GPU belleği (önbellek): 8.61 GB\n",
            "\n",
            "Epoch 28/80 başlıyor...\n"
          ]
        },
        {
          "name": "stderr",
          "output_type": "stream",
          "text": [
            "Eğitim: 100%|██████████| 117/117 [01:23<00:00,  1.40it/s, loss=0.6096, acc=99.57%, lr=0.001639]\n",
            "Doğrulama: 100%|██████████| 13/13 [00:06<00:00,  2.00it/s, loss=0.6336, acc=98.66%]\n"
          ]
        },
        {
          "name": "stdout",
          "output_type": "stream",
          "text": [
            "Epoch 28/80: Train Loss: 0.6096, Train Acc: 99.57%, Val Loss: 0.6336, Val Acc: 98.66%, LR: 0.001639\n",
            "En son durum kaydedildi: model_checkpoint_latest.pt\n",
            "GPU belleği (kullanılan): 5.90 GB\n",
            "GPU belleği (önbellek): 8.61 GB\n",
            "\n",
            "Epoch 29/80 başlıyor...\n"
          ]
        },
        {
          "name": "stderr",
          "output_type": "stream",
          "text": [
            "Eğitim: 100%|██████████| 117/117 [01:24<00:00,  1.39it/s, loss=0.6103, acc=99.68%, lr=0.001605]\n",
            "Doğrulama: 100%|██████████| 13/13 [00:06<00:00,  1.98it/s, loss=0.6533, acc=98.17%]\n"
          ]
        },
        {
          "name": "stdout",
          "output_type": "stream",
          "text": [
            "Epoch 29/80: Train Loss: 0.6103, Train Acc: 99.68%, Val Loss: 0.6533, Val Acc: 98.17%, LR: 0.001605\n",
            "En son durum kaydedildi: model_checkpoint_latest.pt\n",
            "GPU belleği (kullanılan): 5.90 GB\n",
            "GPU belleği (önbellek): 8.61 GB\n",
            "\n",
            "Epoch 30/80 başlıyor...\n"
          ]
        },
        {
          "name": "stderr",
          "output_type": "stream",
          "text": [
            "Eğitim: 100%|██████████| 117/117 [01:24<00:00,  1.38it/s, loss=0.6101, acc=99.64%, lr=0.001569]\n",
            "Doğrulama: 100%|██████████| 13/13 [00:06<00:00,  1.98it/s, loss=0.6229, acc=98.89%]\n"
          ]
        },
        {
          "name": "stdout",
          "output_type": "stream",
          "text": [
            "Yeni en iyi model kaydedildi (loss): best_model.pt\n",
            "Epoch 30/80: Train Loss: 0.6101, Train Acc: 99.64%, Val Loss: 0.6229, Val Acc: 98.89%, LR: 0.001569\n",
            "En son durum kaydedildi: model_checkpoint_latest.pt\n",
            "Checkpoint kaydedildi: model_checkpoint_epoch_30.pt\n",
            "GPU belleği (kullanılan): 5.90 GB\n",
            "GPU belleği (önbellek): 8.61 GB\n",
            "\n",
            "Epoch 31/80 başlıyor...\n"
          ]
        },
        {
          "name": "stderr",
          "output_type": "stream",
          "text": [
            "Eğitim: 100%|██████████| 117/117 [01:28<00:00,  1.33it/s, loss=0.6062, acc=99.71%, lr=0.001533]\n",
            "Doğrulama: 100%|██████████| 13/13 [00:07<00:00,  1.85it/s, loss=0.6334, acc=98.84%]\n"
          ]
        },
        {
          "name": "stdout",
          "output_type": "stream",
          "text": [
            "Epoch 31/80: Train Loss: 0.6062, Train Acc: 99.71%, Val Loss: 0.6334, Val Acc: 98.84%, LR: 0.001533\n",
            "En son durum kaydedildi: model_checkpoint_latest.pt\n",
            "GPU belleği (kullanılan): 5.90 GB\n",
            "GPU belleği (önbellek): 8.61 GB\n",
            "\n",
            "Epoch 32/80 başlıyor...\n"
          ]
        },
        {
          "name": "stderr",
          "output_type": "stream",
          "text": [
            "Eğitim: 100%|██████████| 117/117 [01:30<00:00,  1.30it/s, loss=0.6055, acc=99.73%, lr=0.001495]\n",
            "Doğrulama: 100%|██████████| 13/13 [00:07<00:00,  1.84it/s, loss=0.6217, acc=98.89%]\n"
          ]
        },
        {
          "name": "stdout",
          "output_type": "stream",
          "text": [
            "Yeni en iyi model kaydedildi (loss): best_model.pt\n",
            "Epoch 32/80: Train Loss: 0.6055, Train Acc: 99.73%, Val Loss: 0.6217, Val Acc: 98.89%, LR: 0.001495\n",
            "En son durum kaydedildi: model_checkpoint_latest.pt\n",
            "GPU belleği (kullanılan): 5.90 GB\n",
            "GPU belleği (önbellek): 8.61 GB\n",
            "\n",
            "Epoch 33/80 başlıyor...\n"
          ]
        },
        {
          "name": "stderr",
          "output_type": "stream",
          "text": [
            "Eğitim: 100%|██████████| 117/117 [01:30<00:00,  1.29it/s, loss=0.6025, acc=99.79%, lr=0.001457]\n",
            "Doğrulama: 100%|██████████| 13/13 [00:07<00:00,  1.82it/s, loss=0.6211, acc=98.95%]\n"
          ]
        },
        {
          "name": "stdout",
          "output_type": "stream",
          "text": [
            "Yeni en iyi model kaydedildi (loss): best_model.pt\n",
            "Epoch 33/80: Train Loss: 0.6025, Train Acc: 99.79%, Val Loss: 0.6211, Val Acc: 98.95%, LR: 0.001457\n",
            "En son durum kaydedildi: model_checkpoint_latest.pt\n",
            "GPU belleği (kullanılan): 5.90 GB\n",
            "GPU belleği (önbellek): 8.61 GB\n",
            "\n",
            "Epoch 34/80 başlıyor...\n"
          ]
        },
        {
          "name": "stderr",
          "output_type": "stream",
          "text": [
            "Eğitim: 100%|██████████| 117/117 [01:30<00:00,  1.29it/s, loss=0.6024, acc=99.82%, lr=0.001418]\n",
            "Doğrulama: 100%|██████████| 13/13 [00:07<00:00,  1.82it/s, loss=0.6330, acc=98.81%]\n"
          ]
        },
        {
          "name": "stdout",
          "output_type": "stream",
          "text": [
            "Epoch 34/80: Train Loss: 0.6024, Train Acc: 99.82%, Val Loss: 0.6330, Val Acc: 98.81%, LR: 0.001418\n",
            "En son durum kaydedildi: model_checkpoint_latest.pt\n",
            "GPU belleği (kullanılan): 5.90 GB\n",
            "GPU belleği (önbellek): 8.61 GB\n",
            "\n",
            "Epoch 35/80 başlıyor...\n"
          ]
        },
        {
          "name": "stderr",
          "output_type": "stream",
          "text": [
            "Eğitim: 100%|██████████| 117/117 [01:30<00:00,  1.29it/s, loss=0.6008, acc=99.83%, lr=0.001378]\n",
            "Doğrulama: 100%|██████████| 13/13 [00:07<00:00,  1.83it/s, loss=0.6231, acc=98.99%]\n"
          ]
        },
        {
          "name": "stdout",
          "output_type": "stream",
          "text": [
            "Yeni en iyi model kaydedildi (acc): best_model_acc.pt\n",
            "Epoch 35/80: Train Loss: 0.6008, Train Acc: 99.83%, Val Loss: 0.6231, Val Acc: 98.99%, LR: 0.001378\n",
            "En son durum kaydedildi: model_checkpoint_latest.pt\n",
            "Checkpoint kaydedildi: model_checkpoint_epoch_35.pt\n",
            "GPU belleği (kullanılan): 5.90 GB\n",
            "GPU belleği (önbellek): 8.61 GB\n",
            "\n",
            "Epoch 36/80 başlıyor...\n"
          ]
        },
        {
          "name": "stderr",
          "output_type": "stream",
          "text": [
            "Eğitim: 100%|██████████| 117/117 [01:30<00:00,  1.29it/s, loss=0.5998, acc=99.86%, lr=0.001337]\n",
            "Doğrulama: 100%|██████████| 13/13 [00:07<00:00,  1.82it/s, loss=0.6178, acc=99.11%]\n"
          ]
        },
        {
          "name": "stdout",
          "output_type": "stream",
          "text": [
            "Yeni en iyi model kaydedildi (loss): best_model.pt\n",
            "Yeni en iyi model kaydedildi (acc): best_model_acc.pt\n",
            "Epoch 36/80: Train Loss: 0.5998, Train Acc: 99.86%, Val Loss: 0.6178, Val Acc: 99.11%, LR: 0.001337\n",
            "En son durum kaydedildi: model_checkpoint_latest.pt\n",
            "GPU belleği (kullanılan): 5.90 GB\n",
            "GPU belleği (önbellek): 8.61 GB\n",
            "\n",
            "Epoch 37/80 başlıyor...\n"
          ]
        },
        {
          "name": "stderr",
          "output_type": "stream",
          "text": [
            "Eğitim: 100%|██████████| 117/117 [01:30<00:00,  1.29it/s, loss=0.5979, acc=99.88%, lr=0.001296]\n",
            "Doğrulama: 100%|██████████| 13/13 [00:07<00:00,  1.81it/s, loss=0.6190, acc=99.04%]\n"
          ]
        },
        {
          "name": "stdout",
          "output_type": "stream",
          "text": [
            "Epoch 37/80: Train Loss: 0.5979, Train Acc: 99.88%, Val Loss: 0.6190, Val Acc: 99.04%, LR: 0.001296\n",
            "En son durum kaydedildi: model_checkpoint_latest.pt\n",
            "GPU belleği (kullanılan): 5.90 GB\n",
            "GPU belleği (önbellek): 8.61 GB\n",
            "\n",
            "Epoch 38/80 başlıyor...\n"
          ]
        },
        {
          "name": "stderr",
          "output_type": "stream",
          "text": [
            "Eğitim: 100%|██████████| 117/117 [01:30<00:00,  1.29it/s, loss=0.5983, acc=99.90%, lr=0.001254]\n",
            "Doğrulama: 100%|██████████| 13/13 [00:07<00:00,  1.83it/s, loss=0.6261, acc=98.93%]\n"
          ]
        },
        {
          "name": "stdout",
          "output_type": "stream",
          "text": [
            "Epoch 38/80: Train Loss: 0.5983, Train Acc: 99.90%, Val Loss: 0.6261, Val Acc: 98.93%, LR: 0.001254\n",
            "En son durum kaydedildi: model_checkpoint_latest.pt\n",
            "GPU belleği (kullanılan): 5.90 GB\n",
            "GPU belleği (önbellek): 8.61 GB\n",
            "\n",
            "Epoch 39/80 başlıyor...\n"
          ]
        },
        {
          "name": "stderr",
          "output_type": "stream",
          "text": [
            "Eğitim: 100%|██████████| 117/117 [01:30<00:00,  1.29it/s, loss=0.5987, acc=99.93%, lr=0.001211]\n",
            "Doğrulama: 100%|██████████| 13/13 [00:07<00:00,  1.83it/s, loss=0.6262, acc=98.95%]\n"
          ]
        },
        {
          "name": "stdout",
          "output_type": "stream",
          "text": [
            "Epoch 39/80: Train Loss: 0.5987, Train Acc: 99.93%, Val Loss: 0.6262, Val Acc: 98.95%, LR: 0.001211\n",
            "En son durum kaydedildi: model_checkpoint_latest.pt\n",
            "GPU belleği (kullanılan): 5.90 GB\n",
            "GPU belleği (önbellek): 8.61 GB\n",
            "\n",
            "Epoch 40/80 başlıyor...\n"
          ]
        },
        {
          "name": "stderr",
          "output_type": "stream",
          "text": [
            "Eğitim: 100%|██████████| 117/117 [01:30<00:00,  1.29it/s, loss=0.5969, acc=99.94%, lr=0.001168]\n",
            "Doğrulama: 100%|██████████| 13/13 [00:07<00:00,  1.83it/s, loss=0.6251, acc=98.96%]\n"
          ]
        },
        {
          "name": "stdout",
          "output_type": "stream",
          "text": [
            "Epoch 40/80: Train Loss: 0.5969, Train Acc: 99.94%, Val Loss: 0.6251, Val Acc: 98.96%, LR: 0.001168\n",
            "En son durum kaydedildi: model_checkpoint_latest.pt\n",
            "Checkpoint kaydedildi: model_checkpoint_epoch_40.pt\n",
            "GPU belleği (kullanılan): 5.90 GB\n",
            "GPU belleği (önbellek): 8.61 GB\n",
            "\n",
            "Epoch 41/80 başlıyor...\n"
          ]
        },
        {
          "name": "stderr",
          "output_type": "stream",
          "text": [
            "Eğitim: 100%|██████████| 117/117 [01:30<00:00,  1.29it/s, loss=0.5961, acc=99.95%, lr=0.001125]\n",
            "Doğrulama: 100%|██████████| 13/13 [00:07<00:00,  1.83it/s, loss=0.6243, acc=98.95%]\n"
          ]
        },
        {
          "name": "stdout",
          "output_type": "stream",
          "text": [
            "Epoch 41/80: Train Loss: 0.5961, Train Acc: 99.95%, Val Loss: 0.6243, Val Acc: 98.95%, LR: 0.001125\n",
            "En son durum kaydedildi: model_checkpoint_latest.pt\n",
            "GPU belleği (kullanılan): 5.90 GB\n",
            "GPU belleği (önbellek): 8.61 GB\n",
            "\n",
            "Epoch 42/80 başlıyor...\n"
          ]
        },
        {
          "name": "stderr",
          "output_type": "stream",
          "text": [
            "Eğitim: 100%|██████████| 117/117 [01:30<00:00,  1.29it/s, loss=0.5954, acc=99.95%, lr=0.001082]\n",
            "Doğrulama: 100%|██████████| 13/13 [00:07<00:00,  1.84it/s, loss=0.6238, acc=99.05%]\n"
          ]
        },
        {
          "name": "stdout",
          "output_type": "stream",
          "text": [
            "Epoch 42/80: Train Loss: 0.5954, Train Acc: 99.95%, Val Loss: 0.6238, Val Acc: 99.05%, LR: 0.001082\n",
            "En son durum kaydedildi: model_checkpoint_latest.pt\n",
            "GPU belleği (kullanılan): 5.90 GB\n",
            "GPU belleği (önbellek): 8.61 GB\n",
            "\n",
            "Epoch 43/80 başlıyor...\n"
          ]
        },
        {
          "name": "stderr",
          "output_type": "stream",
          "text": [
            "Eğitim: 100%|██████████| 117/117 [01:30<00:00,  1.29it/s, loss=0.5947, acc=99.95%, lr=0.001038]\n",
            "Doğrulama: 100%|██████████| 13/13 [00:07<00:00,  1.83it/s, loss=0.6227, acc=99.03%]\n"
          ]
        },
        {
          "name": "stdout",
          "output_type": "stream",
          "text": [
            "Epoch 43/80: Train Loss: 0.5947, Train Acc: 99.95%, Val Loss: 0.6227, Val Acc: 99.03%, LR: 0.001038\n",
            "En son durum kaydedildi: model_checkpoint_latest.pt\n",
            "GPU belleği (kullanılan): 5.90 GB\n",
            "GPU belleği (önbellek): 8.61 GB\n",
            "\n",
            "Epoch 44/80 başlıyor...\n"
          ]
        },
        {
          "name": "stderr",
          "output_type": "stream",
          "text": [
            "Eğitim: 100%|██████████| 117/117 [01:30<00:00,  1.29it/s, loss=0.5944, acc=99.97%, lr=0.000995]\n",
            "Doğrulama: 100%|██████████| 13/13 [00:07<00:00,  1.83it/s, loss=0.6232, acc=99.06%]\n"
          ]
        },
        {
          "name": "stdout",
          "output_type": "stream",
          "text": [
            "Epoch 44/80: Train Loss: 0.5944, Train Acc: 99.97%, Val Loss: 0.6232, Val Acc: 99.06%, LR: 0.000995\n",
            "En son durum kaydedildi: model_checkpoint_latest.pt\n",
            "GPU belleği (kullanılan): 5.90 GB\n",
            "GPU belleği (önbellek): 8.61 GB\n",
            "\n",
            "Epoch 45/80 başlıyor...\n"
          ]
        },
        {
          "name": "stderr",
          "output_type": "stream",
          "text": [
            "Eğitim: 100%|██████████| 117/117 [01:30<00:00,  1.29it/s, loss=0.5937, acc=99.97%, lr=0.000951]\n",
            "Doğrulama: 100%|██████████| 13/13 [00:07<00:00,  1.83it/s, loss=0.6167, acc=99.12%]\n"
          ]
        },
        {
          "name": "stdout",
          "output_type": "stream",
          "text": [
            "Yeni en iyi model kaydedildi (loss): best_model.pt\n",
            "Yeni en iyi model kaydedildi (acc): best_model_acc.pt\n",
            "Epoch 45/80: Train Loss: 0.5937, Train Acc: 99.97%, Val Loss: 0.6167, Val Acc: 99.12%, LR: 0.000951\n",
            "En son durum kaydedildi: model_checkpoint_latest.pt\n",
            "Checkpoint kaydedildi: model_checkpoint_epoch_45.pt\n",
            "GPU belleği (kullanılan): 5.90 GB\n",
            "GPU belleği (önbellek): 8.61 GB\n",
            "\n",
            "Epoch 46/80 başlıyor...\n"
          ]
        },
        {
          "name": "stderr",
          "output_type": "stream",
          "text": [
            "Eğitim: 100%|██████████| 117/117 [01:30<00:00,  1.30it/s, loss=0.5932, acc=99.97%, lr=0.000908]\n",
            "Doğrulama: 100%|██████████| 13/13 [00:07<00:00,  1.81it/s, loss=0.6155, acc=99.18%]\n"
          ]
        },
        {
          "name": "stdout",
          "output_type": "stream",
          "text": [
            "Yeni en iyi model kaydedildi (loss): best_model.pt\n",
            "Yeni en iyi model kaydedildi (acc): best_model_acc.pt\n",
            "Epoch 46/80: Train Loss: 0.5932, Train Acc: 99.97%, Val Loss: 0.6155, Val Acc: 99.18%, LR: 0.000908\n",
            "En son durum kaydedildi: model_checkpoint_latest.pt\n",
            "GPU belleği (kullanılan): 5.90 GB\n",
            "GPU belleği (önbellek): 8.61 GB\n",
            "\n",
            "Epoch 47/80 başlıyor...\n"
          ]
        },
        {
          "name": "stderr",
          "output_type": "stream",
          "text": [
            "Eğitim: 100%|██████████| 117/117 [01:30<00:00,  1.29it/s, loss=0.5936, acc=99.97%, lr=0.000864]\n",
            "Doğrulama: 100%|██████████| 13/13 [00:07<00:00,  1.82it/s, loss=0.6163, acc=99.10%]\n"
          ]
        },
        {
          "name": "stdout",
          "output_type": "stream",
          "text": [
            "Epoch 47/80: Train Loss: 0.5936, Train Acc: 99.97%, Val Loss: 0.6163, Val Acc: 99.10%, LR: 0.000864\n",
            "En son durum kaydedildi: model_checkpoint_latest.pt\n",
            "GPU belleği (kullanılan): 5.90 GB\n",
            "GPU belleği (önbellek): 8.61 GB\n",
            "\n",
            "Epoch 48/80 başlıyor...\n"
          ]
        },
        {
          "name": "stderr",
          "output_type": "stream",
          "text": [
            "Eğitim: 100%|██████████| 117/117 [01:30<00:00,  1.30it/s, loss=0.5927, acc=99.98%, lr=0.000821]\n",
            "Doğrulama: 100%|██████████| 13/13 [00:07<00:00,  1.83it/s, loss=0.6189, acc=99.09%]\n"
          ]
        },
        {
          "name": "stdout",
          "output_type": "stream",
          "text": [
            "Epoch 48/80: Train Loss: 0.5927, Train Acc: 99.98%, Val Loss: 0.6189, Val Acc: 99.09%, LR: 0.000821\n",
            "En son durum kaydedildi: model_checkpoint_latest.pt\n",
            "GPU belleği (kullanılan): 5.90 GB\n",
            "GPU belleği (önbellek): 8.61 GB\n",
            "\n",
            "Epoch 49/80 başlıyor...\n"
          ]
        },
        {
          "name": "stderr",
          "output_type": "stream",
          "text": [
            "Eğitim: 100%|██████████| 117/117 [01:30<00:00,  1.29it/s, loss=0.5926, acc=99.98%, lr=0.000779]\n",
            "Doğrulama: 100%|██████████| 13/13 [00:07<00:00,  1.83it/s, loss=0.6188, acc=99.06%]\n"
          ]
        },
        {
          "name": "stdout",
          "output_type": "stream",
          "text": [
            "Epoch 49/80: Train Loss: 0.5926, Train Acc: 99.98%, Val Loss: 0.6188, Val Acc: 99.06%, LR: 0.000779\n",
            "En son durum kaydedildi: model_checkpoint_latest.pt\n",
            "GPU belleği (kullanılan): 5.90 GB\n",
            "GPU belleği (önbellek): 8.61 GB\n",
            "\n",
            "Epoch 50/80 başlıyor...\n"
          ]
        },
        {
          "name": "stderr",
          "output_type": "stream",
          "text": [
            "Eğitim: 100%|██████████| 117/117 [01:30<00:00,  1.29it/s, loss=0.5922, acc=99.99%, lr=0.000736]\n",
            "Doğrulama: 100%|██████████| 13/13 [00:07<00:00,  1.83it/s, loss=0.6177, acc=99.17%]\n"
          ]
        },
        {
          "name": "stdout",
          "output_type": "stream",
          "text": [
            "Epoch 50/80: Train Loss: 0.5922, Train Acc: 99.99%, Val Loss: 0.6177, Val Acc: 99.17%, LR: 0.000736\n",
            "En son durum kaydedildi: model_checkpoint_latest.pt\n",
            "Checkpoint kaydedildi: model_checkpoint_epoch_50.pt\n",
            "GPU belleği (kullanılan): 5.90 GB\n",
            "GPU belleği (önbellek): 8.61 GB\n",
            "\n",
            "Epoch 51/80 başlıyor...\n"
          ]
        },
        {
          "name": "stderr",
          "output_type": "stream",
          "text": [
            "Eğitim: 100%|██████████| 117/117 [01:30<00:00,  1.30it/s, loss=0.5919, acc=99.99%, lr=0.000694]\n",
            "Doğrulama: 100%|██████████| 13/13 [00:07<00:00,  1.80it/s, loss=0.6173, acc=99.16%]\n"
          ]
        },
        {
          "name": "stdout",
          "output_type": "stream",
          "text": [
            "Epoch 51/80: Train Loss: 0.5919, Train Acc: 99.99%, Val Loss: 0.6173, Val Acc: 99.16%, LR: 0.000694\n",
            "En son durum kaydedildi: model_checkpoint_latest.pt\n",
            "GPU belleği (kullanılan): 5.90 GB\n",
            "GPU belleği (önbellek): 8.61 GB\n",
            "\n",
            "Epoch 52/80 başlıyor...\n"
          ]
        },
        {
          "name": "stderr",
          "output_type": "stream",
          "text": [
            "Eğitim: 100%|██████████| 117/117 [01:30<00:00,  1.29it/s, loss=0.5913, acc=99.99%, lr=0.000653]\n",
            "Doğrulama: 100%|██████████| 13/13 [00:07<00:00,  1.84it/s, loss=0.6185, acc=99.14%]\n"
          ]
        },
        {
          "name": "stdout",
          "output_type": "stream",
          "text": [
            "Epoch 52/80: Train Loss: 0.5913, Train Acc: 99.99%, Val Loss: 0.6185, Val Acc: 99.14%, LR: 0.000653\n",
            "En son durum kaydedildi: model_checkpoint_latest.pt\n",
            "GPU belleği (kullanılan): 5.90 GB\n",
            "GPU belleği (önbellek): 8.61 GB\n",
            "\n",
            "Epoch 53/80 başlıyor...\n"
          ]
        },
        {
          "name": "stderr",
          "output_type": "stream",
          "text": [
            "Eğitim: 100%|██████████| 117/117 [01:30<00:00,  1.30it/s, loss=0.5912, acc=99.99%, lr=0.000613]\n",
            "Doğrulama: 100%|██████████| 13/13 [00:07<00:00,  1.83it/s, loss=0.6181, acc=99.11%]\n"
          ]
        },
        {
          "name": "stdout",
          "output_type": "stream",
          "text": [
            "Epoch 53/80: Train Loss: 0.5912, Train Acc: 99.99%, Val Loss: 0.6181, Val Acc: 99.11%, LR: 0.000613\n",
            "En son durum kaydedildi: model_checkpoint_latest.pt\n",
            "GPU belleği (kullanılan): 5.90 GB\n",
            "GPU belleği (önbellek): 8.61 GB\n",
            "\n",
            "Epoch 54/80 başlıyor...\n"
          ]
        },
        {
          "name": "stderr",
          "output_type": "stream",
          "text": [
            "Eğitim: 100%|██████████| 117/117 [01:30<00:00,  1.29it/s, loss=0.5907, acc=99.99%, lr=0.000573]\n",
            "Doğrulama: 100%|██████████| 13/13 [00:07<00:00,  1.84it/s, loss=0.6170, acc=99.11%]\n"
          ]
        },
        {
          "name": "stdout",
          "output_type": "stream",
          "text": [
            "Epoch 54/80: Train Loss: 0.5907, Train Acc: 99.99%, Val Loss: 0.6170, Val Acc: 99.11%, LR: 0.000573\n",
            "En son durum kaydedildi: model_checkpoint_latest.pt\n",
            "GPU belleği (kullanılan): 5.90 GB\n",
            "GPU belleği (önbellek): 8.61 GB\n",
            "\n",
            "Epoch 55/80 başlıyor...\n"
          ]
        },
        {
          "name": "stderr",
          "output_type": "stream",
          "text": [
            "Eğitim: 100%|██████████| 117/117 [01:30<00:00,  1.29it/s, loss=0.5905, acc=99.99%, lr=0.000534]\n",
            "Doğrulama: 100%|██████████| 13/13 [00:07<00:00,  1.83it/s, loss=0.6182, acc=99.11%]\n"
          ]
        },
        {
          "name": "stdout",
          "output_type": "stream",
          "text": [
            "Epoch 55/80: Train Loss: 0.5905, Train Acc: 99.99%, Val Loss: 0.6182, Val Acc: 99.11%, LR: 0.000534\n",
            "En son durum kaydedildi: model_checkpoint_latest.pt\n",
            "Checkpoint kaydedildi: model_checkpoint_epoch_55.pt\n",
            "GPU belleği (kullanılan): 5.90 GB\n",
            "GPU belleği (önbellek): 8.61 GB\n",
            "\n",
            "Epoch 56/80 başlıyor...\n"
          ]
        },
        {
          "name": "stderr",
          "output_type": "stream",
          "text": [
            "Eğitim: 100%|██████████| 117/117 [01:30<00:00,  1.29it/s, loss=0.5903, acc=100.00%, lr=0.000496]\n",
            "Doğrulama: 100%|██████████| 13/13 [00:07<00:00,  1.82it/s, loss=0.6183, acc=99.13%]\n"
          ]
        },
        {
          "name": "stdout",
          "output_type": "stream",
          "text": [
            "Epoch 56/80: Train Loss: 0.5903, Train Acc: 100.00%, Val Loss: 0.6183, Val Acc: 99.13%, LR: 0.000496\n",
            "En son durum kaydedildi: model_checkpoint_latest.pt\n",
            "GPU belleği (kullanılan): 5.90 GB\n",
            "GPU belleği (önbellek): 8.61 GB\n",
            "Validation loss 10 epoch'tur iyileşmiyor. Eğitim erken durduruluyor.\n",
            "En iyi validation loss: 0.6155, En iyi validation accuracy: 99.18%\n"
          ]
        }
      ],
      "source": [
        "\n",
        "###############################################################################\n",
        "# GPU ve CUDA Bilgileri\n",
        "###############################################################################\n",
        "# Aşağıdaki shell komutları yerine Python kodları kullanıyoruz\n",
        "import subprocess\n",
        "import sys\n",
        "\n",
        "def check_gpu_info():\n",
        "    try:\n",
        "        # nvidia-smi komutunu çalıştır\n",
        "        result = subprocess.run(['nvidia-smi'], capture_output=True, text=True, check=True)\n",
        "        print(result.stdout)\n",
        "    except subprocess.CalledProcessError:\n",
        "        print(\"nvidia-smi komutu çalıştırılamadı. GPU bilgileri alınamadı.\")\n",
        "    except FileNotFoundError:\n",
        "        print(\"nvidia-smi komutu bulunamadı. GPU bilgileri alınamadı.\")\n",
        "\n",
        "# GPU bilgilerini kontrol et\n",
        "print(\"GPU bilgileri kontrol ediliyor...\")\n",
        "check_gpu_info()\n",
        "\n",
        "###############################################################################\n",
        "# GPU Bellek Optimizasyonu - Başlangıç\n",
        "###############################################################################\n",
        "# Kullanılabilir GPU     belleğini maksimize et\n",
        "import gc\n",
        "import torch\n",
        "\n",
        "# Önbelleğe alma olmadan torch.cuda.empty_cache()\n",
        "gc.collect()\n",
        "torch.cuda.empty_cache()\n",
        "\n",
        "# Maksimum performans için deterministik optimizasyonları kapat\n",
        "torch.backends.cudnn.benchmark = True\n",
        "torch.backends.cudnn.deterministic = False\n",
        "\n",
        "print(\"GPU bellek optimizasyonları yapıldı.\")\n",
        "\n",
        "\n",
        "\n",
        "# Torch sürümünü kontrol et\n",
        "import torch\n",
        "print(f\"Torch sürümü: {torch.__version__}, CUDA aktif mi: {torch.cuda.is_available()}\")\n",
        "print(f\"CUDA versiyonu: {torch.version.cuda if torch.cuda.is_available() else 'Yok'}\")\n",
        "print(f\"GPU sayısı: {torch.cuda.device_count() if torch.cuda.is_available() else 0}\")\n",
        "if torch.cuda.is_available():\n",
        "    print(f\"GPU adı: {torch.cuda.get_device_name(0)}\")\n",
        "    print(f\"Mevcut GPU belleği: {torch.cuda.get_device_properties(0).total_memory / 1e9:.2f} GB\")\n",
        "\n",
        "###############################################################################\n",
        "# Gerekli kütüphanelerin yüklenmesi\n",
        "###############################################################################\n",
        "import os\n",
        "import numpy as np\n",
        "import torch\n",
        "import torch.nn as nn\n",
        "import torch.optim as optim\n",
        "from torch.utils.data import DataLoader, TensorDataset\n",
        "import matplotlib.pyplot as plt\n",
        "from zipfile import ZipFile\n",
        "import requests\n",
        "from tqdm import tqdm\n",
        "# Performans iyileştirmeleri için ekledik\n",
        "from torch.cuda.amp import autocast, GradScaler\n",
        "import torch.nn.functional as F\n",
        "\n",
        "###############################################################################\n",
        "# Google Drive'dan zip dosyasını indirme\n",
        "###############################################################################\n",
        "def download_file(url, destination):\n",
        "    if os.path.exists(destination):\n",
        "        print(f\"Dosya zaten var: {destination}\")\n",
        "        return True\n",
        "\n",
        "    try:\n",
        "        print(f\"{url} adresinden dosya indiriliyor...\")\n",
        "        response = requests.get(url, stream=True)\n",
        "        response.raise_for_status()\n",
        "\n",
        "        total_size_in_bytes = int(response.headers.get('content-length', 0))\n",
        "        block_size = 8192\n",
        "        progress_bar = tqdm(total=total_size_in_bytes, unit='iB', unit_scale=True)\n",
        "\n",
        "        with open(destination, 'wb') as file:\n",
        "            for data in response.iter_content(block_size):\n",
        "                progress_bar.update(len(data))\n",
        "                file.write(data)\n",
        "        progress_bar.close()\n",
        "\n",
        "        print(f\"İndirme tamamlandı: {destination}\")\n",
        "        return True\n",
        "    except Exception as e:\n",
        "        print(f\"İndirme hatası: {e}\")\n",
        "        return False\n",
        "\n",
        "###############################################################################\n",
        "# Google Drive bağlantısı kurma ve dosyayı alma\n",
        "###############################################################################\n",
        "# Google Drive'dan dosya indirme URL'si (gerçek URL ile değiştirilmeli)\n",
        "drive_url = \"BURAYA_GOOGLE_DRIVE_DOĞRUDAN_İNDİRME_LİNKİ\"\n",
        "data_dir = \"./\"\n",
        "zip_path = os.path.join(data_dir, \"03_numerized_data.zip\")\n",
        "\n",
        "# Hedef dizin kontrolü ve oluşturma\n",
        "target_dir = os.path.dirname(zip_path)\n",
        "if not os.path.exists(target_dir) and target_dir:\n",
        "    os.makedirs(target_dir)\n",
        "    print(f\"{target_dir} klasörü oluşturuldu.\")\n",
        "\n",
        "# Eğer Colab'da çalışıyorsanız bu kodu kullanabilirsiniz\n",
        "try:\n",
        "    from google.colab import drive\n",
        "    drive.mount('/content/drive')\n",
        "    print(\"Google Drive bağlandı. Drive'dan dosyayı kopyalayabilirsiniz.\")\n",
        "    # Google Drive'daki dosya yolu (değiştirilmeli)\n",
        "    drive_zip_path = \"/content/drive/MyDrive/03_numerized_data.zip\"\n",
        "    if os.path.exists(drive_zip_path):\n",
        "        import shutil\n",
        "        shutil.copy(drive_zip_path, zip_path)\n",
        "        print(f\"Dosya kopyalandı: {drive_zip_path} -> {zip_path}\")\n",
        "    else:\n",
        "        print(f\"Dosya bulunamadı: {drive_zip_path}\")\n",
        "except:\n",
        "    print(\"Google Colab ortamında çalışmıyorsunuz. Doğrudan indirme denenecek.\")\n",
        "    if not os.path.exists(zip_path):\n",
        "        download_file(drive_url, zip_path)\n",
        "    else:\n",
        "        print(f\"Dosya zaten var: {zip_path}\")\n",
        "\n",
        "print(f\"İşlem tamamlandı. Dosya şu konumda: {zip_path}\")\n",
        "\n",
        "###############################################################################\n",
        "# Zip dosyasını açma ve verileri yükleme\n",
        "###############################################################################\n",
        "data_dir = \"03_numerized_data/\"\n",
        "os.makedirs(data_dir, exist_ok=True)\n",
        "\n",
        "if os.path.exists(zip_path):\n",
        "    try:\n",
        "        with ZipFile(zip_path, 'r') as zip_ref:\n",
        "            print(f\"Zip dosyası açılıyor: {zip_path}\")\n",
        "            zip_ref.extractall(data_dir)\n",
        "            print(f\"Dosyalar çıkarıldı: {data_dir}\")\n",
        "    except Exception as e:\n",
        "        print(f\"Zip dosyası açılırken hata: {e}\")\n",
        "else:\n",
        "    print(f\"Zip dosyası bulunamadı: {zip_path}\")\n",
        "\n",
        "###############################################################################\n",
        "# Verileri yükleme ve etiket düzeltme\n",
        "###############################################################################\n",
        "data_dir = \"03_numerized_data/03_numerized_data\"\n",
        "try:\n",
        "    print(\"Veriler yükleniyor...\")\n",
        "    # Bellek verimliliği için mmap_mode kullanıyoruz\n",
        "    train_sentences = np.load(os.path.join(data_dir, \"train_sentences.npy\"), mmap_mode='r')\n",
        "    train_labels = np.load(os.path.join(data_dir, \"train_labels.npy\"), mmap_mode='r')\n",
        "    val_sentences = np.load(os.path.join(data_dir, \"validation_sentences.npy\"), mmap_mode='r')\n",
        "    val_labels = np.load(os.path.join(data_dir, \"validation_labels.npy\"), mmap_mode='r')\n",
        "    test_sentences = np.load(os.path.join(data_dir, \"test_sentences.npy\"), mmap_mode='r')\n",
        "    test_labels = np.load(os.path.join(data_dir, \"test_labels.npy\"), mmap_mode='r')\n",
        "\n",
        "    print(f\"Orijinal veri boyutları:\")\n",
        "    print(f\"Eğitim verileri: {train_sentences.shape}, {train_labels.shape}\")\n",
        "    print(f\"Doğrulama verileri: {val_sentences.shape}, {val_labels.shape}\")\n",
        "    print(f\"Test verileri: {test_sentences.shape}, {test_labels.shape}\")\n",
        "except Exception as e:\n",
        "    print(f\"Veriler yüklenirken hata: {e}\")\n",
        "\n",
        "    # Hata durumunda örnek veriler oluşturma\n",
        "    print(\"Örnek veriler oluşturuluyor...\")\n",
        "    vocab_size = 102338\n",
        "    seq_length = 100\n",
        "    num_classes = 8  # NER etiketleri için 8 sınıf (O, B-UNIVERSITE vs.)\n",
        "    train_size = 72339\n",
        "    val_size = 17339\n",
        "    test_size = 17340\n",
        "\n",
        "    train_sentences = np.random.randint(0, vocab_size, size=(train_size, seq_length))\n",
        "    train_labels = np.random.randint(0, num_classes, size=(train_size,))\n",
        "    val_sentences = np.random.randint(0, vocab_size, size=(val_size, seq_length))\n",
        "    val_labels = np.random.randint(0, num_classes, size=(val_size,))\n",
        "    test_sentences = np.random.randint(0, vocab_size, size=(test_size, seq_length))\n",
        "    test_labels = np.random.randint(0, num_classes, size=(test_size,))\n",
        "\n",
        "###############################################################################\n",
        "# Etiket ve sınıf sayısı kontrolü\n",
        "###############################################################################\n",
        "print(\"Etiketleri kontrol ediyorum...\")\n",
        "\n",
        "# NER etiketleri için sınıf sayısı sabit (combined_labels.json'dan alındı)\n",
        "# O: 0, B-UNIVERSITE: 1, B-BOLUM: 2, I-UNIVERSITE: 3, I-BOLUM: 4, B-NUMARA: 5, B-ISIM: 6, B-SOYISIM: 7\n",
        "num_classes = 8\n",
        "\n",
        "# Önce etiketlerin tek boyutlu olmasını sağla\n",
        "if len(train_labels.shape) > 1:\n",
        "    print(f\"Eğitim etiketleri çok boyutlu: {train_labels.shape}, tek boyuta indirgeniyor\")\n",
        "    if train_labels.shape[1] == 1:\n",
        "        train_labels = train_labels.reshape(-1)\n",
        "    else:\n",
        "        print(f\"Çoklu sütun algılandı, ilk sütun kullanılacak\")\n",
        "        train_labels = train_labels[:, 0]\n",
        "\n",
        "if len(val_labels.shape) > 1:\n",
        "    print(f\"Doğrulama etiketleri çok boyutlu: {val_labels.shape}, tek boyuta indirgeniyor\")\n",
        "    if val_labels.shape[1] == 1:\n",
        "        val_labels = val_labels.reshape(-1)\n",
        "    else:\n",
        "        val_labels = val_labels[:, 0]\n",
        "\n",
        "if len(test_labels.shape) > 1:\n",
        "    print(f\"Test etiketleri çok boyutlu: {test_labels.shape}, tek boyuta indirgeniyor\")\n",
        "    if test_labels.shape[1] == 1:\n",
        "        test_labels = test_labels.reshape(-1)\n",
        "    else:\n",
        "        test_labels = test_labels[:, 0]\n",
        "\n",
        "# Etiketleri kontrol et - 0 ile 7 arasında olmalı\n",
        "print(\"NER Etiket değerlerini kontrol ediyorum...\")\n",
        "all_labels = np.concatenate([train_labels, val_labels, test_labels])\n",
        "unique_labels = np.unique(all_labels)\n",
        "print(f\"Mevcut benzersiz etiketler: {unique_labels}\")\n",
        "\n",
        "# Etiketlerde sorun varsa (negatif veya çok büyük değerler) uyar\n",
        "if np.any(unique_labels < 0) or np.any(unique_labels >= num_classes):\n",
        "    print(f\"UYARI: Geçersiz etiket değerleri tespit edildi! Etiketler 0-{num_classes-1} arasında olmalı.\")\n",
        "    # Etiketleri geçerli aralığa düşür\n",
        "    train_labels = np.clip(train_labels, 0, num_classes-1)\n",
        "    val_labels = np.clip(val_labels, 0, num_classes-1)\n",
        "    test_labels = np.clip(test_labels, 0, num_classes-1)\n",
        "    print(\"Etiketler düzeltildi ve geçerli aralığa (0-7) kırpıldı\")\n",
        "\n",
        "# Eğer etiketler hala metin veya farklı bir türdeyse, int64'e dönüştür\n",
        "train_labels = train_labels.astype(np.int64)\n",
        "val_labels = val_labels.astype(np.int64)\n",
        "test_labels = test_labels.astype(np.int64)\n",
        "\n",
        "# Tensör boyutları uyuşmazlığını kontrol et\n",
        "if train_sentences.shape[0] != train_labels.shape[0]:\n",
        "    print(f\"UYARI: Eğitim veri boyutları uyuşmuyor! Cümleler: {train_sentences.shape[0]}, Etiketler: {train_labels.shape[0]}\")\n",
        "    min_train_size = min(train_sentences.shape[0], train_labels.shape[0])\n",
        "    print(f\"Her iki tensörü de {min_train_size} örneğe kırpıyorum\")\n",
        "    train_sentences = train_sentences[:min_train_size]\n",
        "    train_labels = train_labels[:min_train_size]\n",
        "\n",
        "if val_sentences.shape[0] != val_labels.shape[0]:\n",
        "    print(f\"UYARI: Doğrulama veri boyutları uyuşmuyor! Cümleler: {val_sentences.shape[0]}, Etiketler: {val_labels.shape[0]}\")\n",
        "    min_val_size = min(val_sentences.shape[0], val_labels.shape[0])\n",
        "    print(f\"Her iki tensörü de {min_val_size} örneğe kırpıyorum\")\n",
        "    val_sentences = val_sentences[:min_val_size]\n",
        "    val_labels = val_labels[:min_val_size]\n",
        "\n",
        "if test_sentences.shape[0] != test_labels.shape[0]:\n",
        "    print(f\"UYARI: Test veri boyutları uyuşmuyor! Cümleler: {test_sentences.shape[0]}, Etiketler: {test_labels.shape[0]}\")\n",
        "    min_test_size = min(test_sentences.shape[0], test_labels.shape[0])\n",
        "    print(f\"Her iki tensörü de {min_test_size} örneğe kırpıyorum\")\n",
        "    test_sentences = test_sentences[:min_test_size]\n",
        "    test_labels = test_labels[:min_test_size]\n",
        "\n",
        "print(f\"Düzeltilmiş veri boyutları:\")\n",
        "print(f\"Eğitim: {train_sentences.shape}, {train_labels.shape}, Etiket aralığı: {train_labels.min()}-{train_labels.max()}\")\n",
        "print(f\"Doğrulama: {val_sentences.shape}, {val_labels.shape}, Etiket aralığı: {val_labels.min()}-{val_labels.max()}\")\n",
        "print(f\"Test: {test_sentences.shape}, {test_labels.shape}, Etiket aralığı: {test_labels.min()}-{test_labels.max()}\")\n",
        "\n",
        "###############################################################################\n",
        "# Veri hazırlama ve model parametrelerini ayarlama\n",
        "###############################################################################\n",
        "# GPU bellek sınırlamaları için veri tipi seçimi\n",
        "# dtype = torch.float16  # GPU belleğinden tasarruf etmek için yarım hassasiyet\n",
        "# NOT: Karma hassasiyet eğitimi için açık olarak dtype belirtmeyi kaldırıyoruz\n",
        "# Autocast zaten model hesaplamalarını float16'da yapacak\n",
        "\n",
        "# Veriyi PyTorch tensorlarına dönüştürme ve boyut düzeltme\n",
        "print(\"Tensörleri oluşturuyorum...\")\n",
        "train_sentences_tensor = torch.tensor(train_sentences, dtype=torch.long)\n",
        "train_labels_tensor = torch.tensor(train_labels, dtype=torch.long)\n",
        "val_sentences_tensor = torch.tensor(val_sentences, dtype=torch.long)\n",
        "val_labels_tensor = torch.tensor(val_labels, dtype=torch.long)\n",
        "test_sentences_tensor = torch.tensor(test_sentences, dtype=torch.long)\n",
        "test_labels_tensor = torch.tensor(test_labels, dtype=torch.long)\n",
        "\n",
        "# Etiket doğruluğunu kontrol et\n",
        "print(f\"train_sentences_tensor: {train_sentences_tensor.shape}, train_labels_tensor: {train_labels_tensor.shape}, değer aralığı: {train_labels_tensor.min().item()}-{train_labels_tensor.max().item()}\")\n",
        "print(f\"val_sentences_tensor: {val_sentences_tensor.shape}, val_labels_tensor: {val_labels_tensor.shape}, değer aralığı: {val_labels_tensor.min().item()}-{val_labels_tensor.max().item()}\")\n",
        "print(f\"test_sentences_tensor: {test_sentences_tensor.shape}, test_labels_tensor: {test_labels_tensor.shape}, değer aralığı: {test_labels_tensor.min().item()}-{test_labels_tensor.max().item()}\")\n",
        "\n",
        "# Son kontrol - etiketler 0 ile num_classes-1 arasında olmalı\n",
        "if train_labels_tensor.max().item() >= num_classes or train_labels_tensor.min().item() < 0:\n",
        "    raise ValueError(f\"Eğitim etiketleri geçersiz aralıkta! 0-{num_classes-1} arasında olmalı, ancak {train_labels_tensor.min().item()}-{train_labels_tensor.max().item()} aralığında\")\n",
        "\n",
        "# GPU bellek azlığı için optimize edilmiş DataLoader yapılandırması\n",
        "batch_size = 600  # veya 256'ya kadar düşürün\n",
        "num_workers = 2  # İşlemci çekirdek sayısına göre ayarlandı\n",
        "gradient_accumulation_steps = 16  # Daha büyük etkin batch size için gradient accumulation\n",
        "\n",
        "train_dataset = TensorDataset(train_sentences_tensor, train_labels_tensor)\n",
        "train_loader = DataLoader(\n",
        "    train_dataset,\n",
        "    batch_size=batch_size,\n",
        "    shuffle=True,\n",
        "    num_workers=num_workers,\n",
        "    pin_memory=True,\n",
        "    prefetch_factor=2,\n",
        "    persistent_workers=True\n",
        ")\n",
        "\n",
        "val_dataset = TensorDataset(val_sentences_tensor, val_labels_tensor)\n",
        "val_loader = DataLoader(\n",
        "    val_dataset,\n",
        "    batch_size=batch_size * 2,\n",
        "    num_workers=num_workers,\n",
        "    pin_memory=True,\n",
        "    persistent_workers=True\n",
        ")\n",
        "\n",
        "test_dataset = TensorDataset(test_sentences_tensor, test_labels_tensor)\n",
        "test_loader = DataLoader(\n",
        "    test_dataset,\n",
        "    batch_size=batch_size * 2,\n",
        "    num_workers=num_workers,\n",
        "    pin_memory=True,\n",
        "    persistent_workers=True\n",
        ")\n",
        "\n",
        "###############################################################################\n",
        "# Gelişmiş Transformer Model Sınıfı - NER için optimizasyon\n",
        "###############################################################################\n",
        "class TransformerModel(nn.Module):\n",
        "    def __init__(self, vocab_size, embed_dim, num_heads, hidden_dim, num_layers, num_classes, dropout=0.1):\n",
        "        super(TransformerModel, self).__init__()\n",
        "        self.embedding = nn.Embedding(vocab_size, embed_dim)\n",
        "\n",
        "        # Pozisyon kodlaması eklendi\n",
        "        self.pos_encoder = nn.Embedding(2000, embed_dim)\n",
        "\n",
        "        # Normalleştirme katmanı - girişleri normalize eder\n",
        "        self.embed_norm = nn.LayerNorm(embed_dim)\n",
        "\n",
        "        # Gelişmiş katmanlar ile Transformer Encoder\n",
        "        encoder_layers = []\n",
        "        for i in range(num_layers):\n",
        "            # Pre-LayerNorm mimarisi (daha kararlı eğitim)\n",
        "            encoder_layer = nn.TransformerEncoderLayer(\n",
        "                d_model=embed_dim,\n",
        "                nhead=num_heads,\n",
        "                dim_feedforward=hidden_dim,\n",
        "                dropout=dropout,\n",
        "                batch_first=True,\n",
        "                activation='gelu',\n",
        "                norm_first=True  # Pre-LayerNorm - daha kararlı eğitim sağlar\n",
        "            )\n",
        "            encoder_layers.append(encoder_layer)\n",
        "\n",
        "        self.transformer_layers = nn.ModuleList(encoder_layers)\n",
        "\n",
        "        # Son transformer katmanı çıktısını almak için\n",
        "        self.final_norm = nn.LayerNorm(embed_dim)\n",
        "\n",
        "        # Değişken Çıktı Katmanı (gelişmiş generalizasyon)\n",
        "        self.classifier = nn.Sequential(\n",
        "            nn.Linear(embed_dim, hidden_dim // 2),\n",
        "            nn.LayerNorm(hidden_dim // 2),\n",
        "            nn.GELU(),\n",
        "            nn.Dropout(dropout),\n",
        "            nn.Linear(hidden_dim // 2, num_classes)\n",
        "        )\n",
        "\n",
        "        # Token pozisyon ağırlıklandırması için dikkat mekanizması\n",
        "        self.token_attention = nn.Sequential(\n",
        "            nn.Linear(embed_dim, 1),\n",
        "            nn.Sigmoid()\n",
        "        )\n",
        "\n",
        "        # Gradyan akışını düzenleyen faktör\n",
        "        self.grad_multiplier = 4.0\n",
        "\n",
        "    def forward(self, x):\n",
        "        # Padding maskesi - 0 değerli tokenları maskele\n",
        "        padding_mask = (x == 0)\n",
        "\n",
        "        # Gömme işlemi (embedding)\n",
        "        x_embed = self.embedding(x)\n",
        "\n",
        "        # Pozisyon kodlaması ekle\n",
        "        positions = torch.arange(0, x.size(1), device=x.device).unsqueeze(0).expand(x.size(0), -1)\n",
        "        pos_embed = self.pos_encoder(positions)\n",
        "\n",
        "        # Gömme ve pozisyon bilgisini birleştir\n",
        "        x = x_embed + pos_embed\n",
        "\n",
        "        # Normalize et\n",
        "        x = self.embed_norm(x)\n",
        "\n",
        "        # Her bir transformer katmanını sırayla uygula\n",
        "        for layer in self.transformer_layers:\n",
        "            # Gradyan akışını kontrol etmek için\n",
        "            layer_input = x\n",
        "            x = layer(x, src_key_padding_mask=padding_mask)\n",
        "            # Residual bağlantı gradyanlarını güçlendir\n",
        "            x = x + self.grad_multiplier * 0.1 * layer_input\n",
        "\n",
        "        # Son normalize\n",
        "        x = self.final_norm(x)\n",
        "\n",
        "        # Token önemini hesapla\n",
        "        token_weights = self.token_attention(x)\n",
        "\n",
        "        # Sadece geçerli (padding olmayan) tokenlar için ağırlıklı ortalama al\n",
        "        mask = ~padding_mask.unsqueeze(-1)  # [batch_size, seq_len, 1]\n",
        "        weighted_x = x * token_weights * mask.float()\n",
        "        token_sum = weighted_x.sum(dim=1)\n",
        "        token_weights_sum = (token_weights * mask.float()).sum(dim=1).clamp(min=1e-9)\n",
        "        x_weighted = token_sum / token_weights_sum\n",
        "\n",
        "        # Sınıflandırma\n",
        "        logits = self.classifier(x_weighted)\n",
        "\n",
        "        return logits\n",
        "\n",
        "###############################################################################\n",
        "# Model parametreleri - Geliştirilmiş Transformer\n",
        "###############################################################################\n",
        "vocab_size = max(np.max(train_sentences), np.max(val_sentences), np.max(test_sentences)) + 1\n",
        "embed_dim = 1024      # 1024'ten 768'e düşürün\n",
        "num_heads = 16       # 16'dan 12'ye düşürün\n",
        "hidden_dim = 4096    # 4096'dan 3072'ye düşürün\n",
        "num_layers = 8       # 8'den 6'ya düşürün\n",
        "dropout = 0.25       # Daha güçlü regularizasyon\n",
        "weight_decay = 0.05  # L2 regularizasyonu için yüksek değer\n",
        "\n",
        "print(f\"Sözlük boyutu: {vocab_size}\")\n",
        "print(f\"NER için sınıf sayısı: {num_classes}\")\n",
        "print(f\"Model parametreleri: embed_dim={embed_dim}, num_heads={num_heads}, hidden_dim={hidden_dim}, num_layers={num_layers}\")\n",
        "\n",
        "# Kritik bilgi - Loss fonksiyonu için\n",
        "print(f\"CrossEntropyLoss için sınıf aralığı doğrulaması: Sınıf sayısı={num_classes}, Etiket aralığı={train_labels_tensor.min().item()}-{train_labels_tensor.max().item()}\")\n",
        "if train_labels_tensor.min().item() < 0 or train_labels_tensor.max().item() >= num_classes:\n",
        "    raise ValueError(\"Etiketler geçersiz aralıkta! Bu hatayı düzeltmeden devam etmeyin.\")\n",
        "else:\n",
        "    print(\"✅ Etiket aralığı doğrulandı, CrossEntropyLoss için uygun (0-7 arası NER etiketleri)\")\n",
        "\n",
        "###############################################################################\n",
        "# GPU model optimizasyonu\n",
        "###############################################################################\n",
        "# GPU kullanılabiliyorsa kullan\n",
        "device = torch.device(\"cuda\" if torch.cuda.is_available() else \"cpu\")\n",
        "print(f\"Kullanılan cihaz: {device}\")\n",
        "\n",
        "# Model oluşturma\n",
        "model = TransformerModel(vocab_size, embed_dim, num_heads, hidden_dim, num_layers, num_classes, dropout)\n",
        "model = model.to(device)  # Modeli GPU'ya taşı\n",
        "print(f\"Model parametreleri sayısı: {sum(p.numel() for p in model.parameters()):,}\")\n",
        "\n",
        "# GPU kullanım bilgisini göster\n",
        "if torch.cuda.is_available():\n",
        "    print(f\"GPU: {torch.cuda.get_device_name(0)}\")\n",
        "    print(f\"GPU belleği (toplam): {torch.cuda.get_device_properties(0).total_memory / 1e9:.2f} GB\")\n",
        "    print(f\"GPU belleği (kullanılan): {torch.cuda.memory_allocated() / 1e9:.2f} GB\")\n",
        "    print(f\"GPU belleği (önbellek): {torch.cuda.memory_reserved() / 1e9:.2f} GB\")\n",
        "\n",
        "# Karma hassasiyet eğitimi için scaler\n",
        "scaler = GradScaler(enabled=True, growth_factor=1.5, backoff_factor=0.5)\n",
        "\n",
        "# Kayıp fonksiyonu ve optimizer - Geliştirilmiş NER performansı için\n",
        "# Etiket dengesizliğini ele almak için ağırlıklı kayıp kullanıyoruz\n",
        "# NER'de genellikle 'O' etiketi çok fazladır, diğerleri azdır\n",
        "class_weights = torch.ones(num_classes, device=device)\n",
        "class_weights[0] = 0.5  # 'O' etiketi için ağırlığı azalt (en yaygın sınıf)\n",
        "for i in range(1, num_classes):\n",
        "    class_weights[i] = 2.0  # Diğer etiketler için ağırlığı artır\n",
        "\n",
        "criterion = nn.CrossEntropyLoss(\n",
        "    weight=class_weights,\n",
        "    label_smoothing=0.15  # Daha fazla düzgünleştirme\n",
        ")\n",
        "\n",
        "# AdamW optimizer - gelişmiş ağırlık çürümesi ve öğrenme oranı ayarlama\n",
        "optimizer = optim.AdamW(\n",
        "    model.parameters(),\n",
        "    lr=5e-4,  # Başlangıç öğrenme oranı\n",
        "    betas=(0.9, 0.999),\n",
        "    eps=1e-8,\n",
        "    weight_decay=weight_decay  # Daha güçlü regularizasyon\n",
        ")\n",
        "epochs = 80  # 25'ten 50'ye güncellendi\n",
        "# Gelişmiş öğrenme oranı zamanlayıcısı - ısınma ve kosinüs azalması\n",
        "from torch.optim.lr_scheduler import OneCycleLR\n",
        "total_steps = (len(train_loader) // gradient_accumulation_steps + (1 if len(train_loader) % gradient_accumulation_steps != 0 else 0)) * epochs\n",
        "scheduler = OneCycleLR(\n",
        "    optimizer,\n",
        "    max_lr=2e-3,  # Daha yüksek maksimum öğrenme oranı\n",
        "    total_steps=total_steps,\n",
        "    pct_start=0.1,  # %10 ısınma\n",
        "    anneal_strategy='cos',\n",
        "    div_factor=20,  # Başlangıç ve maksimum öğrenme oranları arasındaki oran\n",
        "    final_div_factor=200  # Son öğrenme oranı faktörü\n",
        ")\n",
        "\n",
        "###############################################################################\n",
        "# Model eğitimi\n",
        "###############################################################################\n",
        "epochs = 80  # 25'ten 50'ye güncellendi\n",
        "train_losses = []\n",
        "train_accuracies = []\n",
        "val_losses = []\n",
        "val_accuracies = []\n",
        "best_val_loss = float('inf')\n",
        "best_val_acc = 0.0  # En iyi doğrulama doğruluğunu da takip ediyoruz\n",
        "best_model_path = \"best_model.pt\"\n",
        "best_model_acc_path = \"best_model_acc.pt\"  # Doğruluk tabanlı en iyi model\n",
        "patience = 10  # Erken durdurma için sabır parametresi\n",
        "patience_counter = 0  # Sabır sayacı\n",
        "start_epoch = 0  # Başlangıç epoch'u, checkpoint'ten devam ederken değişecek\n",
        "checkpoint_path = \"model_checkpoint_latest.pt\"  # En son checkpoint'i saklamak için\n",
        "\n",
        "# Checkpoint'ten devam etmek için kontrol yap\n",
        "def try_load_checkpoint():\n",
        "    global model, optimizer, scheduler, start_epoch, best_val_loss, best_val_acc, train_losses, train_accuracies, val_losses, val_accuracies\n",
        "\n",
        "    # Önce en son checkpoint'i kontrol et\n",
        "    if os.path.exists(checkpoint_path):\n",
        "        print(f\"En son checkpoint bulundu: {checkpoint_path}\")\n",
        "        try:\n",
        "            checkpoint = torch.load(checkpoint_path, map_location=device)\n",
        "            model.load_state_dict(checkpoint['model_state_dict'])\n",
        "            optimizer.load_state_dict(checkpoint['optimizer_state_dict'])\n",
        "\n",
        "            # Scheduler state'i varsa yükle\n",
        "            if 'scheduler_state_dict' in checkpoint and checkpoint['scheduler_state_dict'] is not None:\n",
        "                scheduler.load_state_dict(checkpoint['scheduler_state_dict'])\n",
        "\n",
        "            start_epoch = checkpoint['epoch'] + 1  # Son kaydedilen epoch'tan sonraki epoch'tan başla\n",
        "\n",
        "            if 'best_val_loss' in checkpoint:\n",
        "                best_val_loss = checkpoint['best_val_loss']\n",
        "            if 'best_val_acc' in checkpoint:\n",
        "                best_val_acc = checkpoint['best_val_acc']\n",
        "            if 'train_losses' in checkpoint:\n",
        "                train_losses = checkpoint['train_losses']\n",
        "            if 'train_accuracies' in checkpoint:\n",
        "                train_accuracies = checkpoint['train_accuracies']\n",
        "            if 'val_losses' in checkpoint:\n",
        "                val_losses = checkpoint['val_losses']\n",
        "            if 'val_accuracies' in checkpoint:\n",
        "                val_accuracies = checkpoint['val_accuracies']\n",
        "\n",
        "            print(f\"Eğitime epoch {start_epoch}/{epochs}'den devam ediliyor\")\n",
        "            print(f\"En iyi doğrulama kaybı: {best_val_loss:.4f}, En iyi doğrulama doğruluğu: {best_val_acc:.2f}%\")\n",
        "            return True\n",
        "        except Exception as e:\n",
        "            print(f\"Checkpoint yüklenirken hata: {e}\")\n",
        "            return False\n",
        "\n",
        "    # Son checkpoint yoksa, belirli bir epoch checkpointi var mı diye kontrol et\n",
        "    latest_epoch = -1\n",
        "    latest_checkpoint = None\n",
        "\n",
        "    # Tüm checkpoint dosyalarını kontrol et\n",
        "    for filename in os.listdir('.'):\n",
        "        if filename.startswith(\"model_checkpoint_epoch_\"):\n",
        "            try:\n",
        "                epoch_num = int(filename.split('_')[-1].split('.')[0])\n",
        "                if epoch_num > latest_epoch:\n",
        "                    latest_epoch = epoch_num\n",
        "                    latest_checkpoint = filename\n",
        "            except:\n",
        "                continue\n",
        "\n",
        "    if latest_checkpoint:\n",
        "        print(f\"En son epoch checkpoint'i bulundu: {latest_checkpoint}\")\n",
        "        try:\n",
        "            checkpoint = torch.load(latest_checkpoint, map_location=device)\n",
        "            model.load_state_dict(checkpoint['model_state_dict'])\n",
        "            optimizer.load_state_dict(checkpoint['optimizer_state_dict'])\n",
        "\n",
        "            # Scheduler state'i varsa yükle\n",
        "            if 'scheduler_state_dict' in checkpoint and checkpoint['scheduler_state_dict'] is not None:\n",
        "                scheduler.load_state_dict(checkpoint['scheduler_state_dict'])\n",
        "\n",
        "            start_epoch = checkpoint['epoch'] + 1  # Son kaydedilen epoch'tan sonraki epoch'tan başla\n",
        "\n",
        "            print(f\"Eğitime epoch {start_epoch}/{epochs}'den devam ediliyor\")\n",
        "            return True\n",
        "        except Exception as e:\n",
        "            print(f\"Checkpoint yüklenirken hata: {e}\")\n",
        "            return False\n",
        "\n",
        "    print(\"Checkpoint bulunamadı. Eğitim sıfırdan başlayacak.\")\n",
        "    return False\n",
        "\n",
        "###############################################################################\n",
        "# Optimize edilmiş eğitim fonksiyonları\n",
        "###############################################################################\n",
        "# Eğitim fonksiyonu (karma hassasiyetle ve gradient accumulation ile)\n",
        "def train_epoch(model, loader, optimizer, criterion, device, scaler, scheduler):\n",
        "    model.train()\n",
        "    total_loss = 0\n",
        "    correct = 0\n",
        "    total = 0\n",
        "    optimizer.zero_grad(set_to_none=True)\n",
        "\n",
        "    progress_bar = tqdm(loader, desc=\"Eğitim\")\n",
        "    for batch_idx, (inputs, targets) in enumerate(progress_bar):\n",
        "        inputs, targets = inputs.to(device, non_blocking=True), targets.to(device, non_blocking=True)\n",
        "\n",
        "        # Karma hassasiyet eğitimi\n",
        "        with autocast():\n",
        "            outputs = model(inputs)\n",
        "            loss = criterion(outputs, targets) / gradient_accumulation_steps\n",
        "\n",
        "        # Karma hassasiyet geriye yayılım\n",
        "        scaler.scale(loss).backward()\n",
        "\n",
        "        # Gradient biriktirme - her N adımda bir optimize et\n",
        "        if (batch_idx + 1) % gradient_accumulation_steps == 0 or (batch_idx + 1) == len(loader):\n",
        "            # Gradyan patlamasını önle\n",
        "            torch.nn.utils.clip_grad_norm_(model.parameters(), max_norm=1.0)\n",
        "\n",
        "            scaler.step(optimizer)\n",
        "            scaler.update()\n",
        "            optimizer.zero_grad(set_to_none=True)\n",
        "\n",
        "            # OneCycleLR sadece gerçek optimize adımlarında güncellenir\n",
        "            scheduler.step()\n",
        "\n",
        "            # Düzenli aralıklarla öğrenme oranlarını yazdır\n",
        "            if batch_idx % (gradient_accumulation_steps * 10) == 0:\n",
        "                lr = optimizer.param_groups[0]['lr']\n",
        "                print(f\"  Batch: {batch_idx}/{len(loader)}, LR: {lr:.6f}\")\n",
        "\n",
        "        # Gerçek kaybı hesapla (ölçeklenmemiş)\n",
        "        total_loss += loss.item() * gradient_accumulation_steps\n",
        "        _, predicted = outputs.max(1)\n",
        "        total += targets.size(0)\n",
        "        correct += predicted.eq(targets).sum().item()\n",
        "\n",
        "        # Progress bar güncelleme\n",
        "        progress_bar.set_postfix({\n",
        "            'loss': f\"{total_loss/(batch_idx+1):.4f}\",\n",
        "            'acc': f\"{100.*correct/total:.2f}%\",\n",
        "            'lr': f\"{scheduler.get_last_lr()[0]:.6f}\"\n",
        "        })\n",
        "\n",
        "        # GPU belleğini temizle\n",
        "        if batch_idx % 5 == 0:  # Daha sık temizle\n",
        "            torch.cuda.empty_cache()\n",
        "\n",
        "    accuracy = 100. * correct / total\n",
        "    avg_loss = total_loss / len(loader)\n",
        "    return avg_loss, accuracy\n",
        "\n",
        "# Doğrulama fonksiyonu\n",
        "def validate(model, loader, criterion, device):\n",
        "    model.eval()\n",
        "    total_loss = 0\n",
        "    correct = 0\n",
        "    total = 0\n",
        "\n",
        "    with torch.no_grad():\n",
        "        progress_bar = tqdm(loader, desc=\"Doğrulama\")\n",
        "        for batch_idx, (inputs, targets) in enumerate(progress_bar):\n",
        "            inputs, targets = inputs.to(device, non_blocking=True), targets.to(device, non_blocking=True)\n",
        "\n",
        "            with autocast():\n",
        "                outputs = model(inputs)\n",
        "                loss = criterion(outputs, targets)\n",
        "\n",
        "            total_loss += loss.item()\n",
        "            _, predicted = outputs.max(1)\n",
        "            total += targets.size(0)\n",
        "            correct += predicted.eq(targets).sum().item()\n",
        "\n",
        "            # Progress bar güncelleme\n",
        "            progress_bar.set_postfix({\n",
        "                'loss': f\"{total_loss/(batch_idx+1):.4f}\",\n",
        "                'acc': f\"{100.*correct/total:.2f}%\"\n",
        "            })\n",
        "\n",
        "    accuracy = 100. * correct / total\n",
        "    avg_loss = total_loss / len(loader)\n",
        "    return avg_loss, accuracy\n",
        "\n",
        "###############################################################################\n",
        "# Model eğitimi\n",
        "###############################################################################\n",
        "print(\"Model eğitimi başlıyor...\")\n",
        "\n",
        "try:\n",
        "    # Checkpoint'ten devam etmeyi dene\n",
        "    try_load_checkpoint()\n",
        "\n",
        "    for epoch in range(start_epoch, epochs):\n",
        "        print(f\"\\nEpoch {epoch+1}/{epochs} başlıyor...\")\n",
        "\n",
        "        # GPU belleğini temizle\n",
        "        torch.cuda.empty_cache()\n",
        "\n",
        "        # Eğitim\n",
        "        train_loss, train_accuracy = train_epoch(model, train_loader, optimizer, criterion, device, scaler, scheduler)\n",
        "        train_losses.append(train_loss)\n",
        "        train_accuracies.append(train_accuracy)\n",
        "\n",
        "        # Doğrulama öncesi GPU belleğini temizle\n",
        "        torch.cuda.empty_cache()\n",
        "\n",
        "        # Doğrulama\n",
        "        val_loss, val_accuracy = validate(model, val_loader, criterion, device)\n",
        "        val_losses.append(val_loss)\n",
        "        val_accuracies.append(val_accuracy)\n",
        "\n",
        "        # Güncel öğrenme oranını al\n",
        "        current_lr = optimizer.param_groups[0]['lr']\n",
        "\n",
        "        # En iyi modeli kaydet - kayıp tabanlı\n",
        "        model_improved = False\n",
        "        if val_loss < best_val_loss:\n",
        "            best_val_loss = val_loss\n",
        "            model_improved = True\n",
        "\n",
        "            # Model durumunu ve konfigürasyonu kaydet\n",
        "            checkpoint = {\n",
        "                'epoch': epoch,\n",
        "                'model_state_dict': model.state_dict(),\n",
        "                'optimizer_state_dict': optimizer.state_dict(),\n",
        "                'scheduler_state_dict': scheduler.state_dict() if hasattr(scheduler, 'state_dict') else None,\n",
        "                'loss': val_loss,\n",
        "                'accuracy': val_accuracy,\n",
        "                'config': {\n",
        "                    'vocab_size': vocab_size,\n",
        "                    'embed_dim': embed_dim,\n",
        "                    'num_heads': num_heads,\n",
        "                    'hidden_dim': hidden_dim,\n",
        "                    'num_layers': num_layers,\n",
        "                    'num_classes': num_classes,\n",
        "                    'dropout': dropout\n",
        "                }\n",
        "            }\n",
        "\n",
        "            torch.save(checkpoint, best_model_path)\n",
        "            print(f\"Yeni en iyi model kaydedildi (loss): {best_model_path}\")\n",
        "            patience_counter = 0  # Sabır sayacını sıfırla\n",
        "        else:\n",
        "            patience_counter += 1  # Sabır sayacını artır\n",
        "\n",
        "        # Doğruluk bazlı en iyi modeli de kaydet\n",
        "        if val_accuracy > best_val_acc:\n",
        "            best_val_acc = val_accuracy\n",
        "\n",
        "            # Doğruluk bazlı model durumunu kaydet\n",
        "            acc_checkpoint = {\n",
        "                'epoch': epoch,\n",
        "                'model_state_dict': model.state_dict(),\n",
        "                'accuracy': val_accuracy,\n",
        "                'loss': val_loss,\n",
        "                'config': {\n",
        "                    'vocab_size': vocab_size,\n",
        "                    'embed_dim': embed_dim,\n",
        "                    'num_heads': num_heads,\n",
        "                    'hidden_dim': hidden_dim,\n",
        "                    'num_layers': num_layers,\n",
        "                    'num_classes': num_classes,\n",
        "                    'dropout': dropout\n",
        "                }\n",
        "            }\n",
        "\n",
        "            torch.save(acc_checkpoint, best_model_acc_path)\n",
        "            print(f\"Yeni en iyi model kaydedildi (acc): {best_model_acc_path}\")\n",
        "\n",
        "        print(f\"Epoch {epoch+1}/{epochs}: \"\n",
        "              f\"Train Loss: {train_loss:.4f}, Train Acc: {train_accuracy:.2f}%, \"\n",
        "              f\"Val Loss: {val_loss:.4f}, Val Acc: {val_accuracy:.2f}%, \"\n",
        "              f\"LR: {current_lr:.6f}\")\n",
        "\n",
        "        # Her epoch sonunda en son durumu kaydet (en son checkpoint)\n",
        "        latest_checkpoint = {\n",
        "            'epoch': epoch,\n",
        "            'model_state_dict': model.state_dict(),\n",
        "            'optimizer_state_dict': optimizer.state_dict(),\n",
        "            'scheduler_state_dict': scheduler.state_dict() if hasattr(scheduler, 'state_dict') else None,\n",
        "            'loss': val_loss,\n",
        "            'accuracy': val_accuracy,\n",
        "            'best_val_loss': best_val_loss,\n",
        "            'best_val_acc': best_val_acc,\n",
        "            'train_losses': train_losses,\n",
        "            'train_accuracies': train_accuracies,\n",
        "            'val_losses': val_losses,\n",
        "            'val_accuracies': val_accuracies\n",
        "        }\n",
        "        torch.save(latest_checkpoint, checkpoint_path)\n",
        "        print(f\"En son durum kaydedildi: {checkpoint_path}\")\n",
        "\n",
        "        # Her 5 epoch'ta ara checkpoint kaydet\n",
        "        if (epoch + 1) % 5 == 0:\n",
        "            specific_checkpoint_path = f\"model_checkpoint_epoch_{epoch+1}.pt\"\n",
        "            torch.save(latest_checkpoint, specific_checkpoint_path)\n",
        "            print(f\"Checkpoint kaydedildi: {specific_checkpoint_path}\")\n",
        "\n",
        "        # GPU kullanım istatistikleri\n",
        "        if torch.cuda.is_available():\n",
        "            print(f\"GPU belleği (kullanılan): {torch.cuda.memory_allocated() / 1e9:.2f} GB\")\n",
        "            print(f\"GPU belleği (önbellek): {torch.cuda.memory_reserved() / 1e9:.2f} GB\")\n",
        "\n",
        "        # Erken durdurma kontrolü\n",
        "        if patience_counter >= patience:\n",
        "            print(f\"Validation loss {patience} epoch'tur iyileşmiyor. Eğitim erken durduruluyor.\")\n",
        "            print(f\"En iyi validation loss: {best_val_loss:.4f}, En iyi validation accuracy: {best_val_acc:.2f}%\")\n",
        "            break\n",
        "\n",
        "except KeyboardInterrupt:\n",
        "    print(\"Eğitim kullanıcı tarafından durduruldu.\")\n",
        "\n",
        "    # Yarıda kesilme durumunda mevcut durumu kaydet\n",
        "    interrupt_checkpoint = {\n",
        "        'epoch': epoch,\n",
        "        'model_state_dict': model.state_dict(),\n",
        "        'optimizer_state_dict': optimizer.state_dict(),\n",
        "        'scheduler_state_dict': scheduler.state_dict() if hasattr(scheduler, 'state_dict') else None,\n",
        "        'best_val_loss': best_val_loss,\n",
        "        'best_val_acc': best_val_acc\n",
        "    }\n",
        "    torch.save(interrupt_checkpoint, \"model_interrupt.pt\")\n",
        "    print(\"Yarıda kesilme durumu kaydedildi: model_interrupt.pt\")\n",
        "\n",
        "except Exception as e:\n",
        "    print(f\"Eğitim sırasında hata: {e}\")\n",
        "    import traceback\n",
        "    traceback.print_exc()\n"
      ]
    },
    {
      "cell_type": "markdown",
      "metadata": {},
      "source": [
        "Epoch 56/80 starting...\n",
        "Training: 100%|██████████| 117/117 [01:30<00:00,  1.29it/s, loss=0.5903, acc=100.00%, lr=0.000496]\n",
        "Validation: 100%|██████████| 13/13 [00:07<00:00,  1.82it/s, loss=0.6183, acc=99.13%]\n",
        "Epoch 56/80: Train Loss: 0.5903, Train Accuracy: 100.00%, Val Loss: 0.6183, Val Accuracy: 99.13%, LR: 0.000496\n",
        "Latest checkpoint saved: model_checkpoint_latest.pt\n",
        "GPU memory (used): 5.90 GB\n",
        "GPU memory (cached): 8.61 GB\n",
        "Validation loss has not improved for 10 epochs. Training is stopped early.\n",
        "Best validation loss: 0.6155, Best validation accuracy: 99.18%"
      ]
    },
    {
      "cell_type": "code",
      "execution_count": null,
      "metadata": {},
      "outputs": [],
      "source": []
    },
    {
      "cell_type": "code",
      "execution_count": 12,
      "metadata": {
        "id": "iNWrJmz5cvP8"
      },
      "outputs": [],
      "source": [
        "import torch\n",
        "torch.cuda.empty_cache()\n",
        "torch.cuda.ipc_collect()\n"
      ]
    },
    {
      "cell_type": "code",
      "execution_count": 15,
      "metadata": {
        "colab": {
          "base_uri": "https://localhost:8080/",
          "height": 592
        },
        "id": "ddnmRYSc92Xe",
        "outputId": "15569181-0064-47e4-feea-b3d87e1a8ea0"
      },
      "outputs": [
        {
          "name": "stdout",
          "output_type": "stream",
          "text": [
            "En iyi model yüklendi: Epoch 46, Accuracy: 99.18%\n"
          ]
        },
        {
          "name": "stderr",
          "output_type": "stream",
          "text": [
            "Doğrulama: 100%|██████████| 13/13 [00:07<00:00,  1.80it/s, loss=0.6148, acc=99.19%]\n"
          ]
        },
        {
          "name": "stdout",
          "output_type": "stream",
          "text": [
            "Test Accuracy: 99.19%\n",
            "Test Loss: 0.6148\n"
          ]
        },
        {
          "data": {
            "image/png": "[encoded data removed]",
            "text/plain": [
              "<Figure size 1200x500 with 2 Axes>"
            ]
          },
          "metadata": {},
          "output_type": "display_data"
        }
      ],
      "source": [
        "\n",
        "###############################################################################\n",
        "# Test değerlendirmesi\n",
        "###############################################################################\n",
        "# GPU belleğini temizle\n",
        "torch.cuda.empty_cache()\n",
        "\n",
        "# En iyi modeli yükle\n",
        "if os.path.exists(best_model_path):\n",
        "    checkpoint = torch.load(best_model_path, map_location=device)\n",
        "\n",
        "    # Modeli yeni parametrelerle baştan oluştur\n",
        "    config = checkpoint['config']\n",
        "    model = TransformerModel(\n",
        "        config['vocab_size'],\n",
        "        config['embed_dim'],\n",
        "        config['num_heads'],\n",
        "        config['hidden_dim'],\n",
        "        config['num_layers'],\n",
        "        config['num_classes'],\n",
        "        config['dropout']\n",
        "    )\n",
        "\n",
        "    model.load_state_dict(checkpoint['model_state_dict'])\n",
        "    model = model.to(device)  # Modeli GPU'ya taşı, dtype belirtmeden\n",
        "    print(f\"En iyi model yüklendi: Epoch {checkpoint['epoch']+1}, Accuracy: {checkpoint['accuracy']:.2f}%\")\n",
        "else:\n",
        "    print(\"En iyi model bulunamadı, mevcut model kullanılacak\")\n",
        "\n",
        "# Test değerlendirmesi\n",
        "test_loss, test_accuracy = validate(model, test_loader, criterion, device)\n",
        "print(f\"Test Accuracy: {test_accuracy:.2f}%\")\n",
        "print(f\"Test Loss: {test_loss:.4f}\")\n",
        "\n",
        "###############################################################################\n",
        "# Eğitim grafiklerini çizme\n",
        "###############################################################################\n",
        "plt.figure(figsize=(12, 5))\n",
        "\n",
        "# Kayıp grafiği\n",
        "plt.subplot(1, 2, 1)\n",
        "plt.plot(train_losses, label='Eğitim Kaybı', color='blue')\n",
        "plt.plot(val_losses, label='Doğrulama Kaybı', color='red')\n",
        "plt.xlabel('Epoch')\n",
        "plt.ylabel('Kayıp')\n",
        "plt.title('Eğitim ve Doğrulama Kaybı')\n",
        "plt.legend()\n",
        "plt.grid(True)\n",
        "\n",
        "# Doğruluk grafiği\n",
        "plt.subplot(1, 2, 2)\n",
        "plt.plot(train_accuracies, label='Eğitim Doğruluğu', color='blue')\n",
        "plt.plot(val_accuracies, label='Doğrulama Doğruluğu', color='red')\n",
        "plt.xlabel('Epoch')\n",
        "plt.ylabel('Doğruluk (%)')\n",
        "plt.title('Eğitim ve Doğrulama Doğruluğu')\n",
        "plt.legend()\n",
        "plt.grid(True)\n",
        "\n",
        "plt.tight_layout()\n",
        "plt.savefig('egitim_grafikleri.png')\n",
        "plt.show()\n"
      ]
    },
    {
      "cell_type": "code",
      "execution_count": 16,
      "metadata": {
        "colab": {
          "base_uri": "https://localhost:8080/"
        },
        "id": "khLpG5XJ-KgB",
        "outputId": "64560fea-d45a-40e2-cfb1-907a80a2564b"
      },
      "outputs": [
        {
          "name": "stdout",
          "output_type": "stream",
          "text": [
            "Model Google Drive'a kaydedildi: /content/drive/MyDrive/model_kayitlari/best_model.pt\n",
            "Grafikler Google Drive'a kaydedildi: /content/drive/MyDrive/model_kayitlari/egitim_grafikleri.png\n"
          ]
        }
      ],
      "source": [
        "\n",
        "###############################################################################\n",
        "# Google Drive'a kaydetme (Colab'da çalışırken)\n",
        "###############################################################################\n",
        "try:\n",
        "    from google.colab import drive\n",
        "    if not os.path.exists('/content/drive'):\n",
        "        drive.mount('/content/drive')\n",
        "\n",
        "    # Kaydedilecek dizin\n",
        "    save_dir = \"/content/drive/MyDrive/model_kayitlari\"\n",
        "    os.makedirs(save_dir, exist_ok=True)\n",
        "\n",
        "    # En iyi modeli Google Drive'a kopyala\n",
        "    if os.path.exists(best_model_path):\n",
        "        import shutil\n",
        "        drive_model_path = os.path.join(save_dir, \"best_model.pt\")\n",
        "        shutil.copy(best_model_path, drive_model_path)\n",
        "        print(f\"Model Google Drive'a kaydedildi: {drive_model_path}\")\n",
        "\n",
        "    # Grafikleri Google Drive'a kopyala\n",
        "    if os.path.exists('egitim_grafikleri.png'):\n",
        "        import shutil\n",
        "        drive_graph_path = os.path.join(save_dir, \"egitim_grafikleri.png\")\n",
        "        shutil.copy('egitim_grafikleri.png', drive_graph_path)\n",
        "        print(f\"Grafikler Google Drive'a kaydedildi: {drive_graph_path}\")\n",
        "except:\n",
        "    print(\"Google Colab ortamında çalışmıyorsunuz veya Drive bağlantısı başarısız.\")"
      ]
    }
  ],
  "metadata": {
    "accelerator": "GPU",
    "colab": {
      "gpuType": "T4",
      "provenance": []
    },
    "kernelspec": {
      "display_name": "Python 3",
      "name": "python3"
    },
    "language_info": {
      "name": "python"
    }
  },
  "nbformat": 4,
  "nbformat_minor": 0
}
